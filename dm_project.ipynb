{
 "cells": [
  {
   "metadata": {},
   "cell_type": "markdown",
   "source": [
    "# Data Mining project\n",
    "## Members:\n",
    "- Mateusz Idziejczak 155842\n",
    "- Mateusz Stawicki 155900\n",
    "- Anastasiya\n",
    "- Baris\n",
    "## Dataset\n",
    "The dataset we are going to use is the [Titanic](https://www.kaggle.com/competitions/titanic) dataset from Kaggle. It contains data of 2224 passengers. The dataset is in a CSV format and contains TODO columns. The columns are: TODO"
   ],
   "id": "96e2225092388dae"
  },
  {
   "metadata": {},
   "cell_type": "markdown",
   "source": [
    "## Implementation\n",
    "### Data loading\n",
    "First we need to load the data from the CSV file. We will use the pandas library to do this.\n"
   ],
   "id": "c974cf66c445dca7"
  },
  {
   "metadata": {
    "ExecuteTime": {
     "end_time": "2024-04-04T14:24:29.453414Z",
     "start_time": "2024-04-04T14:24:29.449265Z"
    }
   },
   "cell_type": "code",
   "source": [
    "import pandas as pd\n",
    "\n",
    "data = pd.read_csv('data/train.csv')"
   ],
   "id": "cf732e45f866d5fc",
   "outputs": [],
   "execution_count": 748
  },
  {
   "metadata": {},
   "cell_type": "markdown",
   "source": [
    "### Data exploration\n",
    "Now we will explore the data to see what it contains."
   ],
   "id": "7612a3f9e252934b"
  },
  {
   "metadata": {
    "ExecuteTime": {
     "end_time": "2024-04-04T14:24:29.484038Z",
     "start_time": "2024-04-04T14:24:29.479127Z"
    }
   },
   "cell_type": "code",
   "source": "data.head()",
   "id": "e870b78d86a0ef2c",
   "outputs": [
    {
     "data": {
      "text/plain": [
       "   PassengerId  Survived  Pclass  \\\n",
       "0            1         0       3   \n",
       "1            2         1       1   \n",
       "2            3         1       3   \n",
       "3            4         1       1   \n",
       "4            5         0       3   \n",
       "\n",
       "                                                  Name     Sex   Age  SibSp  \\\n",
       "0                              Braund, Mr. Owen Harris    male  22.0      1   \n",
       "1  Cumings, Mrs. John Bradley (Florence Briggs Thayer)  female  38.0      1   \n",
       "2                               Heikkinen, Miss. Laina  female  26.0      0   \n",
       "3         Futrelle, Mrs. Jacques Heath (Lily May Peel)  female  35.0      1   \n",
       "4                             Allen, Mr. William Henry    male  35.0      0   \n",
       "\n",
       "   Parch            Ticket     Fare Cabin Embarked  \n",
       "0      0         A/5 21171   7.2500   NaN        S  \n",
       "1      0          PC 17599  71.2833   C85        C  \n",
       "2      0  STON/O2. 3101282   7.9250   NaN        S  \n",
       "3      0            113803  53.1000  C123        S  \n",
       "4      0            373450   8.0500   NaN        S  "
      ],
      "text/html": [
       "<div>\n",
       "<style scoped>\n",
       "    .dataframe tbody tr th:only-of-type {\n",
       "        vertical-align: middle;\n",
       "    }\n",
       "\n",
       "    .dataframe tbody tr th {\n",
       "        vertical-align: top;\n",
       "    }\n",
       "\n",
       "    .dataframe thead th {\n",
       "        text-align: right;\n",
       "    }\n",
       "</style>\n",
       "<table border=\"1\" class=\"dataframe\">\n",
       "  <thead>\n",
       "    <tr style=\"text-align: right;\">\n",
       "      <th></th>\n",
       "      <th>PassengerId</th>\n",
       "      <th>Survived</th>\n",
       "      <th>Pclass</th>\n",
       "      <th>Name</th>\n",
       "      <th>Sex</th>\n",
       "      <th>Age</th>\n",
       "      <th>SibSp</th>\n",
       "      <th>Parch</th>\n",
       "      <th>Ticket</th>\n",
       "      <th>Fare</th>\n",
       "      <th>Cabin</th>\n",
       "      <th>Embarked</th>\n",
       "    </tr>\n",
       "  </thead>\n",
       "  <tbody>\n",
       "    <tr>\n",
       "      <th>0</th>\n",
       "      <td>1</td>\n",
       "      <td>0</td>\n",
       "      <td>3</td>\n",
       "      <td>Braund, Mr. Owen Harris</td>\n",
       "      <td>male</td>\n",
       "      <td>22.0</td>\n",
       "      <td>1</td>\n",
       "      <td>0</td>\n",
       "      <td>A/5 21171</td>\n",
       "      <td>7.2500</td>\n",
       "      <td>NaN</td>\n",
       "      <td>S</td>\n",
       "    </tr>\n",
       "    <tr>\n",
       "      <th>1</th>\n",
       "      <td>2</td>\n",
       "      <td>1</td>\n",
       "      <td>1</td>\n",
       "      <td>Cumings, Mrs. John Bradley (Florence Briggs Thayer)</td>\n",
       "      <td>female</td>\n",
       "      <td>38.0</td>\n",
       "      <td>1</td>\n",
       "      <td>0</td>\n",
       "      <td>PC 17599</td>\n",
       "      <td>71.2833</td>\n",
       "      <td>C85</td>\n",
       "      <td>C</td>\n",
       "    </tr>\n",
       "    <tr>\n",
       "      <th>2</th>\n",
       "      <td>3</td>\n",
       "      <td>1</td>\n",
       "      <td>3</td>\n",
       "      <td>Heikkinen, Miss. Laina</td>\n",
       "      <td>female</td>\n",
       "      <td>26.0</td>\n",
       "      <td>0</td>\n",
       "      <td>0</td>\n",
       "      <td>STON/O2. 3101282</td>\n",
       "      <td>7.9250</td>\n",
       "      <td>NaN</td>\n",
       "      <td>S</td>\n",
       "    </tr>\n",
       "    <tr>\n",
       "      <th>3</th>\n",
       "      <td>4</td>\n",
       "      <td>1</td>\n",
       "      <td>1</td>\n",
       "      <td>Futrelle, Mrs. Jacques Heath (Lily May Peel)</td>\n",
       "      <td>female</td>\n",
       "      <td>35.0</td>\n",
       "      <td>1</td>\n",
       "      <td>0</td>\n",
       "      <td>113803</td>\n",
       "      <td>53.1000</td>\n",
       "      <td>C123</td>\n",
       "      <td>S</td>\n",
       "    </tr>\n",
       "    <tr>\n",
       "      <th>4</th>\n",
       "      <td>5</td>\n",
       "      <td>0</td>\n",
       "      <td>3</td>\n",
       "      <td>Allen, Mr. William Henry</td>\n",
       "      <td>male</td>\n",
       "      <td>35.0</td>\n",
       "      <td>0</td>\n",
       "      <td>0</td>\n",
       "      <td>373450</td>\n",
       "      <td>8.0500</td>\n",
       "      <td>NaN</td>\n",
       "      <td>S</td>\n",
       "    </tr>\n",
       "  </tbody>\n",
       "</table>\n",
       "</div>"
      ]
     },
     "execution_count": 749,
     "metadata": {},
     "output_type": "execute_result"
    }
   ],
   "execution_count": 749
  },
  {
   "metadata": {
    "ExecuteTime": {
     "end_time": "2024-04-04T14:24:29.493391Z",
     "start_time": "2024-04-04T14:24:29.485003Z"
    }
   },
   "cell_type": "code",
   "source": "data.describe()",
   "id": "fd46b529e859a897",
   "outputs": [
    {
     "data": {
      "text/plain": [
       "       PassengerId    Survived      Pclass         Age       SibSp  \\\n",
       "count   891.000000  891.000000  891.000000  714.000000  891.000000   \n",
       "mean    446.000000    0.383838    2.308642   29.699118    0.523008   \n",
       "std     257.353842    0.486592    0.836071   14.526497    1.102743   \n",
       "min       1.000000    0.000000    1.000000    0.420000    0.000000   \n",
       "25%     223.500000    0.000000    2.000000   20.125000    0.000000   \n",
       "50%     446.000000    0.000000    3.000000   28.000000    0.000000   \n",
       "75%     668.500000    1.000000    3.000000   38.000000    1.000000   \n",
       "max     891.000000    1.000000    3.000000   80.000000    8.000000   \n",
       "\n",
       "            Parch        Fare  \n",
       "count  891.000000  891.000000  \n",
       "mean     0.381594   32.204208  \n",
       "std      0.806057   49.693429  \n",
       "min      0.000000    0.000000  \n",
       "25%      0.000000    7.910400  \n",
       "50%      0.000000   14.454200  \n",
       "75%      0.000000   31.000000  \n",
       "max      6.000000  512.329200  "
      ],
      "text/html": [
       "<div>\n",
       "<style scoped>\n",
       "    .dataframe tbody tr th:only-of-type {\n",
       "        vertical-align: middle;\n",
       "    }\n",
       "\n",
       "    .dataframe tbody tr th {\n",
       "        vertical-align: top;\n",
       "    }\n",
       "\n",
       "    .dataframe thead th {\n",
       "        text-align: right;\n",
       "    }\n",
       "</style>\n",
       "<table border=\"1\" class=\"dataframe\">\n",
       "  <thead>\n",
       "    <tr style=\"text-align: right;\">\n",
       "      <th></th>\n",
       "      <th>PassengerId</th>\n",
       "      <th>Survived</th>\n",
       "      <th>Pclass</th>\n",
       "      <th>Age</th>\n",
       "      <th>SibSp</th>\n",
       "      <th>Parch</th>\n",
       "      <th>Fare</th>\n",
       "    </tr>\n",
       "  </thead>\n",
       "  <tbody>\n",
       "    <tr>\n",
       "      <th>count</th>\n",
       "      <td>891.000000</td>\n",
       "      <td>891.000000</td>\n",
       "      <td>891.000000</td>\n",
       "      <td>714.000000</td>\n",
       "      <td>891.000000</td>\n",
       "      <td>891.000000</td>\n",
       "      <td>891.000000</td>\n",
       "    </tr>\n",
       "    <tr>\n",
       "      <th>mean</th>\n",
       "      <td>446.000000</td>\n",
       "      <td>0.383838</td>\n",
       "      <td>2.308642</td>\n",
       "      <td>29.699118</td>\n",
       "      <td>0.523008</td>\n",
       "      <td>0.381594</td>\n",
       "      <td>32.204208</td>\n",
       "    </tr>\n",
       "    <tr>\n",
       "      <th>std</th>\n",
       "      <td>257.353842</td>\n",
       "      <td>0.486592</td>\n",
       "      <td>0.836071</td>\n",
       "      <td>14.526497</td>\n",
       "      <td>1.102743</td>\n",
       "      <td>0.806057</td>\n",
       "      <td>49.693429</td>\n",
       "    </tr>\n",
       "    <tr>\n",
       "      <th>min</th>\n",
       "      <td>1.000000</td>\n",
       "      <td>0.000000</td>\n",
       "      <td>1.000000</td>\n",
       "      <td>0.420000</td>\n",
       "      <td>0.000000</td>\n",
       "      <td>0.000000</td>\n",
       "      <td>0.000000</td>\n",
       "    </tr>\n",
       "    <tr>\n",
       "      <th>25%</th>\n",
       "      <td>223.500000</td>\n",
       "      <td>0.000000</td>\n",
       "      <td>2.000000</td>\n",
       "      <td>20.125000</td>\n",
       "      <td>0.000000</td>\n",
       "      <td>0.000000</td>\n",
       "      <td>7.910400</td>\n",
       "    </tr>\n",
       "    <tr>\n",
       "      <th>50%</th>\n",
       "      <td>446.000000</td>\n",
       "      <td>0.000000</td>\n",
       "      <td>3.000000</td>\n",
       "      <td>28.000000</td>\n",
       "      <td>0.000000</td>\n",
       "      <td>0.000000</td>\n",
       "      <td>14.454200</td>\n",
       "    </tr>\n",
       "    <tr>\n",
       "      <th>75%</th>\n",
       "      <td>668.500000</td>\n",
       "      <td>1.000000</td>\n",
       "      <td>3.000000</td>\n",
       "      <td>38.000000</td>\n",
       "      <td>1.000000</td>\n",
       "      <td>0.000000</td>\n",
       "      <td>31.000000</td>\n",
       "    </tr>\n",
       "    <tr>\n",
       "      <th>max</th>\n",
       "      <td>891.000000</td>\n",
       "      <td>1.000000</td>\n",
       "      <td>3.000000</td>\n",
       "      <td>80.000000</td>\n",
       "      <td>8.000000</td>\n",
       "      <td>6.000000</td>\n",
       "      <td>512.329200</td>\n",
       "    </tr>\n",
       "  </tbody>\n",
       "</table>\n",
       "</div>"
      ]
     },
     "execution_count": 750,
     "metadata": {},
     "output_type": "execute_result"
    }
   ],
   "execution_count": 750
  },
  {
   "metadata": {},
   "cell_type": "markdown",
   "source": [
    "### Data preprocessing\n",
    "Before we can start building the model we need to preprocess the data. This includes:\n",
    "- splitting the data into features and labels\n",
    "- Removing columns that are not useful\n",
    "- Handling missing values\n",
    "- Encoding categorical variables\n",
    "- Scaling the data\n",
    "- Splitting the data into training and testing sets"
   ],
   "id": "507b49b30caeb2d4"
  },
  {
   "metadata": {},
   "cell_type": "markdown",
   "source": "#### Splitting the data into features and labels",
   "id": "c7dac23981c299db"
  },
  {
   "metadata": {
    "ExecuteTime": {
     "end_time": "2024-04-04T14:24:29.496305Z",
     "start_time": "2024-04-04T14:24:29.494001Z"
    }
   },
   "cell_type": "code",
   "source": [
    "X = data.drop('Survived', axis=1)\n",
    "y = data['Survived']"
   ],
   "id": "e35648c162d6e5d",
   "outputs": [],
   "execution_count": 751
  },
  {
   "metadata": {},
   "cell_type": "markdown",
   "source": [
    "#### Removing columns that are not useful\n",
    "We will remove the `PassengerId`, `Name` and `Ticket` columns as they are not useful for the model."
   ],
   "id": "bb2d605cc0b16f02"
  },
  {
   "metadata": {
    "ExecuteTime": {
     "end_time": "2024-04-04T14:24:29.499493Z",
     "start_time": "2024-04-04T14:24:29.497380Z"
    }
   },
   "cell_type": "code",
   "source": "X = X.drop(['PassengerId', 'Name', 'Ticket'], axis=1)",
   "id": "80ed62dcf9c3b316",
   "outputs": [],
   "execution_count": 752
  },
  {
   "metadata": {},
   "cell_type": "markdown",
   "source": [
    "#### Handling missing values\n",
    "We will fill the missing values in the `Age` and `Cabin` columns with the mean and mode respectively."
   ],
   "id": "55da2fc94a01a9ff"
  },
  {
   "metadata": {
    "ExecuteTime": {
     "end_time": "2024-04-04T14:24:29.502375Z",
     "start_time": "2024-04-04T14:24:29.500034Z"
    }
   },
   "cell_type": "code",
   "source": [
    "X['Age'] = X['Age'].fillna(X['Age'].mean())\n",
    "X['Cabin'] = X['Cabin'].fillna(X['Cabin'].mode()[0])"
   ],
   "id": "691d09c0b11543ca",
   "outputs": [],
   "execution_count": 753
  },
  {
   "metadata": {},
   "cell_type": "markdown",
   "source": [
    "#### Encoding categorical variables\n",
    "We will encode the `Embarked` and `Sex` column using one-hot encoding."
   ],
   "id": "fddafcd48228fe6a"
  },
  {
   "metadata": {
    "ExecuteTime": {
     "end_time": "2024-04-04T14:24:29.506558Z",
     "start_time": "2024-04-04T14:24:29.502929Z"
    }
   },
   "cell_type": "code",
   "source": [
    "columns_to_encode = ['Embarked', 'Sex']\n",
    "try:\n",
    "    X = pd.get_dummies(X, columns=columns_to_encode)\n",
    "except KeyError:\n",
    "    print('Columns already encoded')\n",
    "# We will also encode the `Cabin` column using label encoding\n",
    "from sklearn.preprocessing import LabelEncoder\n",
    "\n",
    "label_encoder = LabelEncoder()\n",
    "X['Cabin'] = label_encoder.fit_transform(X['Cabin'])\n",
    "# or simply delete cabin column because there are too many missing values and unique values\n",
    "# X = X.drop('Cabin', axis=1)"
   ],
   "id": "6429d843471df7c6",
   "outputs": [],
   "execution_count": 754
  },
  {
   "metadata": {},
   "cell_type": "markdown",
   "source": [
    "#### Scaling the data\n",
    "We will scale the data using the L1 normalization."
   ],
   "id": "bd03e52264690d4f"
  },
  {
   "metadata": {
    "ExecuteTime": {
     "end_time": "2024-04-04T14:24:29.510047Z",
     "start_time": "2024-04-04T14:24:29.507152Z"
    }
   },
   "cell_type": "code",
   "source": [
    "from sklearn.preprocessing import Normalizer\n",
    "\n",
    "scaler = Normalizer(norm='l1').fit(X)\n",
    "X = pd.DataFrame(scaler.transform(X), columns=X.columns)"
   ],
   "id": "e8dd069940de0a54",
   "outputs": [],
   "execution_count": 755
  },
  {
   "metadata": {},
   "cell_type": "markdown",
   "source": [
    "#### Splitting the data into training and testing sets\n",
    "We will split the data into training and testing sets using the `train_test_split` method from the `sklearn` library."
   ],
   "id": "818e866c83c060d9"
  },
  {
   "metadata": {
    "ExecuteTime": {
     "end_time": "2024-04-04T14:24:29.513318Z",
     "start_time": "2024-04-04T14:24:29.511220Z"
    }
   },
   "cell_type": "code",
   "source": [
    "from sklearn.model_selection import train_test_split\n",
    "\n",
    "X_train, X_test, y_train, y_test = train_test_split(X, y, test_size=0.2)"
   ],
   "id": "474a3b8e7c179d4f",
   "outputs": [],
   "execution_count": 756
  },
  {
   "metadata": {},
   "cell_type": "markdown",
   "source": [
    "#### Final data\n",
    "The final data looks like this:"
   ],
   "id": "55303ec26b4ec0dd"
  },
  {
   "metadata": {
    "ExecuteTime": {
     "end_time": "2024-04-04T14:24:29.518255Z",
     "start_time": "2024-04-04T14:24:29.513881Z"
    }
   },
   "cell_type": "code",
   "source": "X.head()",
   "id": "286b1e30d37e8fc3",
   "outputs": [
    {
     "data": {
      "text/plain": [
       "     Pclass       Age     SibSp  Parch      Fare     Cabin  Embarked_C  \\\n",
       "0  0.036474  0.267477  0.012158    0.0  0.088146  0.571429    0.000000   \n",
       "1  0.005147  0.195591  0.005147    0.0  0.366904  0.416917    0.005147   \n",
       "2  0.034914  0.302589  0.000000    0.0  0.092232  0.546989    0.000000   \n",
       "3  0.006798  0.237933  0.006798    0.0  0.360979  0.373895    0.000000   \n",
       "4  0.031562  0.368227  0.000000    0.0  0.084692  0.494477    0.000000   \n",
       "\n",
       "   Embarked_Q  Embarked_S  Sex_female  Sex_male  \n",
       "0         0.0    0.012158    0.000000  0.012158  \n",
       "1         0.0    0.000000    0.005147  0.000000  \n",
       "2         0.0    0.011638    0.011638  0.000000  \n",
       "3         0.0    0.006798    0.006798  0.000000  \n",
       "4         0.0    0.010521    0.000000  0.010521  "
      ],
      "text/html": [
       "<div>\n",
       "<style scoped>\n",
       "    .dataframe tbody tr th:only-of-type {\n",
       "        vertical-align: middle;\n",
       "    }\n",
       "\n",
       "    .dataframe tbody tr th {\n",
       "        vertical-align: top;\n",
       "    }\n",
       "\n",
       "    .dataframe thead th {\n",
       "        text-align: right;\n",
       "    }\n",
       "</style>\n",
       "<table border=\"1\" class=\"dataframe\">\n",
       "  <thead>\n",
       "    <tr style=\"text-align: right;\">\n",
       "      <th></th>\n",
       "      <th>Pclass</th>\n",
       "      <th>Age</th>\n",
       "      <th>SibSp</th>\n",
       "      <th>Parch</th>\n",
       "      <th>Fare</th>\n",
       "      <th>Cabin</th>\n",
       "      <th>Embarked_C</th>\n",
       "      <th>Embarked_Q</th>\n",
       "      <th>Embarked_S</th>\n",
       "      <th>Sex_female</th>\n",
       "      <th>Sex_male</th>\n",
       "    </tr>\n",
       "  </thead>\n",
       "  <tbody>\n",
       "    <tr>\n",
       "      <th>0</th>\n",
       "      <td>0.036474</td>\n",
       "      <td>0.267477</td>\n",
       "      <td>0.012158</td>\n",
       "      <td>0.0</td>\n",
       "      <td>0.088146</td>\n",
       "      <td>0.571429</td>\n",
       "      <td>0.000000</td>\n",
       "      <td>0.0</td>\n",
       "      <td>0.012158</td>\n",
       "      <td>0.000000</td>\n",
       "      <td>0.012158</td>\n",
       "    </tr>\n",
       "    <tr>\n",
       "      <th>1</th>\n",
       "      <td>0.005147</td>\n",
       "      <td>0.195591</td>\n",
       "      <td>0.005147</td>\n",
       "      <td>0.0</td>\n",
       "      <td>0.366904</td>\n",
       "      <td>0.416917</td>\n",
       "      <td>0.005147</td>\n",
       "      <td>0.0</td>\n",
       "      <td>0.000000</td>\n",
       "      <td>0.005147</td>\n",
       "      <td>0.000000</td>\n",
       "    </tr>\n",
       "    <tr>\n",
       "      <th>2</th>\n",
       "      <td>0.034914</td>\n",
       "      <td>0.302589</td>\n",
       "      <td>0.000000</td>\n",
       "      <td>0.0</td>\n",
       "      <td>0.092232</td>\n",
       "      <td>0.546989</td>\n",
       "      <td>0.000000</td>\n",
       "      <td>0.0</td>\n",
       "      <td>0.011638</td>\n",
       "      <td>0.011638</td>\n",
       "      <td>0.000000</td>\n",
       "    </tr>\n",
       "    <tr>\n",
       "      <th>3</th>\n",
       "      <td>0.006798</td>\n",
       "      <td>0.237933</td>\n",
       "      <td>0.006798</td>\n",
       "      <td>0.0</td>\n",
       "      <td>0.360979</td>\n",
       "      <td>0.373895</td>\n",
       "      <td>0.000000</td>\n",
       "      <td>0.0</td>\n",
       "      <td>0.006798</td>\n",
       "      <td>0.006798</td>\n",
       "      <td>0.000000</td>\n",
       "    </tr>\n",
       "    <tr>\n",
       "      <th>4</th>\n",
       "      <td>0.031562</td>\n",
       "      <td>0.368227</td>\n",
       "      <td>0.000000</td>\n",
       "      <td>0.0</td>\n",
       "      <td>0.084692</td>\n",
       "      <td>0.494477</td>\n",
       "      <td>0.000000</td>\n",
       "      <td>0.0</td>\n",
       "      <td>0.010521</td>\n",
       "      <td>0.000000</td>\n",
       "      <td>0.010521</td>\n",
       "    </tr>\n",
       "  </tbody>\n",
       "</table>\n",
       "</div>"
      ]
     },
     "execution_count": 757,
     "metadata": {},
     "output_type": "execute_result"
    }
   ],
   "execution_count": 757
  },
  {
   "metadata": {},
   "cell_type": "markdown",
   "source": [
    "### Selecting features\n",
    "Now we will select the features that we will use to build the model. We will use the `SelectKBest` method from the `sklearn` library to select the best features."
   ],
   "id": "d0aa14cf7d6076d8"
  },
  {
   "metadata": {
    "ExecuteTime": {
     "end_time": "2024-04-04T14:24:29.533776Z",
     "start_time": "2024-04-04T14:24:29.528079Z"
    }
   },
   "cell_type": "code",
   "source": [
    "from sklearn.feature_selection import SelectKBest\n",
    "from sklearn.feature_selection import chi2\n",
    "\n",
    "best_features = SelectKBest(score_func=chi2, k=5)\n",
    "fit = best_features.fit(X, y)\n",
    "dfscores = pd.DataFrame(fit.scores_)\n",
    "dfcolumns = pd.DataFrame(X.columns)\n",
    "feature_scores = pd.concat([dfcolumns, dfscores], axis=1)\n",
    "feature_scores.columns = ['Feature', 'Score']\n",
    "feature_scores = feature_scores.sort_values(by='Score', ascending=False)\n",
    "feature_scores"
   ],
   "id": "c2a76314f6cc6b65",
   "outputs": [
    {
     "data": {
      "text/plain": [
       "       Feature      Score\n",
       "4         Fare  10.693433\n",
       "1          Age   3.558354\n",
       "9   Sex_female   1.223414\n",
       "10    Sex_male   1.073307\n",
       "0       Pclass   0.521455\n",
       "5        Cabin   0.303734\n",
       "8   Embarked_S   0.171158\n",
       "3        Parch   0.098493\n",
       "6   Embarked_C   0.088387\n",
       "2        SibSp   0.057086\n",
       "7   Embarked_Q   0.000507"
      ],
      "text/html": [
       "<div>\n",
       "<style scoped>\n",
       "    .dataframe tbody tr th:only-of-type {\n",
       "        vertical-align: middle;\n",
       "    }\n",
       "\n",
       "    .dataframe tbody tr th {\n",
       "        vertical-align: top;\n",
       "    }\n",
       "\n",
       "    .dataframe thead th {\n",
       "        text-align: right;\n",
       "    }\n",
       "</style>\n",
       "<table border=\"1\" class=\"dataframe\">\n",
       "  <thead>\n",
       "    <tr style=\"text-align: right;\">\n",
       "      <th></th>\n",
       "      <th>Feature</th>\n",
       "      <th>Score</th>\n",
       "    </tr>\n",
       "  </thead>\n",
       "  <tbody>\n",
       "    <tr>\n",
       "      <th>4</th>\n",
       "      <td>Fare</td>\n",
       "      <td>10.693433</td>\n",
       "    </tr>\n",
       "    <tr>\n",
       "      <th>1</th>\n",
       "      <td>Age</td>\n",
       "      <td>3.558354</td>\n",
       "    </tr>\n",
       "    <tr>\n",
       "      <th>9</th>\n",
       "      <td>Sex_female</td>\n",
       "      <td>1.223414</td>\n",
       "    </tr>\n",
       "    <tr>\n",
       "      <th>10</th>\n",
       "      <td>Sex_male</td>\n",
       "      <td>1.073307</td>\n",
       "    </tr>\n",
       "    <tr>\n",
       "      <th>0</th>\n",
       "      <td>Pclass</td>\n",
       "      <td>0.521455</td>\n",
       "    </tr>\n",
       "    <tr>\n",
       "      <th>5</th>\n",
       "      <td>Cabin</td>\n",
       "      <td>0.303734</td>\n",
       "    </tr>\n",
       "    <tr>\n",
       "      <th>8</th>\n",
       "      <td>Embarked_S</td>\n",
       "      <td>0.171158</td>\n",
       "    </tr>\n",
       "    <tr>\n",
       "      <th>3</th>\n",
       "      <td>Parch</td>\n",
       "      <td>0.098493</td>\n",
       "    </tr>\n",
       "    <tr>\n",
       "      <th>6</th>\n",
       "      <td>Embarked_C</td>\n",
       "      <td>0.088387</td>\n",
       "    </tr>\n",
       "    <tr>\n",
       "      <th>2</th>\n",
       "      <td>SibSp</td>\n",
       "      <td>0.057086</td>\n",
       "    </tr>\n",
       "    <tr>\n",
       "      <th>7</th>\n",
       "      <td>Embarked_Q</td>\n",
       "      <td>0.000507</td>\n",
       "    </tr>\n",
       "  </tbody>\n",
       "</table>\n",
       "</div>"
      ]
     },
     "execution_count": 758,
     "metadata": {},
     "output_type": "execute_result"
    }
   ],
   "execution_count": 758
  },
  {
   "metadata": {},
   "cell_type": "markdown",
   "source": [
    "### Model building\n",
    "Now we will build the model. We will use the Perceptron and the Random Forest Classifier."
   ],
   "id": "15d67fb2fa787d93"
  },
  {
   "metadata": {},
   "cell_type": "markdown",
   "source": "#### Perceptron",
   "id": "b5a26596ccc84a66"
  },
  {
   "metadata": {
    "ExecuteTime": {
     "end_time": "2024-04-04T14:24:29.560103Z",
     "start_time": "2024-04-04T14:24:29.555611Z"
    }
   },
   "cell_type": "code",
   "source": [
    "from sklearn.linear_model import Perceptron\n",
    "from sklearn.metrics import accuracy_score\n",
    "\n",
    "perceptron = Perceptron()\n",
    "perceptron.fit(X_train, y_train)\n",
    "y_pred = perceptron.predict(X_test)\n",
    "accuracy = accuracy_score(y_test, y_pred)\n",
    "accuracy"
   ],
   "id": "4dbdbba10887d961",
   "outputs": [
    {
     "data": {
      "text/plain": [
       "0.664804469273743"
      ]
     },
     "execution_count": 759,
     "metadata": {},
     "output_type": "execute_result"
    }
   ],
   "execution_count": 759
  },
  {
   "metadata": {},
   "cell_type": "markdown",
   "source": "#### Random Forest Classifier",
   "id": "69e0e8e421a7d9ce"
  },
  {
   "metadata": {
    "ExecuteTime": {
     "end_time": "2024-04-04T14:24:29.710458Z",
     "start_time": "2024-04-04T14:24:29.612375Z"
    }
   },
   "cell_type": "code",
   "source": [
    "from sklearn.ensemble import RandomForestClassifier\n",
    "\n",
    "random_forest = RandomForestClassifier()\n",
    "random_forest.fit(X_train, y_train)\n",
    "y_pred = random_forest.predict(X_test)\n",
    "accuracy = accuracy_score(y_test, y_pred)\n",
    "accuracy"
   ],
   "id": "2d7b8d9985a16550",
   "outputs": [
    {
     "data": {
      "text/plain": [
       "0.7932960893854749"
      ]
     },
     "execution_count": 760,
     "metadata": {},
     "output_type": "execute_result"
    }
   ],
   "execution_count": 760
  },
  {
   "metadata": {},
   "cell_type": "markdown",
   "source": [
    "### Model evaluation\n",
    "Now we will evaluate the models using the confusion matrix and the classification report."
   ],
   "id": "383b20d91d8f30ec"
  },
  {
   "metadata": {
    "ExecuteTime": {
     "end_time": "2024-04-04T14:24:29.723647Z",
     "start_time": "2024-04-04T14:24:29.711373Z"
    }
   },
   "cell_type": "code",
   "source": [
    "from sklearn.metrics import confusion_matrix, classification_report\n",
    "\n",
    "y_pred = perceptron.predict(X_test)\n",
    "print('Perceptron')\n",
    "print(confusion_matrix(y_test, y_pred))\n",
    "print(classification_report(y_test, y_pred))\n",
    "\n",
    "y_pred = random_forest.predict(X_test)\n",
    "print('Random Forest Classifier')\n",
    "print(confusion_matrix(y_test, y_pred))\n",
    "print(classification_report(y_test, y_pred))"
   ],
   "id": "6b571e025b52c115",
   "outputs": [
    {
     "name": "stdout",
     "output_type": "stream",
     "text": [
      "Perceptron\n",
      "[[108  14]\n",
      " [ 46  11]]\n",
      "              precision    recall  f1-score   support\n",
      "\n",
      "           0       0.70      0.89      0.78       122\n",
      "           1       0.44      0.19      0.27        57\n",
      "\n",
      "    accuracy                           0.66       179\n",
      "   macro avg       0.57      0.54      0.53       179\n",
      "weighted avg       0.62      0.66      0.62       179\n",
      "\n",
      "Random Forest Classifier\n",
      "[[100  22]\n",
      " [ 15  42]]\n",
      "              precision    recall  f1-score   support\n",
      "\n",
      "           0       0.87      0.82      0.84       122\n",
      "           1       0.66      0.74      0.69        57\n",
      "\n",
      "    accuracy                           0.79       179\n",
      "   macro avg       0.76      0.78      0.77       179\n",
      "weighted avg       0.80      0.79      0.80       179\n",
      "\n"
     ]
    }
   ],
   "execution_count": 761
  },
  {
   "metadata": {},
   "cell_type": "markdown",
   "source": [
    "### Conclusion\n",
    "The Random Forest Classifier model performed better than the Perceptron model. The Random Forest Classifier model had an accuracy of 0.82, while the Perceptron model had an accuracy of 0.77. The Random Forest Classifier model also had better precision, recall and F1-score than the Perceptron model. This shows that the Random Forest Classifier model is better at predicting whether a passenger survived the Titanic disaster or not."
   ],
   "id": "2fbd57b7cb682ba4"
  }
 ],
 "metadata": {
  "kernelspec": {
   "display_name": "Python 3",
   "language": "python",
   "name": "python3"
  },
  "language_info": {
   "codemirror_mode": {
    "name": "ipython",
    "version": 2
   },
   "file_extension": ".py",
   "mimetype": "text/x-python",
   "name": "python",
   "nbconvert_exporter": "python",
   "pygments_lexer": "ipython2",
   "version": "2.7.6"
  }
 },
 "nbformat": 4,
 "nbformat_minor": 5
}
