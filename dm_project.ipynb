{
 "cells": [
  {
   "metadata": {},
   "cell_type": "markdown",
   "source": [
    "# Data Mining project\n",
    "## Members:\n",
    "- Mateusz Idziejczak 155842\n",
    "- Mateusz Stawicki 155900\n",
    "- Anastasiya\n",
    "- Baris\n",
    "## Dataset\n",
    "The dataset we are going to use is the [Titanic](https://www.kaggle.com/competitions/titanic) dataset from Kaggle. It contains data of 2224 passengers. The dataset is in a CSV format and contains 12 columns. The columns are: `PassengerId`, `Survived`, `Pclass`, `Name`, `Sex`, `Age`, `SibSp`, `Parch`, `Ticket`, `Fare`, `Cabin`, `Embarked`. \n",
    "- The `Survived` column is the target column and the other columns are the features. \n",
    "- The `Survived` column contains binary values: 0 if the passenger did not survive and 1 if the passenger survived. \n",
    "- The `Pclass` column contains the class of the passenger. \n",
    "- The `Name` column contains the name of the passenger. \n",
    "- The `Sex` column contains gender of the passenger. \n",
    "- The `Age` column contains the age of the passenger. \n",
    "- The `SibSp` column contains the number of siblings and spouses of the passenger. \n",
    "- The `Parch` column contains the number of parents and children of the passenger. \n",
    "- The `Ticket` column contains the ticket number of the passenger. \n",
    "- The `Fare` column contains the fare of the passenger. \n",
    "- The `Cabin` column contains the cabin number of the passenger. \n",
    "- The `Embarked` column contains the port of embarkation of the passenger. "
   ],
   "id": "96e2225092388dae"
  },
  {
   "metadata": {},
   "cell_type": "markdown",
   "source": [
    "## Implementation\n",
    "### Data loading\n",
    "First we need to load the data from the CSV file. We will use the pandas library to do this.\n"
   ],
   "id": "c974cf66c445dca7"
  },
  {
   "metadata": {
    "ExecuteTime": {
     "end_time": "2024-04-18T21:40:58.811077Z",
     "start_time": "2024-04-18T21:40:58.803015Z"
    }
   },
   "cell_type": "code",
   "source": [
    "import pandas as pd\n",
    "\n",
    "data = pd.read_csv('data/train.csv')"
   ],
   "id": "cf732e45f866d5fc",
   "outputs": [],
   "execution_count": 163
  },
  {
   "metadata": {},
   "cell_type": "markdown",
   "source": [
    "### Data exploration\n",
    "Now we will explore the data to see what it contains."
   ],
   "id": "7612a3f9e252934b"
  },
  {
   "metadata": {
    "ExecuteTime": {
     "end_time": "2024-04-18T21:40:58.989139Z",
     "start_time": "2024-04-18T21:40:58.981920Z"
    }
   },
   "cell_type": "code",
   "source": "data.head()",
   "id": "e870b78d86a0ef2c",
   "outputs": [
    {
     "data": {
      "text/plain": [
       "   PassengerId  Survived  Pclass  \\\n",
       "0            1         0       3   \n",
       "1            2         1       1   \n",
       "2            3         1       3   \n",
       "3            4         1       1   \n",
       "4            5         0       3   \n",
       "\n",
       "                                                Name     Sex   Age  SibSp  \\\n",
       "0                            Braund, Mr. Owen Harris    male  22.0      1   \n",
       "1  Cumings, Mrs. John Bradley (Florence Briggs Th...  female  38.0      1   \n",
       "2                             Heikkinen, Miss. Laina  female  26.0      0   \n",
       "3       Futrelle, Mrs. Jacques Heath (Lily May Peel)  female  35.0      1   \n",
       "4                           Allen, Mr. William Henry    male  35.0      0   \n",
       "\n",
       "   Parch            Ticket     Fare Cabin Embarked  \n",
       "0      0         A/5 21171   7.2500   NaN        S  \n",
       "1      0          PC 17599  71.2833   C85        C  \n",
       "2      0  STON/O2. 3101282   7.9250   NaN        S  \n",
       "3      0            113803  53.1000  C123        S  \n",
       "4      0            373450   8.0500   NaN        S  "
      ],
      "text/html": [
       "<div>\n",
       "<style scoped>\n",
       "    .dataframe tbody tr th:only-of-type {\n",
       "        vertical-align: middle;\n",
       "    }\n",
       "\n",
       "    .dataframe tbody tr th {\n",
       "        vertical-align: top;\n",
       "    }\n",
       "\n",
       "    .dataframe thead th {\n",
       "        text-align: right;\n",
       "    }\n",
       "</style>\n",
       "<table border=\"1\" class=\"dataframe\">\n",
       "  <thead>\n",
       "    <tr style=\"text-align: right;\">\n",
       "      <th></th>\n",
       "      <th>PassengerId</th>\n",
       "      <th>Survived</th>\n",
       "      <th>Pclass</th>\n",
       "      <th>Name</th>\n",
       "      <th>Sex</th>\n",
       "      <th>Age</th>\n",
       "      <th>SibSp</th>\n",
       "      <th>Parch</th>\n",
       "      <th>Ticket</th>\n",
       "      <th>Fare</th>\n",
       "      <th>Cabin</th>\n",
       "      <th>Embarked</th>\n",
       "    </tr>\n",
       "  </thead>\n",
       "  <tbody>\n",
       "    <tr>\n",
       "      <th>0</th>\n",
       "      <td>1</td>\n",
       "      <td>0</td>\n",
       "      <td>3</td>\n",
       "      <td>Braund, Mr. Owen Harris</td>\n",
       "      <td>male</td>\n",
       "      <td>22.0</td>\n",
       "      <td>1</td>\n",
       "      <td>0</td>\n",
       "      <td>A/5 21171</td>\n",
       "      <td>7.2500</td>\n",
       "      <td>NaN</td>\n",
       "      <td>S</td>\n",
       "    </tr>\n",
       "    <tr>\n",
       "      <th>1</th>\n",
       "      <td>2</td>\n",
       "      <td>1</td>\n",
       "      <td>1</td>\n",
       "      <td>Cumings, Mrs. John Bradley (Florence Briggs Th...</td>\n",
       "      <td>female</td>\n",
       "      <td>38.0</td>\n",
       "      <td>1</td>\n",
       "      <td>0</td>\n",
       "      <td>PC 17599</td>\n",
       "      <td>71.2833</td>\n",
       "      <td>C85</td>\n",
       "      <td>C</td>\n",
       "    </tr>\n",
       "    <tr>\n",
       "      <th>2</th>\n",
       "      <td>3</td>\n",
       "      <td>1</td>\n",
       "      <td>3</td>\n",
       "      <td>Heikkinen, Miss. Laina</td>\n",
       "      <td>female</td>\n",
       "      <td>26.0</td>\n",
       "      <td>0</td>\n",
       "      <td>0</td>\n",
       "      <td>STON/O2. 3101282</td>\n",
       "      <td>7.9250</td>\n",
       "      <td>NaN</td>\n",
       "      <td>S</td>\n",
       "    </tr>\n",
       "    <tr>\n",
       "      <th>3</th>\n",
       "      <td>4</td>\n",
       "      <td>1</td>\n",
       "      <td>1</td>\n",
       "      <td>Futrelle, Mrs. Jacques Heath (Lily May Peel)</td>\n",
       "      <td>female</td>\n",
       "      <td>35.0</td>\n",
       "      <td>1</td>\n",
       "      <td>0</td>\n",
       "      <td>113803</td>\n",
       "      <td>53.1000</td>\n",
       "      <td>C123</td>\n",
       "      <td>S</td>\n",
       "    </tr>\n",
       "    <tr>\n",
       "      <th>4</th>\n",
       "      <td>5</td>\n",
       "      <td>0</td>\n",
       "      <td>3</td>\n",
       "      <td>Allen, Mr. William Henry</td>\n",
       "      <td>male</td>\n",
       "      <td>35.0</td>\n",
       "      <td>0</td>\n",
       "      <td>0</td>\n",
       "      <td>373450</td>\n",
       "      <td>8.0500</td>\n",
       "      <td>NaN</td>\n",
       "      <td>S</td>\n",
       "    </tr>\n",
       "  </tbody>\n",
       "</table>\n",
       "</div>"
      ]
     },
     "execution_count": 164,
     "metadata": {},
     "output_type": "execute_result"
    }
   ],
   "execution_count": 164
  },
  {
   "metadata": {
    "ExecuteTime": {
     "end_time": "2024-04-18T21:40:59.019541Z",
     "start_time": "2024-04-18T21:40:59.006477Z"
    }
   },
   "cell_type": "code",
   "source": "data.describe()",
   "id": "fd46b529e859a897",
   "outputs": [
    {
     "data": {
      "text/plain": [
       "       PassengerId    Survived      Pclass         Age       SibSp  \\\n",
       "count   891.000000  891.000000  891.000000  714.000000  891.000000   \n",
       "mean    446.000000    0.383838    2.308642   29.699118    0.523008   \n",
       "std     257.353842    0.486592    0.836071   14.526497    1.102743   \n",
       "min       1.000000    0.000000    1.000000    0.420000    0.000000   \n",
       "25%     223.500000    0.000000    2.000000   20.125000    0.000000   \n",
       "50%     446.000000    0.000000    3.000000   28.000000    0.000000   \n",
       "75%     668.500000    1.000000    3.000000   38.000000    1.000000   \n",
       "max     891.000000    1.000000    3.000000   80.000000    8.000000   \n",
       "\n",
       "            Parch        Fare  \n",
       "count  891.000000  891.000000  \n",
       "mean     0.381594   32.204208  \n",
       "std      0.806057   49.693429  \n",
       "min      0.000000    0.000000  \n",
       "25%      0.000000    7.910400  \n",
       "50%      0.000000   14.454200  \n",
       "75%      0.000000   31.000000  \n",
       "max      6.000000  512.329200  "
      ],
      "text/html": [
       "<div>\n",
       "<style scoped>\n",
       "    .dataframe tbody tr th:only-of-type {\n",
       "        vertical-align: middle;\n",
       "    }\n",
       "\n",
       "    .dataframe tbody tr th {\n",
       "        vertical-align: top;\n",
       "    }\n",
       "\n",
       "    .dataframe thead th {\n",
       "        text-align: right;\n",
       "    }\n",
       "</style>\n",
       "<table border=\"1\" class=\"dataframe\">\n",
       "  <thead>\n",
       "    <tr style=\"text-align: right;\">\n",
       "      <th></th>\n",
       "      <th>PassengerId</th>\n",
       "      <th>Survived</th>\n",
       "      <th>Pclass</th>\n",
       "      <th>Age</th>\n",
       "      <th>SibSp</th>\n",
       "      <th>Parch</th>\n",
       "      <th>Fare</th>\n",
       "    </tr>\n",
       "  </thead>\n",
       "  <tbody>\n",
       "    <tr>\n",
       "      <th>count</th>\n",
       "      <td>891.000000</td>\n",
       "      <td>891.000000</td>\n",
       "      <td>891.000000</td>\n",
       "      <td>714.000000</td>\n",
       "      <td>891.000000</td>\n",
       "      <td>891.000000</td>\n",
       "      <td>891.000000</td>\n",
       "    </tr>\n",
       "    <tr>\n",
       "      <th>mean</th>\n",
       "      <td>446.000000</td>\n",
       "      <td>0.383838</td>\n",
       "      <td>2.308642</td>\n",
       "      <td>29.699118</td>\n",
       "      <td>0.523008</td>\n",
       "      <td>0.381594</td>\n",
       "      <td>32.204208</td>\n",
       "    </tr>\n",
       "    <tr>\n",
       "      <th>std</th>\n",
       "      <td>257.353842</td>\n",
       "      <td>0.486592</td>\n",
       "      <td>0.836071</td>\n",
       "      <td>14.526497</td>\n",
       "      <td>1.102743</td>\n",
       "      <td>0.806057</td>\n",
       "      <td>49.693429</td>\n",
       "    </tr>\n",
       "    <tr>\n",
       "      <th>min</th>\n",
       "      <td>1.000000</td>\n",
       "      <td>0.000000</td>\n",
       "      <td>1.000000</td>\n",
       "      <td>0.420000</td>\n",
       "      <td>0.000000</td>\n",
       "      <td>0.000000</td>\n",
       "      <td>0.000000</td>\n",
       "    </tr>\n",
       "    <tr>\n",
       "      <th>25%</th>\n",
       "      <td>223.500000</td>\n",
       "      <td>0.000000</td>\n",
       "      <td>2.000000</td>\n",
       "      <td>20.125000</td>\n",
       "      <td>0.000000</td>\n",
       "      <td>0.000000</td>\n",
       "      <td>7.910400</td>\n",
       "    </tr>\n",
       "    <tr>\n",
       "      <th>50%</th>\n",
       "      <td>446.000000</td>\n",
       "      <td>0.000000</td>\n",
       "      <td>3.000000</td>\n",
       "      <td>28.000000</td>\n",
       "      <td>0.000000</td>\n",
       "      <td>0.000000</td>\n",
       "      <td>14.454200</td>\n",
       "    </tr>\n",
       "    <tr>\n",
       "      <th>75%</th>\n",
       "      <td>668.500000</td>\n",
       "      <td>1.000000</td>\n",
       "      <td>3.000000</td>\n",
       "      <td>38.000000</td>\n",
       "      <td>1.000000</td>\n",
       "      <td>0.000000</td>\n",
       "      <td>31.000000</td>\n",
       "    </tr>\n",
       "    <tr>\n",
       "      <th>max</th>\n",
       "      <td>891.000000</td>\n",
       "      <td>1.000000</td>\n",
       "      <td>3.000000</td>\n",
       "      <td>80.000000</td>\n",
       "      <td>8.000000</td>\n",
       "      <td>6.000000</td>\n",
       "      <td>512.329200</td>\n",
       "    </tr>\n",
       "  </tbody>\n",
       "</table>\n",
       "</div>"
      ]
     },
     "execution_count": 165,
     "metadata": {},
     "output_type": "execute_result"
    }
   ],
   "execution_count": 165
  },
  {
   "metadata": {},
   "cell_type": "markdown",
   "source": [
    "### Data preprocessing\n",
    "Before we can start building the model we need to preprocess the data. This includes:\n",
    "- splitting the data into features and labels\n",
    "- Removing columns that are not useful\n",
    "- Handling missing values\n",
    "- Encoding categorical variables\n",
    "- Scaling the data\n",
    "- Splitting the data into training and testing sets"
   ],
   "id": "507b49b30caeb2d4"
  },
  {
   "metadata": {},
   "cell_type": "markdown",
   "source": "#### Splitting the data into features and labels",
   "id": "c7dac23981c299db"
  },
  {
   "metadata": {
    "ExecuteTime": {
     "end_time": "2024-04-18T21:40:59.044573Z",
     "start_time": "2024-04-18T21:40:59.041837Z"
    }
   },
   "cell_type": "code",
   "source": [
    "X = data.drop('Survived', axis=1)\n",
    "y = data['Survived']"
   ],
   "id": "e35648c162d6e5d",
   "outputs": [],
   "execution_count": 166
  },
  {
   "metadata": {},
   "cell_type": "markdown",
   "source": [
    "#### Removing columns that are not useful\n",
    "We will remove the `PassengerId`, `Name` and `Ticket` columns as they are not useful for the model."
   ],
   "id": "bb2d605cc0b16f02"
  },
  {
   "metadata": {
    "ExecuteTime": {
     "end_time": "2024-04-18T21:40:59.077320Z",
     "start_time": "2024-04-18T21:40:59.074435Z"
    }
   },
   "cell_type": "code",
   "source": "X = X.drop(['PassengerId', 'Name', 'Ticket', 'Cabin'], axis=1)",
   "id": "80ed62dcf9c3b316",
   "outputs": [],
   "execution_count": 167
  },
  {
   "metadata": {},
   "cell_type": "markdown",
   "source": [
    "#### Handling missing values\n",
    "We will fill the missing values in the `Age` columns with the mean and mode respectively."
   ],
   "id": "55da2fc94a01a9ff"
  },
  {
   "metadata": {
    "ExecuteTime": {
     "end_time": "2024-04-18T21:40:59.177642Z",
     "start_time": "2024-04-18T21:40:59.171862Z"
    }
   },
   "cell_type": "code",
   "source": "X.isna().sum().to_frame().reset_index().rename(columns={0: 'Missing values'})",
   "id": "b91f9ea13a9c7d2c",
   "outputs": [
    {
     "data": {
      "text/plain": [
       "      index  Missing values\n",
       "0    Pclass               0\n",
       "1       Sex               0\n",
       "2       Age             177\n",
       "3     SibSp               0\n",
       "4     Parch               0\n",
       "5      Fare               0\n",
       "6  Embarked               2"
      ],
      "text/html": [
       "<div>\n",
       "<style scoped>\n",
       "    .dataframe tbody tr th:only-of-type {\n",
       "        vertical-align: middle;\n",
       "    }\n",
       "\n",
       "    .dataframe tbody tr th {\n",
       "        vertical-align: top;\n",
       "    }\n",
       "\n",
       "    .dataframe thead th {\n",
       "        text-align: right;\n",
       "    }\n",
       "</style>\n",
       "<table border=\"1\" class=\"dataframe\">\n",
       "  <thead>\n",
       "    <tr style=\"text-align: right;\">\n",
       "      <th></th>\n",
       "      <th>index</th>\n",
       "      <th>Missing values</th>\n",
       "    </tr>\n",
       "  </thead>\n",
       "  <tbody>\n",
       "    <tr>\n",
       "      <th>0</th>\n",
       "      <td>Pclass</td>\n",
       "      <td>0</td>\n",
       "    </tr>\n",
       "    <tr>\n",
       "      <th>1</th>\n",
       "      <td>Sex</td>\n",
       "      <td>0</td>\n",
       "    </tr>\n",
       "    <tr>\n",
       "      <th>2</th>\n",
       "      <td>Age</td>\n",
       "      <td>177</td>\n",
       "    </tr>\n",
       "    <tr>\n",
       "      <th>3</th>\n",
       "      <td>SibSp</td>\n",
       "      <td>0</td>\n",
       "    </tr>\n",
       "    <tr>\n",
       "      <th>4</th>\n",
       "      <td>Parch</td>\n",
       "      <td>0</td>\n",
       "    </tr>\n",
       "    <tr>\n",
       "      <th>5</th>\n",
       "      <td>Fare</td>\n",
       "      <td>0</td>\n",
       "    </tr>\n",
       "    <tr>\n",
       "      <th>6</th>\n",
       "      <td>Embarked</td>\n",
       "      <td>2</td>\n",
       "    </tr>\n",
       "  </tbody>\n",
       "</table>\n",
       "</div>"
      ]
     },
     "execution_count": 168,
     "metadata": {},
     "output_type": "execute_result"
    }
   ],
   "execution_count": 168
  },
  {
   "metadata": {
    "ExecuteTime": {
     "end_time": "2024-04-18T21:40:59.215138Z",
     "start_time": "2024-04-18T21:40:59.211156Z"
    }
   },
   "cell_type": "code",
   "source": [
    "X['Age'] = X['Age'].fillna(X['Age'].mean())\n",
    "X['Embarked'] = X['Embarked'].fillna(X['Embarked'].mode()[0])"
   ],
   "id": "691d09c0b11543ca",
   "outputs": [],
   "execution_count": 169
  },
  {
   "metadata": {},
   "cell_type": "markdown",
   "source": [
    "#### Encoding categorical variables\n",
    "We will encode the `Embarked` and `Sex` column using label encoding."
   ],
   "id": "fddafcd48228fe6a"
  },
  {
   "metadata": {
    "ExecuteTime": {
     "end_time": "2024-04-18T21:40:59.301562Z",
     "start_time": "2024-04-18T21:40:59.298321Z"
    }
   },
   "cell_type": "code",
   "source": [
    "columns_to_encode = ['Embarked', 'Sex']\n",
    "try:\n",
    "    from sklearn.preprocessing import LabelEncoder\n",
    "    \n",
    "    label_encoder = LabelEncoder()\n",
    "    for column in columns_to_encode:\n",
    "        X[column] = label_encoder.fit_transform(X[column])\n",
    "except KeyError:\n",
    "    print('Columns already encoded')"
   ],
   "id": "6429d843471df7c6",
   "outputs": [],
   "execution_count": 170
  },
  {
   "metadata": {},
   "cell_type": "markdown",
   "source": "We will also split Age into 5 age groups. We need to know how survival rate depends on age.",
   "id": "4fa6de3125fd4403"
  },
  {
   "metadata": {
    "ExecuteTime": {
     "end_time": "2024-04-18T21:40:59.347118Z",
     "start_time": "2024-04-18T21:40:59.337356Z"
    }
   },
   "cell_type": "code",
   "source": [
    "df_X = X.copy()\n",
    "df_X['Survived'] = y\n",
    "bins = [0, 9, 14, 42, 57, 59, 100]\n",
    "df_X['AgeBin'] = pd.cut(df_X['Age'], bins=bins, labels=[0, 1, 2, 3, 4, 5])\n",
    "df_X.groupby(['AgeBin', 'Survived']).size().unstack().apply(lambda x: x / x.sum(), axis=1)"
   ],
   "id": "364ba4b9a44a6d8b",
   "outputs": [
    {
     "name": "stderr",
     "output_type": "stream",
     "text": [
      "/var/folders/yc/wnx9vsb14tx1110ygs64rfvh0000gn/T/ipykernel_44764/1851291576.py:5: FutureWarning: The default of observed=False is deprecated and will be changed to True in a future version of pandas. Pass observed=False to retain current behavior or observed=True to adopt the future default and silence this warning.\n",
      "  df_X.groupby(['AgeBin', 'Survived']).size().unstack().apply(lambda x: x / x.sum(), axis=1)\n"
     ]
    },
    {
     "data": {
      "text/plain": [
       "Survived         0         1\n",
       "AgeBin                      \n",
       "0         0.387097  0.612903\n",
       "1         0.533333  0.466667\n",
       "2         0.635036  0.364964\n",
       "3         0.614583  0.385417\n",
       "4         0.571429  0.428571\n",
       "5         0.730769  0.269231"
      ],
      "text/html": [
       "<div>\n",
       "<style scoped>\n",
       "    .dataframe tbody tr th:only-of-type {\n",
       "        vertical-align: middle;\n",
       "    }\n",
       "\n",
       "    .dataframe tbody tr th {\n",
       "        vertical-align: top;\n",
       "    }\n",
       "\n",
       "    .dataframe thead th {\n",
       "        text-align: right;\n",
       "    }\n",
       "</style>\n",
       "<table border=\"1\" class=\"dataframe\">\n",
       "  <thead>\n",
       "    <tr style=\"text-align: right;\">\n",
       "      <th>Survived</th>\n",
       "      <th>0</th>\n",
       "      <th>1</th>\n",
       "    </tr>\n",
       "    <tr>\n",
       "      <th>AgeBin</th>\n",
       "      <th></th>\n",
       "      <th></th>\n",
       "    </tr>\n",
       "  </thead>\n",
       "  <tbody>\n",
       "    <tr>\n",
       "      <th>0</th>\n",
       "      <td>0.387097</td>\n",
       "      <td>0.612903</td>\n",
       "    </tr>\n",
       "    <tr>\n",
       "      <th>1</th>\n",
       "      <td>0.533333</td>\n",
       "      <td>0.466667</td>\n",
       "    </tr>\n",
       "    <tr>\n",
       "      <th>2</th>\n",
       "      <td>0.635036</td>\n",
       "      <td>0.364964</td>\n",
       "    </tr>\n",
       "    <tr>\n",
       "      <th>3</th>\n",
       "      <td>0.614583</td>\n",
       "      <td>0.385417</td>\n",
       "    </tr>\n",
       "    <tr>\n",
       "      <th>4</th>\n",
       "      <td>0.571429</td>\n",
       "      <td>0.428571</td>\n",
       "    </tr>\n",
       "    <tr>\n",
       "      <th>5</th>\n",
       "      <td>0.730769</td>\n",
       "      <td>0.269231</td>\n",
       "    </tr>\n",
       "  </tbody>\n",
       "</table>\n",
       "</div>"
      ]
     },
     "execution_count": 171,
     "metadata": {},
     "output_type": "execute_result"
    }
   ],
   "execution_count": 171
  },
  {
   "metadata": {},
   "cell_type": "markdown",
   "source": "",
   "id": "cac7cd9e62ea5d90"
  },
  {
   "metadata": {
    "ExecuteTime": {
     "end_time": "2024-04-18T21:40:59.405243Z",
     "start_time": "2024-04-18T21:40:59.401419Z"
    }
   },
   "cell_type": "code",
   "source": [
    "def age_category(age):\n",
    "    if age <= bins[1]:\n",
    "        return 0\n",
    "    elif age <= bins[2]:\n",
    "        return 1\n",
    "    elif age <= bins[3]:\n",
    "        return 2\n",
    "    elif age <= bins[4]:\n",
    "        return 3\n",
    "    elif age <= bins[5]:\n",
    "        return 4\n",
    "    else:\n",
    "        return 5\n",
    "\n",
    "X['Age'] = X['Age'].apply(age_category)"
   ],
   "id": "3e28b2453773a7c",
   "outputs": [],
   "execution_count": 172
  },
  {
   "metadata": {},
   "cell_type": "markdown",
   "source": "and count the family size.",
   "id": "d208604d7a721fa1"
  },
  {
   "metadata": {
    "ExecuteTime": {
     "end_time": "2024-04-18T21:40:59.414073Z",
     "start_time": "2024-04-18T21:40:59.410709Z"
    }
   },
   "cell_type": "code",
   "source": [
    "X['FamilySize'] = X['SibSp'] + X['Parch'] + 1\n",
    "X = X.drop(['SibSp', 'Parch'], axis=1)"
   ],
   "id": "1305d2faa2a96f0",
   "outputs": [],
   "execution_count": 173
  },
  {
   "metadata": {},
   "cell_type": "markdown",
   "source": [
    "#### Scaling the data\n",
    "We will scale the data using the MinMaxScaler."
   ],
   "id": "bd03e52264690d4f"
  },
  {
   "metadata": {
    "ExecuteTime": {
     "end_time": "2024-04-18T21:40:59.444048Z",
     "start_time": "2024-04-18T21:40:59.437730Z"
    }
   },
   "cell_type": "code",
   "source": [
    "from sklearn.preprocessing import MinMaxScaler\n",
    "\n",
    "X1 = X[['Fare']]\n",
    "X2 = X.drop(['Fare'], axis=1)\n",
    "scaler = MinMaxScaler().fit(X1)\n",
    "X1 = pd.DataFrame(scaler.transform(X1), columns=X1.columns)\n",
    "X = pd.concat([X1, X2], axis=1)"
   ],
   "id": "e8dd069940de0a54",
   "outputs": [],
   "execution_count": 174
  },
  {
   "metadata": {},
   "cell_type": "markdown",
   "source": [
    "#### Splitting the data into training and testing sets\n",
    "We will split the data into training and testing sets using the `train_test_split` method from the `sklearn` library."
   ],
   "id": "818e866c83c060d9"
  },
  {
   "metadata": {
    "ExecuteTime": {
     "end_time": "2024-04-18T21:40:59.479371Z",
     "start_time": "2024-04-18T21:40:59.475504Z"
    }
   },
   "cell_type": "code",
   "source": [
    "from sklearn.model_selection import train_test_split\n",
    "\n",
    "X_train, X_test, y_train, y_test = train_test_split(X, y, test_size=0.2)"
   ],
   "id": "474a3b8e7c179d4f",
   "outputs": [],
   "execution_count": 175
  },
  {
   "metadata": {},
   "cell_type": "markdown",
   "source": [
    "#### Final data\n",
    "The final data looks like this:"
   ],
   "id": "55303ec26b4ec0dd"
  },
  {
   "metadata": {
    "ExecuteTime": {
     "end_time": "2024-04-18T21:40:59.500618Z",
     "start_time": "2024-04-18T21:40:59.495188Z"
    }
   },
   "cell_type": "code",
   "source": "X.head(15)",
   "id": "286b1e30d37e8fc3",
   "outputs": [
    {
     "data": {
      "text/plain": [
       "        Fare  Pclass  Sex  Age  Embarked  FamilySize\n",
       "0   0.014151       3    1    2         2           2\n",
       "1   0.139136       1    0    2         0           2\n",
       "2   0.015469       3    0    2         2           1\n",
       "3   0.103644       1    0    2         2           2\n",
       "4   0.015713       3    1    2         2           1\n",
       "5   0.016510       3    1    2         1           1\n",
       "6   0.101229       1    1    3         2           1\n",
       "7   0.041136       3    1    0         2           5\n",
       "8   0.021731       3    0    2         2           3\n",
       "9   0.058694       2    0    1         0           2\n",
       "10  0.032596       3    0    0         2           3\n",
       "11  0.051822       1    0    4         2           1\n",
       "12  0.015713       3    1    2         2           1\n",
       "13  0.061045       3    1    2         2           7\n",
       "14  0.015330       3    0    1         2           1"
      ],
      "text/html": [
       "<div>\n",
       "<style scoped>\n",
       "    .dataframe tbody tr th:only-of-type {\n",
       "        vertical-align: middle;\n",
       "    }\n",
       "\n",
       "    .dataframe tbody tr th {\n",
       "        vertical-align: top;\n",
       "    }\n",
       "\n",
       "    .dataframe thead th {\n",
       "        text-align: right;\n",
       "    }\n",
       "</style>\n",
       "<table border=\"1\" class=\"dataframe\">\n",
       "  <thead>\n",
       "    <tr style=\"text-align: right;\">\n",
       "      <th></th>\n",
       "      <th>Fare</th>\n",
       "      <th>Pclass</th>\n",
       "      <th>Sex</th>\n",
       "      <th>Age</th>\n",
       "      <th>Embarked</th>\n",
       "      <th>FamilySize</th>\n",
       "    </tr>\n",
       "  </thead>\n",
       "  <tbody>\n",
       "    <tr>\n",
       "      <th>0</th>\n",
       "      <td>0.014151</td>\n",
       "      <td>3</td>\n",
       "      <td>1</td>\n",
       "      <td>2</td>\n",
       "      <td>2</td>\n",
       "      <td>2</td>\n",
       "    </tr>\n",
       "    <tr>\n",
       "      <th>1</th>\n",
       "      <td>0.139136</td>\n",
       "      <td>1</td>\n",
       "      <td>0</td>\n",
       "      <td>2</td>\n",
       "      <td>0</td>\n",
       "      <td>2</td>\n",
       "    </tr>\n",
       "    <tr>\n",
       "      <th>2</th>\n",
       "      <td>0.015469</td>\n",
       "      <td>3</td>\n",
       "      <td>0</td>\n",
       "      <td>2</td>\n",
       "      <td>2</td>\n",
       "      <td>1</td>\n",
       "    </tr>\n",
       "    <tr>\n",
       "      <th>3</th>\n",
       "      <td>0.103644</td>\n",
       "      <td>1</td>\n",
       "      <td>0</td>\n",
       "      <td>2</td>\n",
       "      <td>2</td>\n",
       "      <td>2</td>\n",
       "    </tr>\n",
       "    <tr>\n",
       "      <th>4</th>\n",
       "      <td>0.015713</td>\n",
       "      <td>3</td>\n",
       "      <td>1</td>\n",
       "      <td>2</td>\n",
       "      <td>2</td>\n",
       "      <td>1</td>\n",
       "    </tr>\n",
       "    <tr>\n",
       "      <th>5</th>\n",
       "      <td>0.016510</td>\n",
       "      <td>3</td>\n",
       "      <td>1</td>\n",
       "      <td>2</td>\n",
       "      <td>1</td>\n",
       "      <td>1</td>\n",
       "    </tr>\n",
       "    <tr>\n",
       "      <th>6</th>\n",
       "      <td>0.101229</td>\n",
       "      <td>1</td>\n",
       "      <td>1</td>\n",
       "      <td>3</td>\n",
       "      <td>2</td>\n",
       "      <td>1</td>\n",
       "    </tr>\n",
       "    <tr>\n",
       "      <th>7</th>\n",
       "      <td>0.041136</td>\n",
       "      <td>3</td>\n",
       "      <td>1</td>\n",
       "      <td>0</td>\n",
       "      <td>2</td>\n",
       "      <td>5</td>\n",
       "    </tr>\n",
       "    <tr>\n",
       "      <th>8</th>\n",
       "      <td>0.021731</td>\n",
       "      <td>3</td>\n",
       "      <td>0</td>\n",
       "      <td>2</td>\n",
       "      <td>2</td>\n",
       "      <td>3</td>\n",
       "    </tr>\n",
       "    <tr>\n",
       "      <th>9</th>\n",
       "      <td>0.058694</td>\n",
       "      <td>2</td>\n",
       "      <td>0</td>\n",
       "      <td>1</td>\n",
       "      <td>0</td>\n",
       "      <td>2</td>\n",
       "    </tr>\n",
       "    <tr>\n",
       "      <th>10</th>\n",
       "      <td>0.032596</td>\n",
       "      <td>3</td>\n",
       "      <td>0</td>\n",
       "      <td>0</td>\n",
       "      <td>2</td>\n",
       "      <td>3</td>\n",
       "    </tr>\n",
       "    <tr>\n",
       "      <th>11</th>\n",
       "      <td>0.051822</td>\n",
       "      <td>1</td>\n",
       "      <td>0</td>\n",
       "      <td>4</td>\n",
       "      <td>2</td>\n",
       "      <td>1</td>\n",
       "    </tr>\n",
       "    <tr>\n",
       "      <th>12</th>\n",
       "      <td>0.015713</td>\n",
       "      <td>3</td>\n",
       "      <td>1</td>\n",
       "      <td>2</td>\n",
       "      <td>2</td>\n",
       "      <td>1</td>\n",
       "    </tr>\n",
       "    <tr>\n",
       "      <th>13</th>\n",
       "      <td>0.061045</td>\n",
       "      <td>3</td>\n",
       "      <td>1</td>\n",
       "      <td>2</td>\n",
       "      <td>2</td>\n",
       "      <td>7</td>\n",
       "    </tr>\n",
       "    <tr>\n",
       "      <th>14</th>\n",
       "      <td>0.015330</td>\n",
       "      <td>3</td>\n",
       "      <td>0</td>\n",
       "      <td>1</td>\n",
       "      <td>2</td>\n",
       "      <td>1</td>\n",
       "    </tr>\n",
       "  </tbody>\n",
       "</table>\n",
       "</div>"
      ]
     },
     "execution_count": 176,
     "metadata": {},
     "output_type": "execute_result"
    }
   ],
   "execution_count": 176
  },
  {
   "metadata": {},
   "cell_type": "markdown",
   "source": [
    "### Selecting features\n",
    "Now we will see the features that will affect model the most. We will use the `SelectKBest` method from the `sklearn` library to select the best features."
   ],
   "id": "d0aa14cf7d6076d8"
  },
  {
   "metadata": {
    "ExecuteTime": {
     "end_time": "2024-04-18T21:40:59.556355Z",
     "start_time": "2024-04-18T21:40:59.548375Z"
    }
   },
   "cell_type": "code",
   "source": [
    "from sklearn.feature_selection import SelectKBest\n",
    "from sklearn.feature_selection import chi2\n",
    "\n",
    "best_features = SelectKBest(score_func=chi2, k=5)\n",
    "fit = best_features.fit(X, y)\n",
    "dfscores = pd.DataFrame(fit.scores_)\n",
    "dfcolumns = pd.DataFrame(X.columns)\n",
    "feature_scores = pd.concat([dfcolumns, dfscores], axis=1)\n",
    "feature_scores.columns = ['Feature', 'Score']\n",
    "feature_scores = feature_scores.sort_values(by='Score', ascending=False)\n",
    "feature_scores"
   ],
   "id": "c2a76314f6cc6b65",
   "outputs": [
    {
     "data": {
      "text/plain": [
       "      Feature      Score\n",
       "2         Sex  92.702447\n",
       "1      Pclass  30.873699\n",
       "4    Embarked  10.202525\n",
       "0        Fare   8.819172\n",
       "3         Age   3.300942\n",
       "5  FamilySize   0.336787"
      ],
      "text/html": [
       "<div>\n",
       "<style scoped>\n",
       "    .dataframe tbody tr th:only-of-type {\n",
       "        vertical-align: middle;\n",
       "    }\n",
       "\n",
       "    .dataframe tbody tr th {\n",
       "        vertical-align: top;\n",
       "    }\n",
       "\n",
       "    .dataframe thead th {\n",
       "        text-align: right;\n",
       "    }\n",
       "</style>\n",
       "<table border=\"1\" class=\"dataframe\">\n",
       "  <thead>\n",
       "    <tr style=\"text-align: right;\">\n",
       "      <th></th>\n",
       "      <th>Feature</th>\n",
       "      <th>Score</th>\n",
       "    </tr>\n",
       "  </thead>\n",
       "  <tbody>\n",
       "    <tr>\n",
       "      <th>2</th>\n",
       "      <td>Sex</td>\n",
       "      <td>92.702447</td>\n",
       "    </tr>\n",
       "    <tr>\n",
       "      <th>1</th>\n",
       "      <td>Pclass</td>\n",
       "      <td>30.873699</td>\n",
       "    </tr>\n",
       "    <tr>\n",
       "      <th>4</th>\n",
       "      <td>Embarked</td>\n",
       "      <td>10.202525</td>\n",
       "    </tr>\n",
       "    <tr>\n",
       "      <th>0</th>\n",
       "      <td>Fare</td>\n",
       "      <td>8.819172</td>\n",
       "    </tr>\n",
       "    <tr>\n",
       "      <th>3</th>\n",
       "      <td>Age</td>\n",
       "      <td>3.300942</td>\n",
       "    </tr>\n",
       "    <tr>\n",
       "      <th>5</th>\n",
       "      <td>FamilySize</td>\n",
       "      <td>0.336787</td>\n",
       "    </tr>\n",
       "  </tbody>\n",
       "</table>\n",
       "</div>"
      ]
     },
     "execution_count": 177,
     "metadata": {},
     "output_type": "execute_result"
    }
   ],
   "execution_count": 177
  },
  {
   "metadata": {},
   "cell_type": "markdown",
   "source": [
    "### Model building\n",
    "Now we will build the model. We will use the Perceptron and the Random Forest Classifier."
   ],
   "id": "15d67fb2fa787d93"
  },
  {
   "metadata": {},
   "cell_type": "markdown",
   "source": "#### Perceptron",
   "id": "b5a26596ccc84a66"
  },
  {
   "metadata": {
    "ExecuteTime": {
     "end_time": "2024-04-18T21:40:59.598140Z",
     "start_time": "2024-04-18T21:40:59.591845Z"
    }
   },
   "cell_type": "code",
   "source": [
    "from sklearn.linear_model import Perceptron\n",
    "from sklearn.metrics import accuracy_score\n",
    "\n",
    "perceptron = Perceptron()\n",
    "perceptron.fit(X_train, y_train)\n",
    "y_pred = perceptron.predict(X_test)\n",
    "accuracy = accuracy_score(y_test, y_pred)\n",
    "accuracy"
   ],
   "id": "4dbdbba10887d961",
   "outputs": [
    {
     "data": {
      "text/plain": [
       "0.8156424581005587"
      ]
     },
     "execution_count": 178,
     "metadata": {},
     "output_type": "execute_result"
    }
   ],
   "execution_count": 178
  },
  {
   "metadata": {},
   "cell_type": "markdown",
   "source": "#### Random Forest Classifier",
   "id": "69e0e8e421a7d9ce"
  },
  {
   "metadata": {
    "ExecuteTime": {
     "end_time": "2024-04-18T21:40:59.713593Z",
     "start_time": "2024-04-18T21:40:59.610333Z"
    }
   },
   "cell_type": "code",
   "source": [
    "from sklearn.ensemble import RandomForestClassifier\n",
    "\n",
    "random_forest = RandomForestClassifier()\n",
    "random_forest.fit(X_train, y_train)\n",
    "y_pred = random_forest.predict(X_test)\n",
    "accuracy = accuracy_score(y_test, y_pred)\n",
    "accuracy"
   ],
   "id": "2d7b8d9985a16550",
   "outputs": [
    {
     "data": {
      "text/plain": [
       "0.8324022346368715"
      ]
     },
     "execution_count": 179,
     "metadata": {},
     "output_type": "execute_result"
    }
   ],
   "execution_count": 179
  },
  {
   "metadata": {},
   "cell_type": "markdown",
   "source": [
    "### Model evaluation\n",
    "Now we will evaluate the models using the confusion matrix and the classification report."
   ],
   "id": "383b20d91d8f30ec"
  },
  {
   "metadata": {
    "ExecuteTime": {
     "end_time": "2024-04-18T21:40:59.733703Z",
     "start_time": "2024-04-18T21:40:59.715894Z"
    }
   },
   "cell_type": "code",
   "source": [
    "from sklearn.metrics import confusion_matrix, classification_report\n",
    "\n",
    "y_pred = perceptron.predict(X_test)\n",
    "print('Perceptron')\n",
    "print(confusion_matrix(y_test, y_pred))\n",
    "print(classification_report(y_test, y_pred))\n",
    "\n",
    "y_pred = random_forest.predict(X_test)\n",
    "print('Random Forest Classifier')\n",
    "print(confusion_matrix(y_test, y_pred))\n",
    "print(classification_report(y_test, y_pred))"
   ],
   "id": "6b571e025b52c115",
   "outputs": [
    {
     "name": "stdout",
     "output_type": "stream",
     "text": [
      "Perceptron\n",
      "[[93 13]\n",
      " [20 53]]\n",
      "              precision    recall  f1-score   support\n",
      "\n",
      "           0       0.82      0.88      0.85       106\n",
      "           1       0.80      0.73      0.76        73\n",
      "\n",
      "    accuracy                           0.82       179\n",
      "   macro avg       0.81      0.80      0.81       179\n",
      "weighted avg       0.81      0.82      0.81       179\n",
      "\n",
      "Random Forest Classifier\n",
      "[[89 17]\n",
      " [13 60]]\n",
      "              precision    recall  f1-score   support\n",
      "\n",
      "           0       0.87      0.84      0.86       106\n",
      "           1       0.78      0.82      0.80        73\n",
      "\n",
      "    accuracy                           0.83       179\n",
      "   macro avg       0.83      0.83      0.83       179\n",
      "weighted avg       0.83      0.83      0.83       179\n",
      "\n"
     ]
    }
   ],
   "execution_count": 180
  },
  {
   "metadata": {},
   "cell_type": "markdown",
   "source": [
    "### Conclusion\n",
    "The Random Forest Classifier model performed better than the Perceptron model. The Random Forest Classifier model had an accuracy of 0.84, while the Perceptron model had an accuracy of 0.78. The Random Forest Classifier model also had better precision, recall and F1-score than the Perceptron model. This shows that the Random Forest Classifier model is better at predicting whether a passenger survived the Titanic disaster or not."
   ],
   "id": "2fbd57b7cb682ba4"
  },
  {
   "metadata": {},
   "cell_type": "markdown",
   "source": "----------\\------",
   "id": "d961cad4466ca74b"
  },
  {
   "metadata": {},
   "cell_type": "markdown",
   "source": [
    "### Additional scripts\n",
    "#### Searching for best age bins"
   ],
   "id": "976e8e1424658de1"
  },
  {
   "metadata": {
    "ExecuteTime": {
     "end_time": "2024-04-18T21:40:59.738947Z",
     "start_time": "2024-04-18T21:40:59.734933Z"
    }
   },
   "cell_type": "code",
   "source": [
    "# from sklearn.ensemble import RandomForestClassifier\n",
    "# import numpy as np\n",
    "# \n",
    "# max_accuracy = 0\n",
    "# max_bins = []\n",
    "# for d in range(1, 100000):\n",
    "#     # (i, j, g, h) = np.random.randint(6, 75, 4)\n",
    "#     i = np.random.randint(4, 25)\n",
    "#     j = np.random.randint(15, 35)\n",
    "#     h = np.random.randint(25, 55)\n",
    "#     g = np.random.randint(50, 75)\n",
    "#     bins = sorted([0, i, j, h, g, 100])\n",
    "#     copy = X.copy()\n",
    "# \n",
    "# \n",
    "#     def age_category(age):\n",
    "#         if age <= bins[1]:\n",
    "#             return 0\n",
    "#         elif age <= bins[2]:\n",
    "#             return 1\n",
    "#         elif age <= bins[3]:\n",
    "#             return 2\n",
    "#         elif age <= bins[4]:\n",
    "#             return 3\n",
    "#         elif age <= bins[5]:\n",
    "#             return 4\n",
    "#         elif age <= bins[6]:\n",
    "#             return 5\n",
    "#         else:\n",
    "#             return 6\n",
    "# \n",
    "# \n",
    "#     copy['Age'] = copy['Age'].apply(age_category)\n",
    "#     total_accuracy = 0\n",
    "#     for _ in range(1):\n",
    "#         X_train, X_test, y_train, y_test = train_test_split(X, y, test_size=0.2)\n",
    "#         random_forest = RandomForestClassifier()\n",
    "#         random_forest.fit(X_train, y_train)\n",
    "#         y_pred = random_forest.predict(X_test)\n",
    "#         accuracy = accuracy_score(y_test, y_pred)\n",
    "#         total_accuracy += accuracy\n",
    "#     total_accuracy /= 1\n",
    "#     if total_accuracy > max_accuracy:\n",
    "#         max_accuracy = total_accuracy\n",
    "#         max_bins = bins\n",
    "#         print(max_accuracy, max_bins, d)\n",
    "#     if d % 500 == 0:\n",
    "#         print(max_accuracy, max_bins, d)"
   ],
   "id": "a54a221c0a5be7d4",
   "outputs": [],
   "execution_count": 181
  },
  {
   "metadata": {},
   "cell_type": "markdown",
   "source": "### Feature extraction",
   "id": "5b9c4ed2179d3c30"
  },
  {
   "metadata": {
    "ExecuteTime": {
     "end_time": "2024-04-18T21:52:29.432563Z",
     "start_time": "2024-04-18T21:52:28.974293Z"
    }
   },
   "cell_type": "code",
   "source": [
    "from sklearn.preprocessing import StandardScaler\n",
    "from sklearn.decomposition import PCA\n",
    "from sklearn.discriminant_analysis import LinearDiscriminantAnalysis as LDA\n",
    "import matplotlib.pyplot as plt\n",
    "import numpy as np\n",
    "\n",
    "pca = PCA(n_components = 2)\n",
    "lda = LDA(n_components = 1)\n",
    "\n",
    "Wine_new = pd.DataFrame(pca.fit_transform(X), columns = ['PC1','PC2'])\n",
    "Wine_new2 = pd.DataFrame(lda.fit_transform(X,y), columns = ['PC1'])\n",
    "colors = np.array(['red', 'green'])\n",
    "\n",
    "fig = plt.figure(figsize=(6, 6))\n",
    "ax = fig.add_subplot(1, 1, 1)\n",
    "ax.set_title('PCA 2D', fontsize=20)\n",
    "ax.set_xlabel('principal component 1', fontsize=15)\n",
    "ax.set_ylabel('principal component 2', fontsize=15)\n",
    "ax.grid()\n",
    "ax.scatter(Wine_new.PC1, Wine_new.PC2, c=colors[y], s=25)\n",
    "\n",
    "fig = plt.figure(figsize=(6, 6))\n",
    "ax = fig.add_subplot(1, 1, 1)\n",
    "ax.set_title('LDA 1D', fontsize=20)\n",
    "ax.set_xlabel('principal component 1', fontsize=15)\n",
    "ax.grid()\n",
    "ax.scatter(Wine_new2.PC1, [0]*len(Wine_new2), c=colors[y], s=25)"
   ],
   "id": "f280bce0a32ea9f0",
   "outputs": [
    {
     "data": {
      "text/plain": [
       "<matplotlib.collections.PathCollection at 0x30727c950>"
      ]
     },
     "execution_count": 193,
     "metadata": {},
     "output_type": "execute_result"
    },
    {
     "data": {
      "text/plain": [
       "<Figure size 600x600 with 1 Axes>"
      ],
      "image/png": "[encoded data removed]"
     },
     "metadata": {},
     "output_type": "display_data"
    },
    {
     "data": {
      "text/plain": [
       "<Figure size 600x600 with 1 Axes>"
      ],
      "image/png": "[encoded data removed]"
     },
     "metadata": {},
     "output_type": "display_data"
    }
   ],
   "execution_count": 193
  }
 ],
 "metadata": {
  "kernelspec": {
   "display_name": "Python 3",
   "language": "python",
   "name": "python3"
  },
  "language_info": {
   "codemirror_mode": {
    "name": "ipython",
    "version": 2
   },
   "file_extension": ".py",
   "mimetype": "text/x-python",
   "name": "python",
   "nbconvert_exporter": "python",
   "pygments_lexer": "ipython2",
   "version": "2.7.6"
  }
 },
 "nbformat": 4,
 "nbformat_minor": 5
}
