{
 "cells": [
  {
   "cell_type": "markdown",
   "metadata": {
    "id": "BZnIN20W_JcO"
   },
   "source": [
    "# Data pre-processing in Python\n",
    "\n",
    "The exercise shows basic pre-processing techniques (normalization, one-hot encoding, binarization) using `scikit-learn` and `pandas`.\n",
    "\n",
    "## Types of variables.\n",
    "\n",
    "Before we jump into the topic of normalization and standardization, let's talk about different types of variables, which describe attributes of entries in data sets. There are several possible categorizations: \n",
    "  * we can classify variables as dependent and independent, for dependent variables, there is a function that can convert one variable into another one, and the function can be either known or unknown $\\exists_{f}f(v_1) = v_2$. For independent variables, there is no such function.\n",
    "  * we can divide variables by their use in a data mining process into target variables and features (source variables) - we assume that there is a function, which is capable of mapping features into target variables. This function has to come from a set of hypothetic, often parametrized functions, which potentially could do the mapping.  This set of functions is called a hypothesis set (or hypothesis class) $f_{\\theta} \\in H, f(X,\\theta) = Y$. Here $X$ is a set of source variables, $Y$ is a set of target variables, $f_\\theta$ is a hypothesis, $\\theta$ is a set of parameters, and $H$ is a hypothesis set.\n",
    "  * finally we can divide variables by the type of the values as: continous, discrete or categorical. This distinction is specifically important in context of pre-processing techniques. The normalization, standarization and scaling can only be performed on continous variables. One-hot encoding can only be done for categorical variables. Discrete variables can be interpreted as either continous or categorical. Binarization is a process of converting continous variables into categorical ones.\n",
    "\n",
    "Let's take a look at variables in sk-learn datasets.\n",
    " "
   ]
  },
  {
   "cell_type": "code",
   "source": [
    "from sklearn import datasets, preprocessing\n",
    "import pandas as pd\n",
    "import numpy as np\n",
    "\n",
    "iris = datasets.load_iris()\n",
    "iris_dataframe = pd.DataFrame(np.concatenate([iris.data, np.array([iris.target]).T], axis=1),\n",
    "                              columns=iris.feature_names + ['target'])\n",
    "iris_dataframe"
   ],
   "metadata": {
    "colab": {
     "base_uri": "https://localhost:8080/",
     "height": 424
    },
    "id": "JZLL7tpB_DSC",
    "outputId": "d96e9df7-afbf-4576-c3b9-c30565b58d29",
    "ExecuteTime": {
     "end_time": "2024-03-20T18:03:07.928069Z",
     "start_time": "2024-03-20T18:03:07.912829Z"
    }
   },
   "execution_count": 17,
   "outputs": [
    {
     "data": {
      "text/plain": "     sepal length (cm)  sepal width (cm)  petal length (cm)  petal width (cm)  \\\n0                  5.1               3.5                1.4               0.2   \n1                  4.9               3.0                1.4               0.2   \n2                  4.7               3.2                1.3               0.2   \n3                  4.6               3.1                1.5               0.2   \n4                  5.0               3.6                1.4               0.2   \n..                 ...               ...                ...               ...   \n145                6.7               3.0                5.2               2.3   \n146                6.3               2.5                5.0               1.9   \n147                6.5               3.0                5.2               2.0   \n148                6.2               3.4                5.4               2.3   \n149                5.9               3.0                5.1               1.8   \n\n     target  \n0       0.0  \n1       0.0  \n2       0.0  \n3       0.0  \n4       0.0  \n..      ...  \n145     2.0  \n146     2.0  \n147     2.0  \n148     2.0  \n149     2.0  \n\n[150 rows x 5 columns]",
      "text/html": "<div>\n<style scoped>\n    .dataframe tbody tr th:only-of-type {\n        vertical-align: middle;\n    }\n\n    .dataframe tbody tr th {\n        vertical-align: top;\n    }\n\n    .dataframe thead th {\n        text-align: right;\n    }\n</style>\n<table border=\"1\" class=\"dataframe\">\n  <thead>\n    <tr style=\"text-align: right;\">\n      <th></th>\n      <th>sepal length (cm)</th>\n      <th>sepal width (cm)</th>\n      <th>petal length (cm)</th>\n      <th>petal width (cm)</th>\n      <th>target</th>\n    </tr>\n  </thead>\n  <tbody>\n    <tr>\n      <th>0</th>\n      <td>5.1</td>\n      <td>3.5</td>\n      <td>1.4</td>\n      <td>0.2</td>\n      <td>0.0</td>\n    </tr>\n    <tr>\n      <th>1</th>\n      <td>4.9</td>\n      <td>3.0</td>\n      <td>1.4</td>\n      <td>0.2</td>\n      <td>0.0</td>\n    </tr>\n    <tr>\n      <th>2</th>\n      <td>4.7</td>\n      <td>3.2</td>\n      <td>1.3</td>\n      <td>0.2</td>\n      <td>0.0</td>\n    </tr>\n    <tr>\n      <th>3</th>\n      <td>4.6</td>\n      <td>3.1</td>\n      <td>1.5</td>\n      <td>0.2</td>\n      <td>0.0</td>\n    </tr>\n    <tr>\n      <th>4</th>\n      <td>5.0</td>\n      <td>3.6</td>\n      <td>1.4</td>\n      <td>0.2</td>\n      <td>0.0</td>\n    </tr>\n    <tr>\n      <th>...</th>\n      <td>...</td>\n      <td>...</td>\n      <td>...</td>\n      <td>...</td>\n      <td>...</td>\n    </tr>\n    <tr>\n      <th>145</th>\n      <td>6.7</td>\n      <td>3.0</td>\n      <td>5.2</td>\n      <td>2.3</td>\n      <td>2.0</td>\n    </tr>\n    <tr>\n      <th>146</th>\n      <td>6.3</td>\n      <td>2.5</td>\n      <td>5.0</td>\n      <td>1.9</td>\n      <td>2.0</td>\n    </tr>\n    <tr>\n      <th>147</th>\n      <td>6.5</td>\n      <td>3.0</td>\n      <td>5.2</td>\n      <td>2.0</td>\n      <td>2.0</td>\n    </tr>\n    <tr>\n      <th>148</th>\n      <td>6.2</td>\n      <td>3.4</td>\n      <td>5.4</td>\n      <td>2.3</td>\n      <td>2.0</td>\n    </tr>\n    <tr>\n      <th>149</th>\n      <td>5.9</td>\n      <td>3.0</td>\n      <td>5.1</td>\n      <td>1.8</td>\n      <td>2.0</td>\n    </tr>\n  </tbody>\n</table>\n<p>150 rows × 5 columns</p>\n</div>"
     },
     "execution_count": 17,
     "metadata": {},
     "output_type": "execute_result"
    }
   ]
  },
  {
   "cell_type": "markdown",
   "source": [
    "Here we can clearly see that all of the features are continous, while the target variable is either discrete or categorical. We need to think how would we interpret it. In this case, each target value indicates one of the types of an iris: 0 - setosa, 1 - versicolor, 2 - virginica. The target variable is a categorical variable. Notice that in this case, `target = 2` is not greater than `target = 1`, or that `target = 1 + target = 1` does not equal `target = 2`. "
   ],
   "metadata": {
    "id": "KrMks16QCeL2"
   }
  },
  {
   "cell_type": "code",
   "source": [
    "iris.target_names"
   ],
   "metadata": {
    "colab": {
     "base_uri": "https://localhost:8080/"
    },
    "id": "7rx_NVcDCdoR",
    "outputId": "3fc11072-8869-4609-efee-29a33894484c",
    "ExecuteTime": {
     "end_time": "2024-03-20T18:03:08.319834Z",
     "start_time": "2024-03-20T18:03:08.314804Z"
    }
   },
   "execution_count": 18,
   "outputs": [
    {
     "data": {
      "text/plain": "array(['setosa', 'versicolor', 'virginica'], dtype='<U10')"
     },
     "execution_count": 18,
     "metadata": {},
     "output_type": "execute_result"
    }
   ]
  },
  {
   "cell_type": "code",
   "source": [
    "digits = datasets.load_digits()\n",
    "digits_dataframe = pd.DataFrame(np.concatenate([digits.data, np.array([digits.target]).T], axis=1),\n",
    "                                columns=digits.feature_names + ['target'])\n",
    "digits_dataframe"
   ],
   "metadata": {
    "colab": {
     "base_uri": "https://localhost:8080/",
     "height": 488
    },
    "id": "v2eg6AGHJWRJ",
    "outputId": "fea76f25-71bf-4e93-bce8-b1e9e9d392d0",
    "ExecuteTime": {
     "end_time": "2024-03-20T18:03:08.384843Z",
     "start_time": "2024-03-20T18:03:08.339189Z"
    }
   },
   "execution_count": 19,
   "outputs": [
    {
     "data": {
      "text/plain": "      pixel_0_0  pixel_0_1  pixel_0_2  pixel_0_3  pixel_0_4  pixel_0_5  \\\n0           0.0        0.0        5.0       13.0        9.0        1.0   \n1           0.0        0.0        0.0       12.0       13.0        5.0   \n2           0.0        0.0        0.0        4.0       15.0       12.0   \n3           0.0        0.0        7.0       15.0       13.0        1.0   \n4           0.0        0.0        0.0        1.0       11.0        0.0   \n...         ...        ...        ...        ...        ...        ...   \n1792        0.0        0.0        4.0       10.0       13.0        6.0   \n1793        0.0        0.0        6.0       16.0       13.0       11.0   \n1794        0.0        0.0        1.0       11.0       15.0        1.0   \n1795        0.0        0.0        2.0       10.0        7.0        0.0   \n1796        0.0        0.0       10.0       14.0        8.0        1.0   \n\n      pixel_0_6  pixel_0_7  pixel_1_0  pixel_1_1  ...  pixel_6_7  pixel_7_0  \\\n0           0.0        0.0        0.0        0.0  ...        0.0        0.0   \n1           0.0        0.0        0.0        0.0  ...        0.0        0.0   \n2           0.0        0.0        0.0        0.0  ...        0.0        0.0   \n3           0.0        0.0        0.0        8.0  ...        0.0        0.0   \n4           0.0        0.0        0.0        0.0  ...        0.0        0.0   \n...         ...        ...        ...        ...  ...        ...        ...   \n1792        0.0        0.0        0.0        1.0  ...        0.0        0.0   \n1793        1.0        0.0        0.0        0.0  ...        0.0        0.0   \n1794        0.0        0.0        0.0        0.0  ...        0.0        0.0   \n1795        0.0        0.0        0.0        0.0  ...        0.0        0.0   \n1796        0.0        0.0        0.0        2.0  ...        0.0        0.0   \n\n      pixel_7_1  pixel_7_2  pixel_7_3  pixel_7_4  pixel_7_5  pixel_7_6  \\\n0           0.0        6.0       13.0       10.0        0.0        0.0   \n1           0.0        0.0       11.0       16.0       10.0        0.0   \n2           0.0        0.0        3.0       11.0       16.0        9.0   \n3           0.0        7.0       13.0       13.0        9.0        0.0   \n4           0.0        0.0        2.0       16.0        4.0        0.0   \n...         ...        ...        ...        ...        ...        ...   \n1792        0.0        2.0       14.0       15.0        9.0        0.0   \n1793        0.0        6.0       16.0       14.0        6.0        0.0   \n1794        0.0        2.0        9.0       13.0        6.0        0.0   \n1795        0.0        5.0       12.0       16.0       12.0        0.0   \n1796        1.0        8.0       12.0       14.0       12.0        1.0   \n\n      pixel_7_7  target  \n0           0.0     0.0  \n1           0.0     1.0  \n2           0.0     2.0  \n3           0.0     3.0  \n4           0.0     4.0  \n...         ...     ...  \n1792        0.0     9.0  \n1793        0.0     0.0  \n1794        0.0     8.0  \n1795        0.0     9.0  \n1796        0.0     8.0  \n\n[1797 rows x 65 columns]",
      "text/html": "<div>\n<style scoped>\n    .dataframe tbody tr th:only-of-type {\n        vertical-align: middle;\n    }\n\n    .dataframe tbody tr th {\n        vertical-align: top;\n    }\n\n    .dataframe thead th {\n        text-align: right;\n    }\n</style>\n<table border=\"1\" class=\"dataframe\">\n  <thead>\n    <tr style=\"text-align: right;\">\n      <th></th>\n      <th>pixel_0_0</th>\n      <th>pixel_0_1</th>\n      <th>pixel_0_2</th>\n      <th>pixel_0_3</th>\n      <th>pixel_0_4</th>\n      <th>pixel_0_5</th>\n      <th>pixel_0_6</th>\n      <th>pixel_0_7</th>\n      <th>pixel_1_0</th>\n      <th>pixel_1_1</th>\n      <th>...</th>\n      <th>pixel_6_7</th>\n      <th>pixel_7_0</th>\n      <th>pixel_7_1</th>\n      <th>pixel_7_2</th>\n      <th>pixel_7_3</th>\n      <th>pixel_7_4</th>\n      <th>pixel_7_5</th>\n      <th>pixel_7_6</th>\n      <th>pixel_7_7</th>\n      <th>target</th>\n    </tr>\n  </thead>\n  <tbody>\n    <tr>\n      <th>0</th>\n      <td>0.0</td>\n      <td>0.0</td>\n      <td>5.0</td>\n      <td>13.0</td>\n      <td>9.0</td>\n      <td>1.0</td>\n      <td>0.0</td>\n      <td>0.0</td>\n      <td>0.0</td>\n      <td>0.0</td>\n      <td>...</td>\n      <td>0.0</td>\n      <td>0.0</td>\n      <td>0.0</td>\n      <td>6.0</td>\n      <td>13.0</td>\n      <td>10.0</td>\n      <td>0.0</td>\n      <td>0.0</td>\n      <td>0.0</td>\n      <td>0.0</td>\n    </tr>\n    <tr>\n      <th>1</th>\n      <td>0.0</td>\n      <td>0.0</td>\n      <td>0.0</td>\n      <td>12.0</td>\n      <td>13.0</td>\n      <td>5.0</td>\n      <td>0.0</td>\n      <td>0.0</td>\n      <td>0.0</td>\n      <td>0.0</td>\n      <td>...</td>\n      <td>0.0</td>\n      <td>0.0</td>\n      <td>0.0</td>\n      <td>0.0</td>\n      <td>11.0</td>\n      <td>16.0</td>\n      <td>10.0</td>\n      <td>0.0</td>\n      <td>0.0</td>\n      <td>1.0</td>\n    </tr>\n    <tr>\n      <th>2</th>\n      <td>0.0</td>\n      <td>0.0</td>\n      <td>0.0</td>\n      <td>4.0</td>\n      <td>15.0</td>\n      <td>12.0</td>\n      <td>0.0</td>\n      <td>0.0</td>\n      <td>0.0</td>\n      <td>0.0</td>\n      <td>...</td>\n      <td>0.0</td>\n      <td>0.0</td>\n      <td>0.0</td>\n      <td>0.0</td>\n      <td>3.0</td>\n      <td>11.0</td>\n      <td>16.0</td>\n      <td>9.0</td>\n      <td>0.0</td>\n      <td>2.0</td>\n    </tr>\n    <tr>\n      <th>3</th>\n      <td>0.0</td>\n      <td>0.0</td>\n      <td>7.0</td>\n      <td>15.0</td>\n      <td>13.0</td>\n      <td>1.0</td>\n      <td>0.0</td>\n      <td>0.0</td>\n      <td>0.0</td>\n      <td>8.0</td>\n      <td>...</td>\n      <td>0.0</td>\n      <td>0.0</td>\n      <td>0.0</td>\n      <td>7.0</td>\n      <td>13.0</td>\n      <td>13.0</td>\n      <td>9.0</td>\n      <td>0.0</td>\n      <td>0.0</td>\n      <td>3.0</td>\n    </tr>\n    <tr>\n      <th>4</th>\n      <td>0.0</td>\n      <td>0.0</td>\n      <td>0.0</td>\n      <td>1.0</td>\n      <td>11.0</td>\n      <td>0.0</td>\n      <td>0.0</td>\n      <td>0.0</td>\n      <td>0.0</td>\n      <td>0.0</td>\n      <td>...</td>\n      <td>0.0</td>\n      <td>0.0</td>\n      <td>0.0</td>\n      <td>0.0</td>\n      <td>2.0</td>\n      <td>16.0</td>\n      <td>4.0</td>\n      <td>0.0</td>\n      <td>0.0</td>\n      <td>4.0</td>\n    </tr>\n    <tr>\n      <th>...</th>\n      <td>...</td>\n      <td>...</td>\n      <td>...</td>\n      <td>...</td>\n      <td>...</td>\n      <td>...</td>\n      <td>...</td>\n      <td>...</td>\n      <td>...</td>\n      <td>...</td>\n      <td>...</td>\n      <td>...</td>\n      <td>...</td>\n      <td>...</td>\n      <td>...</td>\n      <td>...</td>\n      <td>...</td>\n      <td>...</td>\n      <td>...</td>\n      <td>...</td>\n      <td>...</td>\n    </tr>\n    <tr>\n      <th>1792</th>\n      <td>0.0</td>\n      <td>0.0</td>\n      <td>4.0</td>\n      <td>10.0</td>\n      <td>13.0</td>\n      <td>6.0</td>\n      <td>0.0</td>\n      <td>0.0</td>\n      <td>0.0</td>\n      <td>1.0</td>\n      <td>...</td>\n      <td>0.0</td>\n      <td>0.0</td>\n      <td>0.0</td>\n      <td>2.0</td>\n      <td>14.0</td>\n      <td>15.0</td>\n      <td>9.0</td>\n      <td>0.0</td>\n      <td>0.0</td>\n      <td>9.0</td>\n    </tr>\n    <tr>\n      <th>1793</th>\n      <td>0.0</td>\n      <td>0.0</td>\n      <td>6.0</td>\n      <td>16.0</td>\n      <td>13.0</td>\n      <td>11.0</td>\n      <td>1.0</td>\n      <td>0.0</td>\n      <td>0.0</td>\n      <td>0.0</td>\n      <td>...</td>\n      <td>0.0</td>\n      <td>0.0</td>\n      <td>0.0</td>\n      <td>6.0</td>\n      <td>16.0</td>\n      <td>14.0</td>\n      <td>6.0</td>\n      <td>0.0</td>\n      <td>0.0</td>\n      <td>0.0</td>\n    </tr>\n    <tr>\n      <th>1794</th>\n      <td>0.0</td>\n      <td>0.0</td>\n      <td>1.0</td>\n      <td>11.0</td>\n      <td>15.0</td>\n      <td>1.0</td>\n      <td>0.0</td>\n      <td>0.0</td>\n      <td>0.0</td>\n      <td>0.0</td>\n      <td>...</td>\n      <td>0.0</td>\n      <td>0.0</td>\n      <td>0.0</td>\n      <td>2.0</td>\n      <td>9.0</td>\n      <td>13.0</td>\n      <td>6.0</td>\n      <td>0.0</td>\n      <td>0.0</td>\n      <td>8.0</td>\n    </tr>\n    <tr>\n      <th>1795</th>\n      <td>0.0</td>\n      <td>0.0</td>\n      <td>2.0</td>\n      <td>10.0</td>\n      <td>7.0</td>\n      <td>0.0</td>\n      <td>0.0</td>\n      <td>0.0</td>\n      <td>0.0</td>\n      <td>0.0</td>\n      <td>...</td>\n      <td>0.0</td>\n      <td>0.0</td>\n      <td>0.0</td>\n      <td>5.0</td>\n      <td>12.0</td>\n      <td>16.0</td>\n      <td>12.0</td>\n      <td>0.0</td>\n      <td>0.0</td>\n      <td>9.0</td>\n    </tr>\n    <tr>\n      <th>1796</th>\n      <td>0.0</td>\n      <td>0.0</td>\n      <td>10.0</td>\n      <td>14.0</td>\n      <td>8.0</td>\n      <td>1.0</td>\n      <td>0.0</td>\n      <td>0.0</td>\n      <td>0.0</td>\n      <td>2.0</td>\n      <td>...</td>\n      <td>0.0</td>\n      <td>0.0</td>\n      <td>1.0</td>\n      <td>8.0</td>\n      <td>12.0</td>\n      <td>14.0</td>\n      <td>12.0</td>\n      <td>1.0</td>\n      <td>0.0</td>\n      <td>8.0</td>\n    </tr>\n  </tbody>\n</table>\n<p>1797 rows × 65 columns</p>\n</div>"
     },
     "execution_count": 19,
     "metadata": {},
     "output_type": "execute_result"
    }
   ]
  },
  {
   "cell_type": "markdown",
   "source": [
    "In the digits dataset all variables, except the target are discrete. We can interpret them as continous. The target variable is still categorical."
   ],
   "metadata": {
    "id": "y92AZXR6Jo5H"
   }
  },
  {
   "cell_type": "code",
   "source": [
    "wine = datasets.load_wine()\n",
    "wine_dataframe = pd.DataFrame(np.concatenate([wine.data, np.array([wine.target]).T], axis=1),\n",
    "                              columns=wine.feature_names + ['target'])\n",
    "wine_dataframe"
   ],
   "metadata": {
    "colab": {
     "base_uri": "https://localhost:8080/",
     "height": 424
    },
    "id": "_fzJBKlGJ8as",
    "outputId": "047382e4-9a21-4444-af18-1371ac17c86f",
    "ExecuteTime": {
     "end_time": "2024-03-20T18:03:08.446588Z",
     "start_time": "2024-03-20T18:03:08.421204Z"
    }
   },
   "execution_count": 20,
   "outputs": [
    {
     "data": {
      "text/plain": "     alcohol  malic_acid   ash  alcalinity_of_ash  magnesium  total_phenols  \\\n0      14.23        1.71  2.43               15.6      127.0           2.80   \n1      13.20        1.78  2.14               11.2      100.0           2.65   \n2      13.16        2.36  2.67               18.6      101.0           2.80   \n3      14.37        1.95  2.50               16.8      113.0           3.85   \n4      13.24        2.59  2.87               21.0      118.0           2.80   \n..       ...         ...   ...                ...        ...            ...   \n173    13.71        5.65  2.45               20.5       95.0           1.68   \n174    13.40        3.91  2.48               23.0      102.0           1.80   \n175    13.27        4.28  2.26               20.0      120.0           1.59   \n176    13.17        2.59  2.37               20.0      120.0           1.65   \n177    14.13        4.10  2.74               24.5       96.0           2.05   \n\n     flavanoids  nonflavanoid_phenols  proanthocyanins  color_intensity   hue  \\\n0          3.06                  0.28             2.29             5.64  1.04   \n1          2.76                  0.26             1.28             4.38  1.05   \n2          3.24                  0.30             2.81             5.68  1.03   \n3          3.49                  0.24             2.18             7.80  0.86   \n4          2.69                  0.39             1.82             4.32  1.04   \n..          ...                   ...              ...              ...   ...   \n173        0.61                  0.52             1.06             7.70  0.64   \n174        0.75                  0.43             1.41             7.30  0.70   \n175        0.69                  0.43             1.35            10.20  0.59   \n176        0.68                  0.53             1.46             9.30  0.60   \n177        0.76                  0.56             1.35             9.20  0.61   \n\n     od280/od315_of_diluted_wines  proline  target  \n0                            3.92   1065.0     0.0  \n1                            3.40   1050.0     0.0  \n2                            3.17   1185.0     0.0  \n3                            3.45   1480.0     0.0  \n4                            2.93    735.0     0.0  \n..                            ...      ...     ...  \n173                          1.74    740.0     2.0  \n174                          1.56    750.0     2.0  \n175                          1.56    835.0     2.0  \n176                          1.62    840.0     2.0  \n177                          1.60    560.0     2.0  \n\n[178 rows x 14 columns]",
      "text/html": "<div>\n<style scoped>\n    .dataframe tbody tr th:only-of-type {\n        vertical-align: middle;\n    }\n\n    .dataframe tbody tr th {\n        vertical-align: top;\n    }\n\n    .dataframe thead th {\n        text-align: right;\n    }\n</style>\n<table border=\"1\" class=\"dataframe\">\n  <thead>\n    <tr style=\"text-align: right;\">\n      <th></th>\n      <th>alcohol</th>\n      <th>malic_acid</th>\n      <th>ash</th>\n      <th>alcalinity_of_ash</th>\n      <th>magnesium</th>\n      <th>total_phenols</th>\n      <th>flavanoids</th>\n      <th>nonflavanoid_phenols</th>\n      <th>proanthocyanins</th>\n      <th>color_intensity</th>\n      <th>hue</th>\n      <th>od280/od315_of_diluted_wines</th>\n      <th>proline</th>\n      <th>target</th>\n    </tr>\n  </thead>\n  <tbody>\n    <tr>\n      <th>0</th>\n      <td>14.23</td>\n      <td>1.71</td>\n      <td>2.43</td>\n      <td>15.6</td>\n      <td>127.0</td>\n      <td>2.80</td>\n      <td>3.06</td>\n      <td>0.28</td>\n      <td>2.29</td>\n      <td>5.64</td>\n      <td>1.04</td>\n      <td>3.92</td>\n      <td>1065.0</td>\n      <td>0.0</td>\n    </tr>\n    <tr>\n      <th>1</th>\n      <td>13.20</td>\n      <td>1.78</td>\n      <td>2.14</td>\n      <td>11.2</td>\n      <td>100.0</td>\n      <td>2.65</td>\n      <td>2.76</td>\n      <td>0.26</td>\n      <td>1.28</td>\n      <td>4.38</td>\n      <td>1.05</td>\n      <td>3.40</td>\n      <td>1050.0</td>\n      <td>0.0</td>\n    </tr>\n    <tr>\n      <th>2</th>\n      <td>13.16</td>\n      <td>2.36</td>\n      <td>2.67</td>\n      <td>18.6</td>\n      <td>101.0</td>\n      <td>2.80</td>\n      <td>3.24</td>\n      <td>0.30</td>\n      <td>2.81</td>\n      <td>5.68</td>\n      <td>1.03</td>\n      <td>3.17</td>\n      <td>1185.0</td>\n      <td>0.0</td>\n    </tr>\n    <tr>\n      <th>3</th>\n      <td>14.37</td>\n      <td>1.95</td>\n      <td>2.50</td>\n      <td>16.8</td>\n      <td>113.0</td>\n      <td>3.85</td>\n      <td>3.49</td>\n      <td>0.24</td>\n      <td>2.18</td>\n      <td>7.80</td>\n      <td>0.86</td>\n      <td>3.45</td>\n      <td>1480.0</td>\n      <td>0.0</td>\n    </tr>\n    <tr>\n      <th>4</th>\n      <td>13.24</td>\n      <td>2.59</td>\n      <td>2.87</td>\n      <td>21.0</td>\n      <td>118.0</td>\n      <td>2.80</td>\n      <td>2.69</td>\n      <td>0.39</td>\n      <td>1.82</td>\n      <td>4.32</td>\n      <td>1.04</td>\n      <td>2.93</td>\n      <td>735.0</td>\n      <td>0.0</td>\n    </tr>\n    <tr>\n      <th>...</th>\n      <td>...</td>\n      <td>...</td>\n      <td>...</td>\n      <td>...</td>\n      <td>...</td>\n      <td>...</td>\n      <td>...</td>\n      <td>...</td>\n      <td>...</td>\n      <td>...</td>\n      <td>...</td>\n      <td>...</td>\n      <td>...</td>\n      <td>...</td>\n    </tr>\n    <tr>\n      <th>173</th>\n      <td>13.71</td>\n      <td>5.65</td>\n      <td>2.45</td>\n      <td>20.5</td>\n      <td>95.0</td>\n      <td>1.68</td>\n      <td>0.61</td>\n      <td>0.52</td>\n      <td>1.06</td>\n      <td>7.70</td>\n      <td>0.64</td>\n      <td>1.74</td>\n      <td>740.0</td>\n      <td>2.0</td>\n    </tr>\n    <tr>\n      <th>174</th>\n      <td>13.40</td>\n      <td>3.91</td>\n      <td>2.48</td>\n      <td>23.0</td>\n      <td>102.0</td>\n      <td>1.80</td>\n      <td>0.75</td>\n      <td>0.43</td>\n      <td>1.41</td>\n      <td>7.30</td>\n      <td>0.70</td>\n      <td>1.56</td>\n      <td>750.0</td>\n      <td>2.0</td>\n    </tr>\n    <tr>\n      <th>175</th>\n      <td>13.27</td>\n      <td>4.28</td>\n      <td>2.26</td>\n      <td>20.0</td>\n      <td>120.0</td>\n      <td>1.59</td>\n      <td>0.69</td>\n      <td>0.43</td>\n      <td>1.35</td>\n      <td>10.20</td>\n      <td>0.59</td>\n      <td>1.56</td>\n      <td>835.0</td>\n      <td>2.0</td>\n    </tr>\n    <tr>\n      <th>176</th>\n      <td>13.17</td>\n      <td>2.59</td>\n      <td>2.37</td>\n      <td>20.0</td>\n      <td>120.0</td>\n      <td>1.65</td>\n      <td>0.68</td>\n      <td>0.53</td>\n      <td>1.46</td>\n      <td>9.30</td>\n      <td>0.60</td>\n      <td>1.62</td>\n      <td>840.0</td>\n      <td>2.0</td>\n    </tr>\n    <tr>\n      <th>177</th>\n      <td>14.13</td>\n      <td>4.10</td>\n      <td>2.74</td>\n      <td>24.5</td>\n      <td>96.0</td>\n      <td>2.05</td>\n      <td>0.76</td>\n      <td>0.56</td>\n      <td>1.35</td>\n      <td>9.20</td>\n      <td>0.61</td>\n      <td>1.60</td>\n      <td>560.0</td>\n      <td>2.0</td>\n    </tr>\n  </tbody>\n</table>\n<p>178 rows × 14 columns</p>\n</div>"
     },
     "execution_count": 20,
     "metadata": {},
     "output_type": "execute_result"
    }
   ]
  },
  {
   "cell_type": "code",
   "source": [
    "print(wine.DESCR)"
   ],
   "metadata": {
    "colab": {
     "base_uri": "https://localhost:8080/"
    },
    "id": "eux5S3O8Kgga",
    "outputId": "178a9388-f92f-44a4-bfc2-f2157003ee2e",
    "ExecuteTime": {
     "end_time": "2024-03-20T18:03:08.525151Z",
     "start_time": "2024-03-20T18:03:08.521311Z"
    }
   },
   "execution_count": 21,
   "outputs": [
    {
     "name": "stdout",
     "output_type": "stream",
     "text": [
      ".. _wine_dataset:\n",
      "\n",
      "Wine recognition dataset\n",
      "------------------------\n",
      "\n",
      "**Data Set Characteristics:**\n",
      "\n",
      ":Number of Instances: 178\n",
      ":Number of Attributes: 13 numeric, predictive attributes and the class\n",
      ":Attribute Information:\n",
      "    - Alcohol\n",
      "    - Malic acid\n",
      "    - Ash\n",
      "    - Alcalinity of ash\n",
      "    - Magnesium\n",
      "    - Total phenols\n",
      "    - Flavanoids\n",
      "    - Nonflavanoid phenols\n",
      "    - Proanthocyanins\n",
      "    - Color intensity\n",
      "    - Hue\n",
      "    - OD280/OD315 of diluted wines\n",
      "    - Proline\n",
      "    - class:\n",
      "        - class_0\n",
      "        - class_1\n",
      "        - class_2\n",
      "\n",
      ":Summary Statistics:\n",
      "\n",
      "============================= ==== ===== ======= =====\n",
      "                                Min   Max   Mean     SD\n",
      "============================= ==== ===== ======= =====\n",
      "Alcohol:                      11.0  14.8    13.0   0.8\n",
      "Malic Acid:                   0.74  5.80    2.34  1.12\n",
      "Ash:                          1.36  3.23    2.36  0.27\n",
      "Alcalinity of Ash:            10.6  30.0    19.5   3.3\n",
      "Magnesium:                    70.0 162.0    99.7  14.3\n",
      "Total Phenols:                0.98  3.88    2.29  0.63\n",
      "Flavanoids:                   0.34  5.08    2.03  1.00\n",
      "Nonflavanoid Phenols:         0.13  0.66    0.36  0.12\n",
      "Proanthocyanins:              0.41  3.58    1.59  0.57\n",
      "Colour Intensity:              1.3  13.0     5.1   2.3\n",
      "Hue:                          0.48  1.71    0.96  0.23\n",
      "OD280/OD315 of diluted wines: 1.27  4.00    2.61  0.71\n",
      "Proline:                       278  1680     746   315\n",
      "============================= ==== ===== ======= =====\n",
      "\n",
      ":Missing Attribute Values: None\n",
      ":Class Distribution: class_0 (59), class_1 (71), class_2 (48)\n",
      ":Creator: R.A. Fisher\n",
      ":Donor: Michael Marshall (MARSHALL%PLU@io.arc.nasa.gov)\n",
      ":Date: July, 1988\n",
      "\n",
      "This is a copy of UCI ML Wine recognition datasets.\n",
      "https://archive.ics.uci.edu/ml/machine-learning-databases/wine/wine.data\n",
      "\n",
      "The data is the results of a chemical analysis of wines grown in the same\n",
      "region in Italy by three different cultivators. There are thirteen different\n",
      "measurements taken for different constituents found in the three types of\n",
      "wine.\n",
      "\n",
      "Original Owners:\n",
      "\n",
      "Forina, M. et al, PARVUS -\n",
      "An Extendible Package for Data Exploration, Classification and Correlation.\n",
      "Institute of Pharmaceutical and Food Analysis and Technologies,\n",
      "Via Brigata Salerno, 16147 Genoa, Italy.\n",
      "\n",
      "Citation:\n",
      "\n",
      "Lichman, M. (2013). UCI Machine Learning Repository\n",
      "[https://archive.ics.uci.edu/ml]. Irvine, CA: University of California,\n",
      "School of Information and Computer Science.\n",
      "\n",
      "|details-start|\n",
      "**References**\n",
      "|details-split|\n",
      "\n",
      "(1) S. Aeberhard, D. Coomans and O. de Vel,\n",
      "Comparison of Classifiers in High Dimensional Settings,\n",
      "Tech. Rep. no. 92-02, (1992), Dept. of Computer Science and Dept. of\n",
      "Mathematics and Statistics, James Cook University of North Queensland.\n",
      "(Also submitted to Technometrics).\n",
      "\n",
      "The data was used with many others for comparing various\n",
      "classifiers. The classes are separable, though only RDA\n",
      "has achieved 100% correct classification.\n",
      "(RDA : 100%, QDA 99.4%, LDA 98.9%, 1NN 96.1% (z-transformed data))\n",
      "(All results using the leave-one-out technique)\n",
      "\n",
      "(2) S. Aeberhard, D. Coomans and O. de Vel,\n",
      "\"THE CLASSIFICATION PERFORMANCE OF RDA\"\n",
      "Tech. Rep. no. 92-01, (1992), Dept. of Computer Science and Dept. of\n",
      "Mathematics and Statistics, James Cook University of North Queensland.\n",
      "(Also submitted to Journal of Chemometrics).\n",
      "\n",
      "|details-end|\n"
     ]
    }
   ]
  },
  {
   "cell_type": "code",
   "source": [
    "diabetes = datasets.load_diabetes()\n",
    "diabetes_dataframe = pd.DataFrame(np.concatenate([diabetes.data, np.array([diabetes.target]).T], axis=1),\n",
    "                                  columns=diabetes.feature_names + ['target'])\n",
    "diabetes_dataframe"
   ],
   "metadata": {
    "colab": {
     "base_uri": "https://localhost:8080/",
     "height": 424
    },
    "id": "vvLW6qaUK7tB",
    "outputId": "72d2a485-6be9-4390-b6e2-a8c3e6276ec6",
    "ExecuteTime": {
     "end_time": "2024-03-20T18:03:08.698867Z",
     "start_time": "2024-03-20T18:03:08.676465Z"
    }
   },
   "execution_count": 22,
   "outputs": [
    {
     "data": {
      "text/plain": "          age       sex       bmi        bp        s1        s2        s3  \\\n0    0.038076  0.050680  0.061696  0.021872 -0.044223 -0.034821 -0.043401   \n1   -0.001882 -0.044642 -0.051474 -0.026328 -0.008449 -0.019163  0.074412   \n2    0.085299  0.050680  0.044451 -0.005670 -0.045599 -0.034194 -0.032356   \n3   -0.089063 -0.044642 -0.011595 -0.036656  0.012191  0.024991 -0.036038   \n4    0.005383 -0.044642 -0.036385  0.021872  0.003935  0.015596  0.008142   \n..        ...       ...       ...       ...       ...       ...       ...   \n437  0.041708  0.050680  0.019662  0.059744 -0.005697 -0.002566 -0.028674   \n438 -0.005515  0.050680 -0.015906 -0.067642  0.049341  0.079165 -0.028674   \n439  0.041708  0.050680 -0.015906  0.017293 -0.037344 -0.013840 -0.024993   \n440 -0.045472 -0.044642  0.039062  0.001215  0.016318  0.015283 -0.028674   \n441 -0.045472 -0.044642 -0.073030 -0.081413  0.083740  0.027809  0.173816   \n\n           s4        s5        s6  target  \n0   -0.002592  0.019907 -0.017646   151.0  \n1   -0.039493 -0.068332 -0.092204    75.0  \n2   -0.002592  0.002861 -0.025930   141.0  \n3    0.034309  0.022688 -0.009362   206.0  \n4   -0.002592 -0.031988 -0.046641   135.0  \n..        ...       ...       ...     ...  \n437 -0.002592  0.031193  0.007207   178.0  \n438  0.034309 -0.018114  0.044485   104.0  \n439 -0.011080 -0.046883  0.015491   132.0  \n440  0.026560  0.044529 -0.025930   220.0  \n441 -0.039493 -0.004222  0.003064    57.0  \n\n[442 rows x 11 columns]",
      "text/html": "<div>\n<style scoped>\n    .dataframe tbody tr th:only-of-type {\n        vertical-align: middle;\n    }\n\n    .dataframe tbody tr th {\n        vertical-align: top;\n    }\n\n    .dataframe thead th {\n        text-align: right;\n    }\n</style>\n<table border=\"1\" class=\"dataframe\">\n  <thead>\n    <tr style=\"text-align: right;\">\n      <th></th>\n      <th>age</th>\n      <th>sex</th>\n      <th>bmi</th>\n      <th>bp</th>\n      <th>s1</th>\n      <th>s2</th>\n      <th>s3</th>\n      <th>s4</th>\n      <th>s5</th>\n      <th>s6</th>\n      <th>target</th>\n    </tr>\n  </thead>\n  <tbody>\n    <tr>\n      <th>0</th>\n      <td>0.038076</td>\n      <td>0.050680</td>\n      <td>0.061696</td>\n      <td>0.021872</td>\n      <td>-0.044223</td>\n      <td>-0.034821</td>\n      <td>-0.043401</td>\n      <td>-0.002592</td>\n      <td>0.019907</td>\n      <td>-0.017646</td>\n      <td>151.0</td>\n    </tr>\n    <tr>\n      <th>1</th>\n      <td>-0.001882</td>\n      <td>-0.044642</td>\n      <td>-0.051474</td>\n      <td>-0.026328</td>\n      <td>-0.008449</td>\n      <td>-0.019163</td>\n      <td>0.074412</td>\n      <td>-0.039493</td>\n      <td>-0.068332</td>\n      <td>-0.092204</td>\n      <td>75.0</td>\n    </tr>\n    <tr>\n      <th>2</th>\n      <td>0.085299</td>\n      <td>0.050680</td>\n      <td>0.044451</td>\n      <td>-0.005670</td>\n      <td>-0.045599</td>\n      <td>-0.034194</td>\n      <td>-0.032356</td>\n      <td>-0.002592</td>\n      <td>0.002861</td>\n      <td>-0.025930</td>\n      <td>141.0</td>\n    </tr>\n    <tr>\n      <th>3</th>\n      <td>-0.089063</td>\n      <td>-0.044642</td>\n      <td>-0.011595</td>\n      <td>-0.036656</td>\n      <td>0.012191</td>\n      <td>0.024991</td>\n      <td>-0.036038</td>\n      <td>0.034309</td>\n      <td>0.022688</td>\n      <td>-0.009362</td>\n      <td>206.0</td>\n    </tr>\n    <tr>\n      <th>4</th>\n      <td>0.005383</td>\n      <td>-0.044642</td>\n      <td>-0.036385</td>\n      <td>0.021872</td>\n      <td>0.003935</td>\n      <td>0.015596</td>\n      <td>0.008142</td>\n      <td>-0.002592</td>\n      <td>-0.031988</td>\n      <td>-0.046641</td>\n      <td>135.0</td>\n    </tr>\n    <tr>\n      <th>...</th>\n      <td>...</td>\n      <td>...</td>\n      <td>...</td>\n      <td>...</td>\n      <td>...</td>\n      <td>...</td>\n      <td>...</td>\n      <td>...</td>\n      <td>...</td>\n      <td>...</td>\n      <td>...</td>\n    </tr>\n    <tr>\n      <th>437</th>\n      <td>0.041708</td>\n      <td>0.050680</td>\n      <td>0.019662</td>\n      <td>0.059744</td>\n      <td>-0.005697</td>\n      <td>-0.002566</td>\n      <td>-0.028674</td>\n      <td>-0.002592</td>\n      <td>0.031193</td>\n      <td>0.007207</td>\n      <td>178.0</td>\n    </tr>\n    <tr>\n      <th>438</th>\n      <td>-0.005515</td>\n      <td>0.050680</td>\n      <td>-0.015906</td>\n      <td>-0.067642</td>\n      <td>0.049341</td>\n      <td>0.079165</td>\n      <td>-0.028674</td>\n      <td>0.034309</td>\n      <td>-0.018114</td>\n      <td>0.044485</td>\n      <td>104.0</td>\n    </tr>\n    <tr>\n      <th>439</th>\n      <td>0.041708</td>\n      <td>0.050680</td>\n      <td>-0.015906</td>\n      <td>0.017293</td>\n      <td>-0.037344</td>\n      <td>-0.013840</td>\n      <td>-0.024993</td>\n      <td>-0.011080</td>\n      <td>-0.046883</td>\n      <td>0.015491</td>\n      <td>132.0</td>\n    </tr>\n    <tr>\n      <th>440</th>\n      <td>-0.045472</td>\n      <td>-0.044642</td>\n      <td>0.039062</td>\n      <td>0.001215</td>\n      <td>0.016318</td>\n      <td>0.015283</td>\n      <td>-0.028674</td>\n      <td>0.026560</td>\n      <td>0.044529</td>\n      <td>-0.025930</td>\n      <td>220.0</td>\n    </tr>\n    <tr>\n      <th>441</th>\n      <td>-0.045472</td>\n      <td>-0.044642</td>\n      <td>-0.073030</td>\n      <td>-0.081413</td>\n      <td>0.083740</td>\n      <td>0.027809</td>\n      <td>0.173816</td>\n      <td>-0.039493</td>\n      <td>-0.004222</td>\n      <td>0.003064</td>\n      <td>57.0</td>\n    </tr>\n  </tbody>\n</table>\n<p>442 rows × 11 columns</p>\n</div>"
     },
     "execution_count": 22,
     "metadata": {},
     "output_type": "execute_result"
    }
   ]
  },
  {
   "cell_type": "markdown",
   "source": [
    "The diabetes dataset is similar to the previous ones, however the target variable should be interpreted as discrete or continous, it's not a categorical variable."
   ],
   "metadata": {
    "id": "GZQS1SDULNhj"
   }
  },
  {
   "cell_type": "code",
   "source": [
    "linnerud = datasets.load_linnerud()\n",
    "linnerud_dataframe = pd.DataFrame(np.concatenate([linnerud.data, linnerud.target], axis=1),\n",
    "                                  columns=linnerud.feature_names + linnerud.target_names)\n",
    "linnerud_dataframe"
   ],
   "metadata": {
    "colab": {
     "base_uri": "https://localhost:8080/",
     "height": 677
    },
    "id": "VRXrDkrzLcFt",
    "outputId": "b62d0907-7444-411d-90ce-35bce2d9b4d3",
    "ExecuteTime": {
     "end_time": "2024-03-20T18:03:08.860219Z",
     "start_time": "2024-03-20T18:03:08.838796Z"
    }
   },
   "execution_count": 23,
   "outputs": [
    {
     "data": {
      "text/plain": "    Chins  Situps  Jumps  Weight  Waist  Pulse\n0     5.0   162.0   60.0   191.0   36.0   50.0\n1     2.0   110.0   60.0   189.0   37.0   52.0\n2    12.0   101.0  101.0   193.0   38.0   58.0\n3    12.0   105.0   37.0   162.0   35.0   62.0\n4    13.0   155.0   58.0   189.0   35.0   46.0\n5     4.0   101.0   42.0   182.0   36.0   56.0\n6     8.0   101.0   38.0   211.0   38.0   56.0\n7     6.0   125.0   40.0   167.0   34.0   60.0\n8    15.0   200.0   40.0   176.0   31.0   74.0\n9    17.0   251.0  250.0   154.0   33.0   56.0\n10   17.0   120.0   38.0   169.0   34.0   50.0\n11   13.0   210.0  115.0   166.0   33.0   52.0\n12   14.0   215.0  105.0   154.0   34.0   64.0\n13    1.0    50.0   50.0   247.0   46.0   50.0\n14    6.0    70.0   31.0   193.0   36.0   46.0\n15   12.0   210.0  120.0   202.0   37.0   62.0\n16    4.0    60.0   25.0   176.0   37.0   54.0\n17   11.0   230.0   80.0   157.0   32.0   52.0\n18   15.0   225.0   73.0   156.0   33.0   54.0\n19    2.0   110.0   43.0   138.0   33.0   68.0",
      "text/html": "<div>\n<style scoped>\n    .dataframe tbody tr th:only-of-type {\n        vertical-align: middle;\n    }\n\n    .dataframe tbody tr th {\n        vertical-align: top;\n    }\n\n    .dataframe thead th {\n        text-align: right;\n    }\n</style>\n<table border=\"1\" class=\"dataframe\">\n  <thead>\n    <tr style=\"text-align: right;\">\n      <th></th>\n      <th>Chins</th>\n      <th>Situps</th>\n      <th>Jumps</th>\n      <th>Weight</th>\n      <th>Waist</th>\n      <th>Pulse</th>\n    </tr>\n  </thead>\n  <tbody>\n    <tr>\n      <th>0</th>\n      <td>5.0</td>\n      <td>162.0</td>\n      <td>60.0</td>\n      <td>191.0</td>\n      <td>36.0</td>\n      <td>50.0</td>\n    </tr>\n    <tr>\n      <th>1</th>\n      <td>2.0</td>\n      <td>110.0</td>\n      <td>60.0</td>\n      <td>189.0</td>\n      <td>37.0</td>\n      <td>52.0</td>\n    </tr>\n    <tr>\n      <th>2</th>\n      <td>12.0</td>\n      <td>101.0</td>\n      <td>101.0</td>\n      <td>193.0</td>\n      <td>38.0</td>\n      <td>58.0</td>\n    </tr>\n    <tr>\n      <th>3</th>\n      <td>12.0</td>\n      <td>105.0</td>\n      <td>37.0</td>\n      <td>162.0</td>\n      <td>35.0</td>\n      <td>62.0</td>\n    </tr>\n    <tr>\n      <th>4</th>\n      <td>13.0</td>\n      <td>155.0</td>\n      <td>58.0</td>\n      <td>189.0</td>\n      <td>35.0</td>\n      <td>46.0</td>\n    </tr>\n    <tr>\n      <th>5</th>\n      <td>4.0</td>\n      <td>101.0</td>\n      <td>42.0</td>\n      <td>182.0</td>\n      <td>36.0</td>\n      <td>56.0</td>\n    </tr>\n    <tr>\n      <th>6</th>\n      <td>8.0</td>\n      <td>101.0</td>\n      <td>38.0</td>\n      <td>211.0</td>\n      <td>38.0</td>\n      <td>56.0</td>\n    </tr>\n    <tr>\n      <th>7</th>\n      <td>6.0</td>\n      <td>125.0</td>\n      <td>40.0</td>\n      <td>167.0</td>\n      <td>34.0</td>\n      <td>60.0</td>\n    </tr>\n    <tr>\n      <th>8</th>\n      <td>15.0</td>\n      <td>200.0</td>\n      <td>40.0</td>\n      <td>176.0</td>\n      <td>31.0</td>\n      <td>74.0</td>\n    </tr>\n    <tr>\n      <th>9</th>\n      <td>17.0</td>\n      <td>251.0</td>\n      <td>250.0</td>\n      <td>154.0</td>\n      <td>33.0</td>\n      <td>56.0</td>\n    </tr>\n    <tr>\n      <th>10</th>\n      <td>17.0</td>\n      <td>120.0</td>\n      <td>38.0</td>\n      <td>169.0</td>\n      <td>34.0</td>\n      <td>50.0</td>\n    </tr>\n    <tr>\n      <th>11</th>\n      <td>13.0</td>\n      <td>210.0</td>\n      <td>115.0</td>\n      <td>166.0</td>\n      <td>33.0</td>\n      <td>52.0</td>\n    </tr>\n    <tr>\n      <th>12</th>\n      <td>14.0</td>\n      <td>215.0</td>\n      <td>105.0</td>\n      <td>154.0</td>\n      <td>34.0</td>\n      <td>64.0</td>\n    </tr>\n    <tr>\n      <th>13</th>\n      <td>1.0</td>\n      <td>50.0</td>\n      <td>50.0</td>\n      <td>247.0</td>\n      <td>46.0</td>\n      <td>50.0</td>\n    </tr>\n    <tr>\n      <th>14</th>\n      <td>6.0</td>\n      <td>70.0</td>\n      <td>31.0</td>\n      <td>193.0</td>\n      <td>36.0</td>\n      <td>46.0</td>\n    </tr>\n    <tr>\n      <th>15</th>\n      <td>12.0</td>\n      <td>210.0</td>\n      <td>120.0</td>\n      <td>202.0</td>\n      <td>37.0</td>\n      <td>62.0</td>\n    </tr>\n    <tr>\n      <th>16</th>\n      <td>4.0</td>\n      <td>60.0</td>\n      <td>25.0</td>\n      <td>176.0</td>\n      <td>37.0</td>\n      <td>54.0</td>\n    </tr>\n    <tr>\n      <th>17</th>\n      <td>11.0</td>\n      <td>230.0</td>\n      <td>80.0</td>\n      <td>157.0</td>\n      <td>32.0</td>\n      <td>52.0</td>\n    </tr>\n    <tr>\n      <th>18</th>\n      <td>15.0</td>\n      <td>225.0</td>\n      <td>73.0</td>\n      <td>156.0</td>\n      <td>33.0</td>\n      <td>54.0</td>\n    </tr>\n    <tr>\n      <th>19</th>\n      <td>2.0</td>\n      <td>110.0</td>\n      <td>43.0</td>\n      <td>138.0</td>\n      <td>33.0</td>\n      <td>68.0</td>\n    </tr>\n  </tbody>\n</table>\n</div>"
     },
     "execution_count": 23,
     "metadata": {},
     "output_type": "execute_result"
    }
   ]
  },
  {
   "cell_type": "markdown",
   "source": [
    "In the Linnerud dataset all of the variables, including three target variables, are discrete and can be interpreted as continous."
   ],
   "metadata": {
    "id": "IWyR6rYeMI8R"
   }
  },
  {
   "cell_type": "markdown",
   "source": [
    "\n",
    "## Why and when should the data be normalized?\n",
    "\n",
    "When dealing with raw measurement data, very often the values of each attribute will come in different ranges. For example the speed of a car (in km/h) is going to be within $0-10^{3}$ range, while the volume of an engine (in cc) is going to be within $10^2-10^4$ range. We do not want the range of an attribute to impact the algorithm we use. Why should we normalize data? At the begninng of our journey with data mining we just assume that we should normalize. We just get better and more consistent results when we normalize. "
   ],
   "metadata": {
    "id": "N8Lkny84_I1t"
   }
  },
  {
   "cell_type": "markdown",
   "metadata": {
    "id": "_uZQFRGg_JcT"
   },
   "source": [
    "## Normalization techniques"
   ]
  },
  {
   "cell_type": "markdown",
   "metadata": {
    "id": "4mbaDLCN_JcT"
   },
   "source": [
    "Let's take a look at the description of attributes in the wine dataset. Here we can see that values of features are in various ranges."
   ]
  },
  {
   "cell_type": "code",
   "execution_count": 24,
   "metadata": {
    "colab": {
     "base_uri": "https://localhost:8080/",
     "height": 364
    },
    "id": "5FDEyLkg_JcU",
    "outputId": "40f29b00-2471-4b5a-9a0a-8bc4dbe242cc",
    "ExecuteTime": {
     "end_time": "2024-03-20T18:03:09.071677Z",
     "start_time": "2024-03-20T18:03:09.018552Z"
    }
   },
   "outputs": [
    {
     "data": {
      "text/plain": "          alcohol  malic_acid         ash  alcalinity_of_ash   magnesium  \\\ncount  178.000000  178.000000  178.000000         178.000000  178.000000   \nmean    13.000618    2.336348    2.366517          19.494944   99.741573   \nstd      0.811827    1.117146    0.274344           3.339564   14.282484   \nmin     11.030000    0.740000    1.360000          10.600000   70.000000   \n25%     12.362500    1.602500    2.210000          17.200000   88.000000   \n50%     13.050000    1.865000    2.360000          19.500000   98.000000   \n75%     13.677500    3.082500    2.557500          21.500000  107.000000   \nmax     14.830000    5.800000    3.230000          30.000000  162.000000   \n\n       total_phenols  flavanoids  nonflavanoid_phenols  proanthocyanins  \\\ncount     178.000000  178.000000            178.000000       178.000000   \nmean        2.295112    2.029270              0.361854         1.590899   \nstd         0.625851    0.998859              0.124453         0.572359   \nmin         0.980000    0.340000              0.130000         0.410000   \n25%         1.742500    1.205000              0.270000         1.250000   \n50%         2.355000    2.135000              0.340000         1.555000   \n75%         2.800000    2.875000              0.437500         1.950000   \nmax         3.880000    5.080000              0.660000         3.580000   \n\n       color_intensity         hue  od280/od315_of_diluted_wines      proline  \\\ncount       178.000000  178.000000                    178.000000   178.000000   \nmean          5.058090    0.957449                      2.611685   746.893258   \nstd           2.318286    0.228572                      0.709990   314.907474   \nmin           1.280000    0.480000                      1.270000   278.000000   \n25%           3.220000    0.782500                      1.937500   500.500000   \n50%           4.690000    0.965000                      2.780000   673.500000   \n75%           6.200000    1.120000                      3.170000   985.000000   \nmax          13.000000    1.710000                      4.000000  1680.000000   \n\n           target  \ncount  178.000000  \nmean     0.938202  \nstd      0.775035  \nmin      0.000000  \n25%      0.000000  \n50%      1.000000  \n75%      2.000000  \nmax      2.000000  ",
      "text/html": "<div>\n<style scoped>\n    .dataframe tbody tr th:only-of-type {\n        vertical-align: middle;\n    }\n\n    .dataframe tbody tr th {\n        vertical-align: top;\n    }\n\n    .dataframe thead th {\n        text-align: right;\n    }\n</style>\n<table border=\"1\" class=\"dataframe\">\n  <thead>\n    <tr style=\"text-align: right;\">\n      <th></th>\n      <th>alcohol</th>\n      <th>malic_acid</th>\n      <th>ash</th>\n      <th>alcalinity_of_ash</th>\n      <th>magnesium</th>\n      <th>total_phenols</th>\n      <th>flavanoids</th>\n      <th>nonflavanoid_phenols</th>\n      <th>proanthocyanins</th>\n      <th>color_intensity</th>\n      <th>hue</th>\n      <th>od280/od315_of_diluted_wines</th>\n      <th>proline</th>\n      <th>target</th>\n    </tr>\n  </thead>\n  <tbody>\n    <tr>\n      <th>count</th>\n      <td>178.000000</td>\n      <td>178.000000</td>\n      <td>178.000000</td>\n      <td>178.000000</td>\n      <td>178.000000</td>\n      <td>178.000000</td>\n      <td>178.000000</td>\n      <td>178.000000</td>\n      <td>178.000000</td>\n      <td>178.000000</td>\n      <td>178.000000</td>\n      <td>178.000000</td>\n      <td>178.000000</td>\n      <td>178.000000</td>\n    </tr>\n    <tr>\n      <th>mean</th>\n      <td>13.000618</td>\n      <td>2.336348</td>\n      <td>2.366517</td>\n      <td>19.494944</td>\n      <td>99.741573</td>\n      <td>2.295112</td>\n      <td>2.029270</td>\n      <td>0.361854</td>\n      <td>1.590899</td>\n      <td>5.058090</td>\n      <td>0.957449</td>\n      <td>2.611685</td>\n      <td>746.893258</td>\n      <td>0.938202</td>\n    </tr>\n    <tr>\n      <th>std</th>\n      <td>0.811827</td>\n      <td>1.117146</td>\n      <td>0.274344</td>\n      <td>3.339564</td>\n      <td>14.282484</td>\n      <td>0.625851</td>\n      <td>0.998859</td>\n      <td>0.124453</td>\n      <td>0.572359</td>\n      <td>2.318286</td>\n      <td>0.228572</td>\n      <td>0.709990</td>\n      <td>314.907474</td>\n      <td>0.775035</td>\n    </tr>\n    <tr>\n      <th>min</th>\n      <td>11.030000</td>\n      <td>0.740000</td>\n      <td>1.360000</td>\n      <td>10.600000</td>\n      <td>70.000000</td>\n      <td>0.980000</td>\n      <td>0.340000</td>\n      <td>0.130000</td>\n      <td>0.410000</td>\n      <td>1.280000</td>\n      <td>0.480000</td>\n      <td>1.270000</td>\n      <td>278.000000</td>\n      <td>0.000000</td>\n    </tr>\n    <tr>\n      <th>25%</th>\n      <td>12.362500</td>\n      <td>1.602500</td>\n      <td>2.210000</td>\n      <td>17.200000</td>\n      <td>88.000000</td>\n      <td>1.742500</td>\n      <td>1.205000</td>\n      <td>0.270000</td>\n      <td>1.250000</td>\n      <td>3.220000</td>\n      <td>0.782500</td>\n      <td>1.937500</td>\n      <td>500.500000</td>\n      <td>0.000000</td>\n    </tr>\n    <tr>\n      <th>50%</th>\n      <td>13.050000</td>\n      <td>1.865000</td>\n      <td>2.360000</td>\n      <td>19.500000</td>\n      <td>98.000000</td>\n      <td>2.355000</td>\n      <td>2.135000</td>\n      <td>0.340000</td>\n      <td>1.555000</td>\n      <td>4.690000</td>\n      <td>0.965000</td>\n      <td>2.780000</td>\n      <td>673.500000</td>\n      <td>1.000000</td>\n    </tr>\n    <tr>\n      <th>75%</th>\n      <td>13.677500</td>\n      <td>3.082500</td>\n      <td>2.557500</td>\n      <td>21.500000</td>\n      <td>107.000000</td>\n      <td>2.800000</td>\n      <td>2.875000</td>\n      <td>0.437500</td>\n      <td>1.950000</td>\n      <td>6.200000</td>\n      <td>1.120000</td>\n      <td>3.170000</td>\n      <td>985.000000</td>\n      <td>2.000000</td>\n    </tr>\n    <tr>\n      <th>max</th>\n      <td>14.830000</td>\n      <td>5.800000</td>\n      <td>3.230000</td>\n      <td>30.000000</td>\n      <td>162.000000</td>\n      <td>3.880000</td>\n      <td>5.080000</td>\n      <td>0.660000</td>\n      <td>3.580000</td>\n      <td>13.000000</td>\n      <td>1.710000</td>\n      <td>4.000000</td>\n      <td>1680.000000</td>\n      <td>2.000000</td>\n    </tr>\n  </tbody>\n</table>\n</div>"
     },
     "execution_count": 24,
     "metadata": {},
     "output_type": "execute_result"
    }
   ],
   "source": [
    "wine_dataframe.describe()"
   ]
  },
  {
   "cell_type": "markdown",
   "metadata": {
    "id": "1Jwwm49h_JcW"
   },
   "source": [
    "We will use the `apply()` function to define *ad hoc* functions applied to elements of a given Series."
   ]
  },
  {
   "cell_type": "code",
   "execution_count": 25,
   "metadata": {
    "colab": {
     "base_uri": "https://localhost:8080/"
    },
    "id": "tPWLZySJ_JcW",
    "outputId": "7e05f984-30af-480f-8da4-e9c42b9c9388",
    "ExecuteTime": {
     "end_time": "2024-03-20T18:03:09.224932Z",
     "start_time": "2024-03-20T18:03:09.217682Z"
    }
   },
   "outputs": [
    {
     "data": {
      "text/plain": "0      101.423\n1      101.320\n2      101.316\n3      101.437\n4      101.324\n        ...   \n173    101.371\n174    101.340\n175    101.327\n176    101.317\n177    101.413\nName: alcohol, Length: 178, dtype: float64"
     },
     "execution_count": 25,
     "metadata": {},
     "output_type": "execute_result"
    }
   ],
   "source": [
    "wine_dataframe['alcohol'].apply(lambda x: x / 10 + 100)"
   ]
  },
  {
   "cell_type": "markdown",
   "metadata": {
    "id": "SiBtO1mU_JcX"
   },
   "source": [
    "Drawing can be easily done using [MatPlot](https://matplotlib.org), a handy library for simple data visualization."
   ]
  },
  {
   "cell_type": "code",
   "execution_count": 26,
   "metadata": {
    "colab": {
     "base_uri": "https://localhost:8080/",
     "height": 279
    },
    "id": "qkqIbPN4_JcX",
    "outputId": "108ea3a8-ad85-4be1-d865-22f06e18a9d5",
    "ExecuteTime": {
     "end_time": "2024-03-20T18:03:09.783992Z",
     "start_time": "2024-03-20T18:03:09.386211Z"
    }
   },
   "outputs": [
    {
     "data": {
      "text/plain": "<Figure size 640x480 with 1 Axes>",
      "image/png": "[encoded data removed]"
     },
     "metadata": {},
     "output_type": "display_data"
    }
   ],
   "source": [
    "from matplotlib import pyplot as plt\n",
    "\n",
    "plt.xlabel('alcohol')\n",
    "plt.ylabel('ash')\n",
    "plt.scatter(wine_dataframe[wine_dataframe.target == 0]['alcohol'][:],\n",
    "            wine_dataframe[wine_dataframe.target == 0]['ash'][:], c='red', label='class_0')\n",
    "plt.scatter(wine_dataframe[wine_dataframe.target == 1]['alcohol'][:],\n",
    "            wine_dataframe[wine_dataframe.target == 1]['ash'][:], c='green', label='class_1')\n",
    "plt.scatter(wine_dataframe[wine_dataframe.target == 2]['alcohol'][:],\n",
    "            wine_dataframe[wine_dataframe.target == 2]['ash'][:], c='blue', label='class_2')\n",
    "plt.legend()\n",
    "plt.show()"
   ]
  },
  {
   "cell_type": "markdown",
   "metadata": {
    "id": "V3qC11OW_JcX"
   },
   "source": [
    "A similar effect can be obtained by calling directly the `plot()` method of a `pandas.Series`."
   ]
  },
  {
   "cell_type": "code",
   "execution_count": 27,
   "metadata": {
    "colab": {
     "base_uri": "https://localhost:8080/",
     "height": 492
    },
    "id": "1MAfvoJx_JcY",
    "outputId": "d0461192-cc3b-4d23-e5c6-0159ed385205",
    "ExecuteTime": {
     "end_time": "2024-03-20T18:03:10.124093Z",
     "start_time": "2024-03-20T18:03:09.786701Z"
    }
   },
   "outputs": [
    {
     "data": {
      "text/plain": "<Figure size 600x600 with 1 Axes>",
      "image/png": "[encoded data removed]"
     },
     "metadata": {},
     "output_type": "display_data"
    }
   ],
   "source": [
    "_, ax = plt.subplots(figsize=(6, 6))\n",
    "colors = {0: 'red', 1: 'green', 2: 'blue'}\n",
    "for key, group in wine_dataframe.groupby('target'):\n",
    "    group[['alcohol', 'ash']].plot(ax=ax, kind='scatter', x=0, y=1, c=colors[key], label=wine.target_names[int(key)])\n",
    "plt.show()"
   ]
  },
  {
   "cell_type": "markdown",
   "metadata": {
    "id": "jHRWsg8z_Jcb"
   },
   "source": [
    "## Min-max Normalization"
   ]
  },
  {
   "cell_type": "markdown",
   "metadata": {
    "id": "u4GY1CtQ_Jcc"
   },
   "source": [
    "The first operation is the linear normalization performed by the [MinMaxScaler](http://scikit-learn.org/stable/modules/generated/sklearn.preprocessing.MinMaxScaler.html#sklearn.preprocessing.MinMaxScaler) class. This class performs the following transformation of an attribute:\n",
    "\n",
    "$$v' = \\frac{v-min}{max-min} \\cdot (max'-min') + min'$$\n",
    "\n",
    "where $max,min$ are the original max,min values of the attribute, $max',min'$ are the max,min values in the new scale, \n",
    "$v'$ is the new value of the attribute, and $v$ is the original value of the attribute. Notice that this type of normalization just ensures that values are within the same range, and that's it. It doesn't work well with outliers, it doesn't do anything to a sum of all features for each sample (so it wouldn't be a good idea to use minmax scaler if for example we are trying to normalize an occurence vector for a full-text document, as the feature values would be dependent on the length of a document)."
   ]
  },
  {
   "cell_type": "markdown",
   "metadata": {
    "id": "LNPQ0cTA_Jcc"
   },
   "source": [
    "We already know that the target variable for the wine dataset is categorical, we shouldn't normalize it. Since we are only transforming features (and not the target variables), in the first step we will save these feature columns (and their names) to new dataframe."
   ]
  },
  {
   "cell_type": "code",
   "execution_count": 28,
   "metadata": {
    "colab": {
     "base_uri": "https://localhost:8080/",
     "height": 424
    },
    "id": "r2asV3F3_Jcd",
    "outputId": "567f0040-89f6-4706-c396-bed52d0accf9",
    "ExecuteTime": {
     "end_time": "2024-03-20T18:03:10.149505Z",
     "start_time": "2024-03-20T18:03:10.126901Z"
    }
   },
   "outputs": [
    {
     "data": {
      "text/plain": "     alcohol  malic_acid   ash  alcalinity_of_ash  magnesium  total_phenols  \\\n0      14.23        1.71  2.43               15.6      127.0           2.80   \n1      13.20        1.78  2.14               11.2      100.0           2.65   \n2      13.16        2.36  2.67               18.6      101.0           2.80   \n3      14.37        1.95  2.50               16.8      113.0           3.85   \n4      13.24        2.59  2.87               21.0      118.0           2.80   \n..       ...         ...   ...                ...        ...            ...   \n173    13.71        5.65  2.45               20.5       95.0           1.68   \n174    13.40        3.91  2.48               23.0      102.0           1.80   \n175    13.27        4.28  2.26               20.0      120.0           1.59   \n176    13.17        2.59  2.37               20.0      120.0           1.65   \n177    14.13        4.10  2.74               24.5       96.0           2.05   \n\n     flavanoids  nonflavanoid_phenols  proanthocyanins  color_intensity   hue  \\\n0          3.06                  0.28             2.29             5.64  1.04   \n1          2.76                  0.26             1.28             4.38  1.05   \n2          3.24                  0.30             2.81             5.68  1.03   \n3          3.49                  0.24             2.18             7.80  0.86   \n4          2.69                  0.39             1.82             4.32  1.04   \n..          ...                   ...              ...              ...   ...   \n173        0.61                  0.52             1.06             7.70  0.64   \n174        0.75                  0.43             1.41             7.30  0.70   \n175        0.69                  0.43             1.35            10.20  0.59   \n176        0.68                  0.53             1.46             9.30  0.60   \n177        0.76                  0.56             1.35             9.20  0.61   \n\n     od280/od315_of_diluted_wines  proline  \n0                            3.92   1065.0  \n1                            3.40   1050.0  \n2                            3.17   1185.0  \n3                            3.45   1480.0  \n4                            2.93    735.0  \n..                            ...      ...  \n173                          1.74    740.0  \n174                          1.56    750.0  \n175                          1.56    835.0  \n176                          1.62    840.0  \n177                          1.60    560.0  \n\n[178 rows x 13 columns]",
      "text/html": "<div>\n<style scoped>\n    .dataframe tbody tr th:only-of-type {\n        vertical-align: middle;\n    }\n\n    .dataframe tbody tr th {\n        vertical-align: top;\n    }\n\n    .dataframe thead th {\n        text-align: right;\n    }\n</style>\n<table border=\"1\" class=\"dataframe\">\n  <thead>\n    <tr style=\"text-align: right;\">\n      <th></th>\n      <th>alcohol</th>\n      <th>malic_acid</th>\n      <th>ash</th>\n      <th>alcalinity_of_ash</th>\n      <th>magnesium</th>\n      <th>total_phenols</th>\n      <th>flavanoids</th>\n      <th>nonflavanoid_phenols</th>\n      <th>proanthocyanins</th>\n      <th>color_intensity</th>\n      <th>hue</th>\n      <th>od280/od315_of_diluted_wines</th>\n      <th>proline</th>\n    </tr>\n  </thead>\n  <tbody>\n    <tr>\n      <th>0</th>\n      <td>14.23</td>\n      <td>1.71</td>\n      <td>2.43</td>\n      <td>15.6</td>\n      <td>127.0</td>\n      <td>2.80</td>\n      <td>3.06</td>\n      <td>0.28</td>\n      <td>2.29</td>\n      <td>5.64</td>\n      <td>1.04</td>\n      <td>3.92</td>\n      <td>1065.0</td>\n    </tr>\n    <tr>\n      <th>1</th>\n      <td>13.20</td>\n      <td>1.78</td>\n      <td>2.14</td>\n      <td>11.2</td>\n      <td>100.0</td>\n      <td>2.65</td>\n      <td>2.76</td>\n      <td>0.26</td>\n      <td>1.28</td>\n      <td>4.38</td>\n      <td>1.05</td>\n      <td>3.40</td>\n      <td>1050.0</td>\n    </tr>\n    <tr>\n      <th>2</th>\n      <td>13.16</td>\n      <td>2.36</td>\n      <td>2.67</td>\n      <td>18.6</td>\n      <td>101.0</td>\n      <td>2.80</td>\n      <td>3.24</td>\n      <td>0.30</td>\n      <td>2.81</td>\n      <td>5.68</td>\n      <td>1.03</td>\n      <td>3.17</td>\n      <td>1185.0</td>\n    </tr>\n    <tr>\n      <th>3</th>\n      <td>14.37</td>\n      <td>1.95</td>\n      <td>2.50</td>\n      <td>16.8</td>\n      <td>113.0</td>\n      <td>3.85</td>\n      <td>3.49</td>\n      <td>0.24</td>\n      <td>2.18</td>\n      <td>7.80</td>\n      <td>0.86</td>\n      <td>3.45</td>\n      <td>1480.0</td>\n    </tr>\n    <tr>\n      <th>4</th>\n      <td>13.24</td>\n      <td>2.59</td>\n      <td>2.87</td>\n      <td>21.0</td>\n      <td>118.0</td>\n      <td>2.80</td>\n      <td>2.69</td>\n      <td>0.39</td>\n      <td>1.82</td>\n      <td>4.32</td>\n      <td>1.04</td>\n      <td>2.93</td>\n      <td>735.0</td>\n    </tr>\n    <tr>\n      <th>...</th>\n      <td>...</td>\n      <td>...</td>\n      <td>...</td>\n      <td>...</td>\n      <td>...</td>\n      <td>...</td>\n      <td>...</td>\n      <td>...</td>\n      <td>...</td>\n      <td>...</td>\n      <td>...</td>\n      <td>...</td>\n      <td>...</td>\n    </tr>\n    <tr>\n      <th>173</th>\n      <td>13.71</td>\n      <td>5.65</td>\n      <td>2.45</td>\n      <td>20.5</td>\n      <td>95.0</td>\n      <td>1.68</td>\n      <td>0.61</td>\n      <td>0.52</td>\n      <td>1.06</td>\n      <td>7.70</td>\n      <td>0.64</td>\n      <td>1.74</td>\n      <td>740.0</td>\n    </tr>\n    <tr>\n      <th>174</th>\n      <td>13.40</td>\n      <td>3.91</td>\n      <td>2.48</td>\n      <td>23.0</td>\n      <td>102.0</td>\n      <td>1.80</td>\n      <td>0.75</td>\n      <td>0.43</td>\n      <td>1.41</td>\n      <td>7.30</td>\n      <td>0.70</td>\n      <td>1.56</td>\n      <td>750.0</td>\n    </tr>\n    <tr>\n      <th>175</th>\n      <td>13.27</td>\n      <td>4.28</td>\n      <td>2.26</td>\n      <td>20.0</td>\n      <td>120.0</td>\n      <td>1.59</td>\n      <td>0.69</td>\n      <td>0.43</td>\n      <td>1.35</td>\n      <td>10.20</td>\n      <td>0.59</td>\n      <td>1.56</td>\n      <td>835.0</td>\n    </tr>\n    <tr>\n      <th>176</th>\n      <td>13.17</td>\n      <td>2.59</td>\n      <td>2.37</td>\n      <td>20.0</td>\n      <td>120.0</td>\n      <td>1.65</td>\n      <td>0.68</td>\n      <td>0.53</td>\n      <td>1.46</td>\n      <td>9.30</td>\n      <td>0.60</td>\n      <td>1.62</td>\n      <td>840.0</td>\n    </tr>\n    <tr>\n      <th>177</th>\n      <td>14.13</td>\n      <td>4.10</td>\n      <td>2.74</td>\n      <td>24.5</td>\n      <td>96.0</td>\n      <td>2.05</td>\n      <td>0.76</td>\n      <td>0.56</td>\n      <td>1.35</td>\n      <td>9.20</td>\n      <td>0.61</td>\n      <td>1.60</td>\n      <td>560.0</td>\n    </tr>\n  </tbody>\n</table>\n<p>178 rows × 13 columns</p>\n</div>"
     },
     "execution_count": 28,
     "metadata": {},
     "output_type": "execute_result"
    }
   ],
   "source": [
    "X = wine_dataframe.iloc[:, :-1]\n",
    "cols = wine_dataframe.columns[:-1]\n",
    "X"
   ]
  },
  {
   "cell_type": "markdown",
   "metadata": {
    "id": "PoHJwKOM_Jce"
   },
   "source": [
    "The following example shows how to normalize the entire table using the Min-Max normalization."
   ]
  },
  {
   "cell_type": "code",
   "execution_count": 29,
   "metadata": {
    "colab": {
     "base_uri": "https://localhost:8080/",
     "height": 424
    },
    "id": "eH21xYfe_Jce",
    "outputId": "fb113218-96bb-4ef4-b934-2786a4da7e7f",
    "ExecuteTime": {
     "end_time": "2024-03-20T18:03:10.245508Z",
     "start_time": "2024-03-20T18:03:10.223826Z"
    }
   },
   "outputs": [
    {
     "data": {
      "text/plain": "      alcohol  malic_acid       ash  alcalinity_of_ash  magnesium  \\\n0    0.842105    0.191700  0.572193           0.257732   0.619565   \n1    0.571053    0.205534  0.417112           0.030928   0.326087   \n2    0.560526    0.320158  0.700535           0.412371   0.336957   \n3    0.878947    0.239130  0.609626           0.319588   0.467391   \n4    0.581579    0.365613  0.807487           0.536082   0.521739   \n..        ...         ...       ...                ...        ...   \n173  0.705263    0.970356  0.582888           0.510309   0.271739   \n174  0.623684    0.626482  0.598930           0.639175   0.347826   \n175  0.589474    0.699605  0.481283           0.484536   0.543478   \n176  0.563158    0.365613  0.540107           0.484536   0.543478   \n177  0.815789    0.664032  0.737968           0.716495   0.282609   \n\n     total_phenols  flavanoids  nonflavanoid_phenols  proanthocyanins  \\\n0         0.627586    0.573840              0.283019         0.593060   \n1         0.575862    0.510549              0.245283         0.274448   \n2         0.627586    0.611814              0.320755         0.757098   \n3         0.989655    0.664557              0.207547         0.558360   \n4         0.627586    0.495781              0.490566         0.444795   \n..             ...         ...                   ...              ...   \n173       0.241379    0.056962              0.735849         0.205047   \n174       0.282759    0.086498              0.566038         0.315457   \n175       0.210345    0.073840              0.566038         0.296530   \n176       0.231034    0.071730              0.754717         0.331230   \n177       0.368966    0.088608              0.811321         0.296530   \n\n     color_intensity       hue  od280/od315_of_diluted_wines   proline  \n0           0.372014  0.455285                      0.970696  0.561341  \n1           0.264505  0.463415                      0.780220  0.550642  \n2           0.375427  0.447154                      0.695971  0.646933  \n3           0.556314  0.308943                      0.798535  0.857347  \n4           0.259386  0.455285                      0.608059  0.325963  \n..               ...       ...                           ...       ...  \n173         0.547782  0.130081                      0.172161  0.329529  \n174         0.513652  0.178862                      0.106227  0.336662  \n175         0.761092  0.089431                      0.106227  0.397290  \n176         0.684300  0.097561                      0.128205  0.400856  \n177         0.675768  0.105691                      0.120879  0.201141  \n\n[178 rows x 13 columns]",
      "text/html": "<div>\n<style scoped>\n    .dataframe tbody tr th:only-of-type {\n        vertical-align: middle;\n    }\n\n    .dataframe tbody tr th {\n        vertical-align: top;\n    }\n\n    .dataframe thead th {\n        text-align: right;\n    }\n</style>\n<table border=\"1\" class=\"dataframe\">\n  <thead>\n    <tr style=\"text-align: right;\">\n      <th></th>\n      <th>alcohol</th>\n      <th>malic_acid</th>\n      <th>ash</th>\n      <th>alcalinity_of_ash</th>\n      <th>magnesium</th>\n      <th>total_phenols</th>\n      <th>flavanoids</th>\n      <th>nonflavanoid_phenols</th>\n      <th>proanthocyanins</th>\n      <th>color_intensity</th>\n      <th>hue</th>\n      <th>od280/od315_of_diluted_wines</th>\n      <th>proline</th>\n    </tr>\n  </thead>\n  <tbody>\n    <tr>\n      <th>0</th>\n      <td>0.842105</td>\n      <td>0.191700</td>\n      <td>0.572193</td>\n      <td>0.257732</td>\n      <td>0.619565</td>\n      <td>0.627586</td>\n      <td>0.573840</td>\n      <td>0.283019</td>\n      <td>0.593060</td>\n      <td>0.372014</td>\n      <td>0.455285</td>\n      <td>0.970696</td>\n      <td>0.561341</td>\n    </tr>\n    <tr>\n      <th>1</th>\n      <td>0.571053</td>\n      <td>0.205534</td>\n      <td>0.417112</td>\n      <td>0.030928</td>\n      <td>0.326087</td>\n      <td>0.575862</td>\n      <td>0.510549</td>\n      <td>0.245283</td>\n      <td>0.274448</td>\n      <td>0.264505</td>\n      <td>0.463415</td>\n      <td>0.780220</td>\n      <td>0.550642</td>\n    </tr>\n    <tr>\n      <th>2</th>\n      <td>0.560526</td>\n      <td>0.320158</td>\n      <td>0.700535</td>\n      <td>0.412371</td>\n      <td>0.336957</td>\n      <td>0.627586</td>\n      <td>0.611814</td>\n      <td>0.320755</td>\n      <td>0.757098</td>\n      <td>0.375427</td>\n      <td>0.447154</td>\n      <td>0.695971</td>\n      <td>0.646933</td>\n    </tr>\n    <tr>\n      <th>3</th>\n      <td>0.878947</td>\n      <td>0.239130</td>\n      <td>0.609626</td>\n      <td>0.319588</td>\n      <td>0.467391</td>\n      <td>0.989655</td>\n      <td>0.664557</td>\n      <td>0.207547</td>\n      <td>0.558360</td>\n      <td>0.556314</td>\n      <td>0.308943</td>\n      <td>0.798535</td>\n      <td>0.857347</td>\n    </tr>\n    <tr>\n      <th>4</th>\n      <td>0.581579</td>\n      <td>0.365613</td>\n      <td>0.807487</td>\n      <td>0.536082</td>\n      <td>0.521739</td>\n      <td>0.627586</td>\n      <td>0.495781</td>\n      <td>0.490566</td>\n      <td>0.444795</td>\n      <td>0.259386</td>\n      <td>0.455285</td>\n      <td>0.608059</td>\n      <td>0.325963</td>\n    </tr>\n    <tr>\n      <th>...</th>\n      <td>...</td>\n      <td>...</td>\n      <td>...</td>\n      <td>...</td>\n      <td>...</td>\n      <td>...</td>\n      <td>...</td>\n      <td>...</td>\n      <td>...</td>\n      <td>...</td>\n      <td>...</td>\n      <td>...</td>\n      <td>...</td>\n    </tr>\n    <tr>\n      <th>173</th>\n      <td>0.705263</td>\n      <td>0.970356</td>\n      <td>0.582888</td>\n      <td>0.510309</td>\n      <td>0.271739</td>\n      <td>0.241379</td>\n      <td>0.056962</td>\n      <td>0.735849</td>\n      <td>0.205047</td>\n      <td>0.547782</td>\n      <td>0.130081</td>\n      <td>0.172161</td>\n      <td>0.329529</td>\n    </tr>\n    <tr>\n      <th>174</th>\n      <td>0.623684</td>\n      <td>0.626482</td>\n      <td>0.598930</td>\n      <td>0.639175</td>\n      <td>0.347826</td>\n      <td>0.282759</td>\n      <td>0.086498</td>\n      <td>0.566038</td>\n      <td>0.315457</td>\n      <td>0.513652</td>\n      <td>0.178862</td>\n      <td>0.106227</td>\n      <td>0.336662</td>\n    </tr>\n    <tr>\n      <th>175</th>\n      <td>0.589474</td>\n      <td>0.699605</td>\n      <td>0.481283</td>\n      <td>0.484536</td>\n      <td>0.543478</td>\n      <td>0.210345</td>\n      <td>0.073840</td>\n      <td>0.566038</td>\n      <td>0.296530</td>\n      <td>0.761092</td>\n      <td>0.089431</td>\n      <td>0.106227</td>\n      <td>0.397290</td>\n    </tr>\n    <tr>\n      <th>176</th>\n      <td>0.563158</td>\n      <td>0.365613</td>\n      <td>0.540107</td>\n      <td>0.484536</td>\n      <td>0.543478</td>\n      <td>0.231034</td>\n      <td>0.071730</td>\n      <td>0.754717</td>\n      <td>0.331230</td>\n      <td>0.684300</td>\n      <td>0.097561</td>\n      <td>0.128205</td>\n      <td>0.400856</td>\n    </tr>\n    <tr>\n      <th>177</th>\n      <td>0.815789</td>\n      <td>0.664032</td>\n      <td>0.737968</td>\n      <td>0.716495</td>\n      <td>0.282609</td>\n      <td>0.368966</td>\n      <td>0.088608</td>\n      <td>0.811321</td>\n      <td>0.296530</td>\n      <td>0.675768</td>\n      <td>0.105691</td>\n      <td>0.120879</td>\n      <td>0.201141</td>\n    </tr>\n  </tbody>\n</table>\n<p>178 rows × 13 columns</p>\n</div>"
     },
     "execution_count": 29,
     "metadata": {},
     "output_type": "execute_result"
    }
   ],
   "source": [
    "from sklearn.preprocessing import MinMaxScaler\n",
    "\n",
    "norm = MinMaxScaler(feature_range=(0, 1)).fit(X)\n",
    "X_minmax = pd.DataFrame(norm.transform(X), columns=cols)\n",
    "\n",
    "X_minmax"
   ]
  },
  {
   "cell_type": "code",
   "execution_count": 30,
   "metadata": {
    "colab": {
     "base_uri": "https://localhost:8080/",
     "height": 300
    },
    "id": "95rlX9ZT_Jcf",
    "outputId": "45458f08-de82-47d4-e129-27e0b1e3a740",
    "ExecuteTime": {
     "end_time": "2024-03-20T18:03:10.474633Z",
     "start_time": "2024-03-20T18:03:10.438416Z"
    }
   },
   "outputs": [
    {
     "data": {
      "text/plain": "       alcohol  malic_acid      ash  alcalinity_of_ash  magnesium  \\\ncount  178.000     178.000  178.000            178.000    178.000   \nmean     0.519       0.315    0.538              0.459      0.323   \nstd      0.214       0.221    0.147              0.172      0.155   \nmin      0.000       0.000    0.000              0.000      0.000   \n25%      0.351       0.170    0.455              0.340      0.196   \n50%      0.532       0.222    0.535              0.459      0.304   \n75%      0.697       0.463    0.640              0.562      0.402   \nmax      1.000       1.000    1.000              1.000      1.000   \n\n       total_phenols  flavanoids  nonflavanoid_phenols  proanthocyanins  \\\ncount        178.000     178.000               178.000          178.000   \nmean           0.453       0.356                 0.437            0.373   \nstd            0.216       0.211                 0.235            0.181   \nmin            0.000       0.000                 0.000            0.000   \n25%            0.263       0.182                 0.264            0.265   \n50%            0.474       0.379                 0.396            0.361   \n75%            0.628       0.535                 0.580            0.486   \nmax            1.000       1.000                 1.000            1.000   \n\n       color_intensity      hue  od280/od315_of_diluted_wines  proline  \ncount          178.000  178.000                       178.000  178.000  \nmean             0.322    0.388                         0.491    0.334  \nstd              0.198    0.186                         0.260    0.225  \nmin              0.000    0.000                         0.000    0.000  \n25%              0.166    0.246                         0.245    0.159  \n50%              0.291    0.394                         0.553    0.282  \n75%              0.420    0.520                         0.696    0.504  \nmax              1.000    1.000                         1.000    1.000  ",
      "text/html": "<div>\n<style scoped>\n    .dataframe tbody tr th:only-of-type {\n        vertical-align: middle;\n    }\n\n    .dataframe tbody tr th {\n        vertical-align: top;\n    }\n\n    .dataframe thead th {\n        text-align: right;\n    }\n</style>\n<table border=\"1\" class=\"dataframe\">\n  <thead>\n    <tr style=\"text-align: right;\">\n      <th></th>\n      <th>alcohol</th>\n      <th>malic_acid</th>\n      <th>ash</th>\n      <th>alcalinity_of_ash</th>\n      <th>magnesium</th>\n      <th>total_phenols</th>\n      <th>flavanoids</th>\n      <th>nonflavanoid_phenols</th>\n      <th>proanthocyanins</th>\n      <th>color_intensity</th>\n      <th>hue</th>\n      <th>od280/od315_of_diluted_wines</th>\n      <th>proline</th>\n    </tr>\n  </thead>\n  <tbody>\n    <tr>\n      <th>count</th>\n      <td>178.000</td>\n      <td>178.000</td>\n      <td>178.000</td>\n      <td>178.000</td>\n      <td>178.000</td>\n      <td>178.000</td>\n      <td>178.000</td>\n      <td>178.000</td>\n      <td>178.000</td>\n      <td>178.000</td>\n      <td>178.000</td>\n      <td>178.000</td>\n      <td>178.000</td>\n    </tr>\n    <tr>\n      <th>mean</th>\n      <td>0.519</td>\n      <td>0.315</td>\n      <td>0.538</td>\n      <td>0.459</td>\n      <td>0.323</td>\n      <td>0.453</td>\n      <td>0.356</td>\n      <td>0.437</td>\n      <td>0.373</td>\n      <td>0.322</td>\n      <td>0.388</td>\n      <td>0.491</td>\n      <td>0.334</td>\n    </tr>\n    <tr>\n      <th>std</th>\n      <td>0.214</td>\n      <td>0.221</td>\n      <td>0.147</td>\n      <td>0.172</td>\n      <td>0.155</td>\n      <td>0.216</td>\n      <td>0.211</td>\n      <td>0.235</td>\n      <td>0.181</td>\n      <td>0.198</td>\n      <td>0.186</td>\n      <td>0.260</td>\n      <td>0.225</td>\n    </tr>\n    <tr>\n      <th>min</th>\n      <td>0.000</td>\n      <td>0.000</td>\n      <td>0.000</td>\n      <td>0.000</td>\n      <td>0.000</td>\n      <td>0.000</td>\n      <td>0.000</td>\n      <td>0.000</td>\n      <td>0.000</td>\n      <td>0.000</td>\n      <td>0.000</td>\n      <td>0.000</td>\n      <td>0.000</td>\n    </tr>\n    <tr>\n      <th>25%</th>\n      <td>0.351</td>\n      <td>0.170</td>\n      <td>0.455</td>\n      <td>0.340</td>\n      <td>0.196</td>\n      <td>0.263</td>\n      <td>0.182</td>\n      <td>0.264</td>\n      <td>0.265</td>\n      <td>0.166</td>\n      <td>0.246</td>\n      <td>0.245</td>\n      <td>0.159</td>\n    </tr>\n    <tr>\n      <th>50%</th>\n      <td>0.532</td>\n      <td>0.222</td>\n      <td>0.535</td>\n      <td>0.459</td>\n      <td>0.304</td>\n      <td>0.474</td>\n      <td>0.379</td>\n      <td>0.396</td>\n      <td>0.361</td>\n      <td>0.291</td>\n      <td>0.394</td>\n      <td>0.553</td>\n      <td>0.282</td>\n    </tr>\n    <tr>\n      <th>75%</th>\n      <td>0.697</td>\n      <td>0.463</td>\n      <td>0.640</td>\n      <td>0.562</td>\n      <td>0.402</td>\n      <td>0.628</td>\n      <td>0.535</td>\n      <td>0.580</td>\n      <td>0.486</td>\n      <td>0.420</td>\n      <td>0.520</td>\n      <td>0.696</td>\n      <td>0.504</td>\n    </tr>\n    <tr>\n      <th>max</th>\n      <td>1.000</td>\n      <td>1.000</td>\n      <td>1.000</td>\n      <td>1.000</td>\n      <td>1.000</td>\n      <td>1.000</td>\n      <td>1.000</td>\n      <td>1.000</td>\n      <td>1.000</td>\n      <td>1.000</td>\n      <td>1.000</td>\n      <td>1.000</td>\n      <td>1.000</td>\n    </tr>\n  </tbody>\n</table>\n</div>"
     },
     "execution_count": 30,
     "metadata": {},
     "output_type": "execute_result"
    }
   ],
   "source": [
    "X_minmax.describe().round(3)"
   ]
  },
  {
   "cell_type": "code",
   "execution_count": 31,
   "metadata": {
    "colab": {
     "base_uri": "https://localhost:8080/",
     "height": 492
    },
    "id": "yU13ZJjq_Jcf",
    "outputId": "971a832f-b1d5-43d1-b845-53d8f0739153",
    "ExecuteTime": {
     "end_time": "2024-03-20T18:03:10.920467Z",
     "start_time": "2024-03-20T18:03:10.526195Z"
    }
   },
   "outputs": [
    {
     "data": {
      "text/plain": "<Figure size 600x600 with 1 Axes>",
      "image/png": "[encoded data removed]"
     },
     "metadata": {},
     "output_type": "display_data"
    }
   ],
   "source": [
    "_, ax = plt.subplots(figsize=(6, 6))\n",
    "colors = {0: 'red', 1: 'green', 2: 'blue'}\n",
    "X_minmax['target'] = wine_dataframe['target']\n",
    "for key, group in X_minmax.groupby('target'):\n",
    "    group[['alcohol', 'ash']].plot(ax=ax, kind='scatter', x=0, y=1, c=colors[key], label=wine.target_names[int(key)])\n",
    "plt.show()"
   ]
  },
  {
   "cell_type": "markdown",
   "source": [
    " ## Excercise / Homework:\n",
    "\n",
    "Use pandas apply function to implement your own version of the min-max scaling."
   ],
   "metadata": {
    "id": "MIS-fZQfcYJF"
   }
  },
  {
   "cell_type": "code",
   "source": [
    "def normalize(df, x, col):\n",
    "    min = df[col].min()\n",
    "    max = df[col].max()\n",
    "    return (x - min) / (max - min)\n",
    "\n",
    "X2 = pd.DataFrame(columns=X.columns)\n",
    "for column in X.columns:\n",
    "    X2[column] = X[column].apply(lambda x: normalize(X, x, column))\n",
    "X2"
   ],
   "metadata": {
    "colab": {
     "base_uri": "https://localhost:8080/",
     "height": 424
    },
    "id": "5cknFojochou",
    "outputId": "a0a1f1dc-945b-4167-b764-0135a076e0f4",
    "ExecuteTime": {
     "end_time": "2024-03-20T18:07:07.214032Z",
     "start_time": "2024-03-20T18:07:07.022818Z"
    }
   },
   "execution_count": 52,
   "outputs": [
    {
     "data": {
      "text/plain": "      alcohol  malic_acid       ash  alcalinity_of_ash  magnesium  \\\n0    0.842105    0.191700  0.572193           0.257732   0.619565   \n1    0.571053    0.205534  0.417112           0.030928   0.326087   \n2    0.560526    0.320158  0.700535           0.412371   0.336957   \n3    0.878947    0.239130  0.609626           0.319588   0.467391   \n4    0.581579    0.365613  0.807487           0.536082   0.521739   \n..        ...         ...       ...                ...        ...   \n173  0.705263    0.970356  0.582888           0.510309   0.271739   \n174  0.623684    0.626482  0.598930           0.639175   0.347826   \n175  0.589474    0.699605  0.481283           0.484536   0.543478   \n176  0.563158    0.365613  0.540107           0.484536   0.543478   \n177  0.815789    0.664032  0.737968           0.716495   0.282609   \n\n     total_phenols  flavanoids  nonflavanoid_phenols  proanthocyanins  \\\n0         0.627586    0.573840              0.283019         0.593060   \n1         0.575862    0.510549              0.245283         0.274448   \n2         0.627586    0.611814              0.320755         0.757098   \n3         0.989655    0.664557              0.207547         0.558360   \n4         0.627586    0.495781              0.490566         0.444795   \n..             ...         ...                   ...              ...   \n173       0.241379    0.056962              0.735849         0.205047   \n174       0.282759    0.086498              0.566038         0.315457   \n175       0.210345    0.073840              0.566038         0.296530   \n176       0.231034    0.071730              0.754717         0.331230   \n177       0.368966    0.088608              0.811321         0.296530   \n\n     color_intensity       hue  od280/od315_of_diluted_wines   proline  \n0           0.372014  0.455285                      0.970696  0.561341  \n1           0.264505  0.463415                      0.780220  0.550642  \n2           0.375427  0.447154                      0.695971  0.646933  \n3           0.556314  0.308943                      0.798535  0.857347  \n4           0.259386  0.455285                      0.608059  0.325963  \n..               ...       ...                           ...       ...  \n173         0.547782  0.130081                      0.172161  0.329529  \n174         0.513652  0.178862                      0.106227  0.336662  \n175         0.761092  0.089431                      0.106227  0.397290  \n176         0.684300  0.097561                      0.128205  0.400856  \n177         0.675768  0.105691                      0.120879  0.201141  \n\n[178 rows x 13 columns]",
      "text/html": "<div>\n<style scoped>\n    .dataframe tbody tr th:only-of-type {\n        vertical-align: middle;\n    }\n\n    .dataframe tbody tr th {\n        vertical-align: top;\n    }\n\n    .dataframe thead th {\n        text-align: right;\n    }\n</style>\n<table border=\"1\" class=\"dataframe\">\n  <thead>\n    <tr style=\"text-align: right;\">\n      <th></th>\n      <th>alcohol</th>\n      <th>malic_acid</th>\n      <th>ash</th>\n      <th>alcalinity_of_ash</th>\n      <th>magnesium</th>\n      <th>total_phenols</th>\n      <th>flavanoids</th>\n      <th>nonflavanoid_phenols</th>\n      <th>proanthocyanins</th>\n      <th>color_intensity</th>\n      <th>hue</th>\n      <th>od280/od315_of_diluted_wines</th>\n      <th>proline</th>\n    </tr>\n  </thead>\n  <tbody>\n    <tr>\n      <th>0</th>\n      <td>0.842105</td>\n      <td>0.191700</td>\n      <td>0.572193</td>\n      <td>0.257732</td>\n      <td>0.619565</td>\n      <td>0.627586</td>\n      <td>0.573840</td>\n      <td>0.283019</td>\n      <td>0.593060</td>\n      <td>0.372014</td>\n      <td>0.455285</td>\n      <td>0.970696</td>\n      <td>0.561341</td>\n    </tr>\n    <tr>\n      <th>1</th>\n      <td>0.571053</td>\n      <td>0.205534</td>\n      <td>0.417112</td>\n      <td>0.030928</td>\n      <td>0.326087</td>\n      <td>0.575862</td>\n      <td>0.510549</td>\n      <td>0.245283</td>\n      <td>0.274448</td>\n      <td>0.264505</td>\n      <td>0.463415</td>\n      <td>0.780220</td>\n      <td>0.550642</td>\n    </tr>\n    <tr>\n      <th>2</th>\n      <td>0.560526</td>\n      <td>0.320158</td>\n      <td>0.700535</td>\n      <td>0.412371</td>\n      <td>0.336957</td>\n      <td>0.627586</td>\n      <td>0.611814</td>\n      <td>0.320755</td>\n      <td>0.757098</td>\n      <td>0.375427</td>\n      <td>0.447154</td>\n      <td>0.695971</td>\n      <td>0.646933</td>\n    </tr>\n    <tr>\n      <th>3</th>\n      <td>0.878947</td>\n      <td>0.239130</td>\n      <td>0.609626</td>\n      <td>0.319588</td>\n      <td>0.467391</td>\n      <td>0.989655</td>\n      <td>0.664557</td>\n      <td>0.207547</td>\n      <td>0.558360</td>\n      <td>0.556314</td>\n      <td>0.308943</td>\n      <td>0.798535</td>\n      <td>0.857347</td>\n    </tr>\n    <tr>\n      <th>4</th>\n      <td>0.581579</td>\n      <td>0.365613</td>\n      <td>0.807487</td>\n      <td>0.536082</td>\n      <td>0.521739</td>\n      <td>0.627586</td>\n      <td>0.495781</td>\n      <td>0.490566</td>\n      <td>0.444795</td>\n      <td>0.259386</td>\n      <td>0.455285</td>\n      <td>0.608059</td>\n      <td>0.325963</td>\n    </tr>\n    <tr>\n      <th>...</th>\n      <td>...</td>\n      <td>...</td>\n      <td>...</td>\n      <td>...</td>\n      <td>...</td>\n      <td>...</td>\n      <td>...</td>\n      <td>...</td>\n      <td>...</td>\n      <td>...</td>\n      <td>...</td>\n      <td>...</td>\n      <td>...</td>\n    </tr>\n    <tr>\n      <th>173</th>\n      <td>0.705263</td>\n      <td>0.970356</td>\n      <td>0.582888</td>\n      <td>0.510309</td>\n      <td>0.271739</td>\n      <td>0.241379</td>\n      <td>0.056962</td>\n      <td>0.735849</td>\n      <td>0.205047</td>\n      <td>0.547782</td>\n      <td>0.130081</td>\n      <td>0.172161</td>\n      <td>0.329529</td>\n    </tr>\n    <tr>\n      <th>174</th>\n      <td>0.623684</td>\n      <td>0.626482</td>\n      <td>0.598930</td>\n      <td>0.639175</td>\n      <td>0.347826</td>\n      <td>0.282759</td>\n      <td>0.086498</td>\n      <td>0.566038</td>\n      <td>0.315457</td>\n      <td>0.513652</td>\n      <td>0.178862</td>\n      <td>0.106227</td>\n      <td>0.336662</td>\n    </tr>\n    <tr>\n      <th>175</th>\n      <td>0.589474</td>\n      <td>0.699605</td>\n      <td>0.481283</td>\n      <td>0.484536</td>\n      <td>0.543478</td>\n      <td>0.210345</td>\n      <td>0.073840</td>\n      <td>0.566038</td>\n      <td>0.296530</td>\n      <td>0.761092</td>\n      <td>0.089431</td>\n      <td>0.106227</td>\n      <td>0.397290</td>\n    </tr>\n    <tr>\n      <th>176</th>\n      <td>0.563158</td>\n      <td>0.365613</td>\n      <td>0.540107</td>\n      <td>0.484536</td>\n      <td>0.543478</td>\n      <td>0.231034</td>\n      <td>0.071730</td>\n      <td>0.754717</td>\n      <td>0.331230</td>\n      <td>0.684300</td>\n      <td>0.097561</td>\n      <td>0.128205</td>\n      <td>0.400856</td>\n    </tr>\n    <tr>\n      <th>177</th>\n      <td>0.815789</td>\n      <td>0.664032</td>\n      <td>0.737968</td>\n      <td>0.716495</td>\n      <td>0.282609</td>\n      <td>0.368966</td>\n      <td>0.088608</td>\n      <td>0.811321</td>\n      <td>0.296530</td>\n      <td>0.675768</td>\n      <td>0.105691</td>\n      <td>0.120879</td>\n      <td>0.201141</td>\n    </tr>\n  </tbody>\n</table>\n<p>178 rows × 13 columns</p>\n</div>"
     },
     "execution_count": 52,
     "metadata": {},
     "output_type": "execute_result"
    }
   ]
  },
  {
   "cell_type": "code",
   "source": [
    "_, ax = plt.subplots(figsize=(6, 6))\n",
    "colors = {0: 'red', 1: 'green', 2: 'blue'}\n",
    "X2['target'] = wine_dataframe['target']\n",
    "for key, group in X2.groupby('target'):\n",
    "    group[['alcohol', 'ash']].plot(ax=ax, kind='scatter', x=0, y=1, c=colors[key], label=wine.target_names[int(key)])\n",
    "plt.show()"
   ],
   "metadata": {
    "colab": {
     "base_uri": "https://localhost:8080/",
     "height": 498
    },
    "id": "JzD3rtt8frph",
    "outputId": "0fcc2cd2-4f9d-42ca-afc6-1ec50319e5c6",
    "ExecuteTime": {
     "end_time": "2024-03-20T18:07:17.185090Z",
     "start_time": "2024-03-20T18:07:16.996266Z"
    }
   },
   "execution_count": 53,
   "outputs": [
    {
     "data": {
      "text/plain": "<Figure size 600x600 with 1 Axes>",
      "image/png": "[encoded data removed]"
     },
     "metadata": {},
     "output_type": "display_data"
    }
   ]
  },
  {
   "cell_type": "markdown",
   "metadata": {
    "id": "Z0OdkGJ5_Jcf"
   },
   "source": [
    "## Standarization"
   ]
  },
  {
   "cell_type": "markdown",
   "metadata": {
    "id": "L4itUSuP_Jcg"
   },
   "source": [
    "Another type of feature normalization is standarization, where the standardized feature has the mean value of 0 and the standard deviation of 1. In the `scikit-learn` library this operation can be achieved using the [StandardScaler](http://scikit-learn.org/stable/modules/generated/sklearn.preprocessing.StandardScaler.html#sklearn.preprocessing.StandardScaler) class which performs the following transformation:\n",
    "\n",
    "$$v' = \\frac{v-\\mu}{\\sigma+\\epsilon}$$\n",
    "\n",
    "where $\\mu$ is the mean value of the feature, and $\\sigma$ is its standard deviation. Notice that standarization doesn't ensure that variables are within similar ranges, but it works well with outliers. "
   ]
  },
  {
   "cell_type": "code",
   "execution_count": 54,
   "metadata": {
    "colab": {
     "base_uri": "https://localhost:8080/",
     "height": 206
    },
    "id": "VGS4nEwm_Jcg",
    "outputId": "e190d383-18aa-4249-fbb0-972e6ba001fb",
    "ExecuteTime": {
     "end_time": "2024-03-20T18:09:25.319747Z",
     "start_time": "2024-03-20T18:09:25.289038Z"
    }
   },
   "outputs": [
    {
     "data": {
      "text/plain": "    alcohol  malic_acid       ash  alcalinity_of_ash  magnesium  \\\n0  1.518613   -0.562250  0.232053          -1.169593   1.913905   \n1  0.246290   -0.499413 -0.827996          -2.490847   0.018145   \n2  0.196879    0.021231  1.109334          -0.268738   0.088358   \n3  1.691550   -0.346811  0.487926          -0.809251   0.930918   \n4  0.295700    0.227694  1.840403           0.451946   1.281985   \n\n   total_phenols  flavanoids  nonflavanoid_phenols  proanthocyanins  \\\n0       0.808997    1.034819             -0.659563         1.224884   \n1       0.568648    0.733629             -0.820719        -0.544721   \n2       0.808997    1.215533             -0.498407         2.135968   \n3       2.491446    1.466525             -0.981875         1.032155   \n4       0.808997    0.663351              0.226796         0.401404   \n\n   color_intensity       hue  od280/od315_of_diluted_wines   proline  \n0         0.251717  0.362177                      1.847920  1.013009  \n1        -0.293321  0.406051                      1.113449  0.965242  \n2         0.269020  0.318304                      0.788587  1.395148  \n3         1.186068 -0.427544                      1.184071  2.334574  \n4        -0.319276  0.362177                      0.449601 -0.037874  ",
      "text/html": "<div>\n<style scoped>\n    .dataframe tbody tr th:only-of-type {\n        vertical-align: middle;\n    }\n\n    .dataframe tbody tr th {\n        vertical-align: top;\n    }\n\n    .dataframe thead th {\n        text-align: right;\n    }\n</style>\n<table border=\"1\" class=\"dataframe\">\n  <thead>\n    <tr style=\"text-align: right;\">\n      <th></th>\n      <th>alcohol</th>\n      <th>malic_acid</th>\n      <th>ash</th>\n      <th>alcalinity_of_ash</th>\n      <th>magnesium</th>\n      <th>total_phenols</th>\n      <th>flavanoids</th>\n      <th>nonflavanoid_phenols</th>\n      <th>proanthocyanins</th>\n      <th>color_intensity</th>\n      <th>hue</th>\n      <th>od280/od315_of_diluted_wines</th>\n      <th>proline</th>\n    </tr>\n  </thead>\n  <tbody>\n    <tr>\n      <th>0</th>\n      <td>1.518613</td>\n      <td>-0.562250</td>\n      <td>0.232053</td>\n      <td>-1.169593</td>\n      <td>1.913905</td>\n      <td>0.808997</td>\n      <td>1.034819</td>\n      <td>-0.659563</td>\n      <td>1.224884</td>\n      <td>0.251717</td>\n      <td>0.362177</td>\n      <td>1.847920</td>\n      <td>1.013009</td>\n    </tr>\n    <tr>\n      <th>1</th>\n      <td>0.246290</td>\n      <td>-0.499413</td>\n      <td>-0.827996</td>\n      <td>-2.490847</td>\n      <td>0.018145</td>\n      <td>0.568648</td>\n      <td>0.733629</td>\n      <td>-0.820719</td>\n      <td>-0.544721</td>\n      <td>-0.293321</td>\n      <td>0.406051</td>\n      <td>1.113449</td>\n      <td>0.965242</td>\n    </tr>\n    <tr>\n      <th>2</th>\n      <td>0.196879</td>\n      <td>0.021231</td>\n      <td>1.109334</td>\n      <td>-0.268738</td>\n      <td>0.088358</td>\n      <td>0.808997</td>\n      <td>1.215533</td>\n      <td>-0.498407</td>\n      <td>2.135968</td>\n      <td>0.269020</td>\n      <td>0.318304</td>\n      <td>0.788587</td>\n      <td>1.395148</td>\n    </tr>\n    <tr>\n      <th>3</th>\n      <td>1.691550</td>\n      <td>-0.346811</td>\n      <td>0.487926</td>\n      <td>-0.809251</td>\n      <td>0.930918</td>\n      <td>2.491446</td>\n      <td>1.466525</td>\n      <td>-0.981875</td>\n      <td>1.032155</td>\n      <td>1.186068</td>\n      <td>-0.427544</td>\n      <td>1.184071</td>\n      <td>2.334574</td>\n    </tr>\n    <tr>\n      <th>4</th>\n      <td>0.295700</td>\n      <td>0.227694</td>\n      <td>1.840403</td>\n      <td>0.451946</td>\n      <td>1.281985</td>\n      <td>0.808997</td>\n      <td>0.663351</td>\n      <td>0.226796</td>\n      <td>0.401404</td>\n      <td>-0.319276</td>\n      <td>0.362177</td>\n      <td>0.449601</td>\n      <td>-0.037874</td>\n    </tr>\n  </tbody>\n</table>\n</div>"
     },
     "execution_count": 54,
     "metadata": {},
     "output_type": "execute_result"
    }
   ],
   "source": [
    "from sklearn.preprocessing import StandardScaler\n",
    "\n",
    "scale = StandardScaler().fit(X)\n",
    "X_scaled = pd.DataFrame(scale.transform(X), columns=cols)\n",
    "\n",
    "X_scaled.head()"
   ]
  },
  {
   "cell_type": "code",
   "execution_count": 55,
   "metadata": {
    "colab": {
     "base_uri": "https://localhost:8080/",
     "height": 300
    },
    "id": "85KTSRpU_Jcg",
    "outputId": "a97fce41-aa02-4f29-e045-a1d803234037",
    "ExecuteTime": {
     "end_time": "2024-03-20T18:09:28.137933Z",
     "start_time": "2024-03-20T18:09:28.108181Z"
    }
   },
   "outputs": [
    {
     "data": {
      "text/plain": "       alcohol  malic_acid      ash  alcalinity_of_ash  magnesium  \\\ncount  178.000     178.000  178.000            178.000    178.000   \nmean     0.000       0.000   -0.000             -0.000     -0.000   \nstd      1.003       1.003    1.003              1.003      1.003   \nmin     -2.434      -1.433   -3.679             -2.671     -2.088   \n25%     -0.788      -0.659   -0.572             -0.689     -0.824   \n50%      0.061      -0.423   -0.024              0.002     -0.122   \n75%      0.836       0.670    0.698              0.602      0.510   \nmax      2.260       3.109    3.156              3.155      4.371   \n\n       total_phenols  flavanoids  nonflavanoid_phenols  proanthocyanins  \\\ncount        178.000     178.000               178.000          178.000   \nmean          -0.000       0.000                -0.000           -0.000   \nstd            1.003       1.003                 1.003            1.003   \nmin           -2.107      -1.696                -1.868           -2.069   \n25%           -0.885      -0.828                -0.740           -0.597   \n50%            0.096       0.106                -0.176           -0.063   \n75%            0.809       0.849                 0.610            0.629   \nmax            2.540       3.063                 2.402            3.485   \n\n       color_intensity      hue  od280/od315_of_diluted_wines  proline  \ncount          178.000  178.000                       178.000  178.000  \nmean            -0.000    0.000                         0.000   -0.000  \nstd              1.003    1.003                         1.003    1.003  \nmin             -1.634   -2.095                        -1.895   -1.493  \n25%             -0.795   -0.768                        -0.952   -0.785  \n50%             -0.159    0.033                         0.238   -0.234  \n75%              0.494    0.713                         0.789    0.758  \nmax              3.435    3.302                         1.961    2.971  ",
      "text/html": "<div>\n<style scoped>\n    .dataframe tbody tr th:only-of-type {\n        vertical-align: middle;\n    }\n\n    .dataframe tbody tr th {\n        vertical-align: top;\n    }\n\n    .dataframe thead th {\n        text-align: right;\n    }\n</style>\n<table border=\"1\" class=\"dataframe\">\n  <thead>\n    <tr style=\"text-align: right;\">\n      <th></th>\n      <th>alcohol</th>\n      <th>malic_acid</th>\n      <th>ash</th>\n      <th>alcalinity_of_ash</th>\n      <th>magnesium</th>\n      <th>total_phenols</th>\n      <th>flavanoids</th>\n      <th>nonflavanoid_phenols</th>\n      <th>proanthocyanins</th>\n      <th>color_intensity</th>\n      <th>hue</th>\n      <th>od280/od315_of_diluted_wines</th>\n      <th>proline</th>\n    </tr>\n  </thead>\n  <tbody>\n    <tr>\n      <th>count</th>\n      <td>178.000</td>\n      <td>178.000</td>\n      <td>178.000</td>\n      <td>178.000</td>\n      <td>178.000</td>\n      <td>178.000</td>\n      <td>178.000</td>\n      <td>178.000</td>\n      <td>178.000</td>\n      <td>178.000</td>\n      <td>178.000</td>\n      <td>178.000</td>\n      <td>178.000</td>\n    </tr>\n    <tr>\n      <th>mean</th>\n      <td>0.000</td>\n      <td>0.000</td>\n      <td>-0.000</td>\n      <td>-0.000</td>\n      <td>-0.000</td>\n      <td>-0.000</td>\n      <td>0.000</td>\n      <td>-0.000</td>\n      <td>-0.000</td>\n      <td>-0.000</td>\n      <td>0.000</td>\n      <td>0.000</td>\n      <td>-0.000</td>\n    </tr>\n    <tr>\n      <th>std</th>\n      <td>1.003</td>\n      <td>1.003</td>\n      <td>1.003</td>\n      <td>1.003</td>\n      <td>1.003</td>\n      <td>1.003</td>\n      <td>1.003</td>\n      <td>1.003</td>\n      <td>1.003</td>\n      <td>1.003</td>\n      <td>1.003</td>\n      <td>1.003</td>\n      <td>1.003</td>\n    </tr>\n    <tr>\n      <th>min</th>\n      <td>-2.434</td>\n      <td>-1.433</td>\n      <td>-3.679</td>\n      <td>-2.671</td>\n      <td>-2.088</td>\n      <td>-2.107</td>\n      <td>-1.696</td>\n      <td>-1.868</td>\n      <td>-2.069</td>\n      <td>-1.634</td>\n      <td>-2.095</td>\n      <td>-1.895</td>\n      <td>-1.493</td>\n    </tr>\n    <tr>\n      <th>25%</th>\n      <td>-0.788</td>\n      <td>-0.659</td>\n      <td>-0.572</td>\n      <td>-0.689</td>\n      <td>-0.824</td>\n      <td>-0.885</td>\n      <td>-0.828</td>\n      <td>-0.740</td>\n      <td>-0.597</td>\n      <td>-0.795</td>\n      <td>-0.768</td>\n      <td>-0.952</td>\n      <td>-0.785</td>\n    </tr>\n    <tr>\n      <th>50%</th>\n      <td>0.061</td>\n      <td>-0.423</td>\n      <td>-0.024</td>\n      <td>0.002</td>\n      <td>-0.122</td>\n      <td>0.096</td>\n      <td>0.106</td>\n      <td>-0.176</td>\n      <td>-0.063</td>\n      <td>-0.159</td>\n      <td>0.033</td>\n      <td>0.238</td>\n      <td>-0.234</td>\n    </tr>\n    <tr>\n      <th>75%</th>\n      <td>0.836</td>\n      <td>0.670</td>\n      <td>0.698</td>\n      <td>0.602</td>\n      <td>0.510</td>\n      <td>0.809</td>\n      <td>0.849</td>\n      <td>0.610</td>\n      <td>0.629</td>\n      <td>0.494</td>\n      <td>0.713</td>\n      <td>0.789</td>\n      <td>0.758</td>\n    </tr>\n    <tr>\n      <th>max</th>\n      <td>2.260</td>\n      <td>3.109</td>\n      <td>3.156</td>\n      <td>3.155</td>\n      <td>4.371</td>\n      <td>2.540</td>\n      <td>3.063</td>\n      <td>2.402</td>\n      <td>3.485</td>\n      <td>3.435</td>\n      <td>3.302</td>\n      <td>1.961</td>\n      <td>2.971</td>\n    </tr>\n  </tbody>\n</table>\n</div>"
     },
     "execution_count": 55,
     "metadata": {},
     "output_type": "execute_result"
    }
   ],
   "source": [
    "X_scaled.describe().round(3)"
   ]
  },
  {
   "cell_type": "code",
   "execution_count": 36,
   "metadata": {
    "colab": {
     "base_uri": "https://localhost:8080/",
     "height": 265
    },
    "id": "NMFv22gj_Jch",
    "outputId": "30f7d2b3-3fe9-45df-9e8e-33b948c8f276",
    "ExecuteTime": {
     "end_time": "2024-03-20T18:03:12.516164Z",
     "start_time": "2024-03-20T18:03:12.300079Z"
    }
   },
   "outputs": [
    {
     "data": {
      "text/plain": "<Figure size 640x480 with 1 Axes>",
      "image/png": "[encoded data removed]"
     },
     "metadata": {},
     "output_type": "display_data"
    }
   ],
   "source": [
    "x = X_scaled['alcohol'][:]\n",
    "y = X_scaled['ash'][:]\n",
    "t = wine_dataframe['target']\n",
    "\n",
    "plt.scatter(x, y, c=t)\n",
    "plt.show()"
   ]
  },
  {
   "cell_type": "markdown",
   "source": [
    " ## Excercise / Homework:\n",
    "\n",
    "Use pandas apply function to implement your own version of the standardization."
   ],
   "metadata": {
    "id": "X6QmoeKkgXe-"
   }
  },
  {
   "cell_type": "code",
   "source": [
    "def standarize(df, x, col):\n",
    "    mean = df[col].mean()\n",
    "    std = df[col].std()\n",
    "    return (x - mean) / (std + 1e-10)\n",
    "\n",
    "\n",
    "X2 = pd.DataFrame(columns=X.columns)\n",
    "for column in X.columns:\n",
    "    X2[column] = X.alcohol.apply(lambda x: standarize(X, x, column))\n",
    "    print(X, x, column)\n",
    "X2.describe().round(3)"
   ],
   "metadata": {
    "id": "ckoaIYq5gW-G",
    "ExecuteTime": {
     "end_time": "2024-03-20T18:10:49.806729Z",
     "start_time": "2024-03-20T18:10:49.607421Z"
    }
   },
   "execution_count": 58,
   "outputs": [
    {
     "name": "stdout",
     "output_type": "stream",
     "text": [
      "     alcohol  malic_acid   ash  alcalinity_of_ash  magnesium  total_phenols  \\\n",
      "0      14.23        1.71  2.43               15.6      127.0           2.80   \n",
      "1      13.20        1.78  2.14               11.2      100.0           2.65   \n",
      "2      13.16        2.36  2.67               18.6      101.0           2.80   \n",
      "3      14.37        1.95  2.50               16.8      113.0           3.85   \n",
      "4      13.24        2.59  2.87               21.0      118.0           2.80   \n",
      "..       ...         ...   ...                ...        ...            ...   \n",
      "173    13.71        5.65  2.45               20.5       95.0           1.68   \n",
      "174    13.40        3.91  2.48               23.0      102.0           1.80   \n",
      "175    13.27        4.28  2.26               20.0      120.0           1.59   \n",
      "176    13.17        2.59  2.37               20.0      120.0           1.65   \n",
      "177    14.13        4.10  2.74               24.5       96.0           2.05   \n",
      "\n",
      "     flavanoids  nonflavanoid_phenols  proanthocyanins  color_intensity   hue  \\\n",
      "0          3.06                  0.28             2.29             5.64  1.04   \n",
      "1          2.76                  0.26             1.28             4.38  1.05   \n",
      "2          3.24                  0.30             2.81             5.68  1.03   \n",
      "3          3.49                  0.24             2.18             7.80  0.86   \n",
      "4          2.69                  0.39             1.82             4.32  1.04   \n",
      "..          ...                   ...              ...              ...   ...   \n",
      "173        0.61                  0.52             1.06             7.70  0.64   \n",
      "174        0.75                  0.43             1.41             7.30  0.70   \n",
      "175        0.69                  0.43             1.35            10.20  0.59   \n",
      "176        0.68                  0.53             1.46             9.30  0.60   \n",
      "177        0.76                  0.56             1.35             9.20  0.61   \n",
      "\n",
      "     od280/od315_of_diluted_wines  proline  \n",
      "0                            3.92   1065.0  \n",
      "1                            3.40   1050.0  \n",
      "2                            3.17   1185.0  \n",
      "3                            3.45   1480.0  \n",
      "4                            2.93    735.0  \n",
      "..                            ...      ...  \n",
      "173                          1.74    740.0  \n",
      "174                          1.56    750.0  \n",
      "175                          1.56    835.0  \n",
      "176                          1.62    840.0  \n",
      "177                          1.60    560.0  \n",
      "\n",
      "[178 rows x 13 columns] 0      14.23\n",
      "1      13.20\n",
      "2      13.16\n",
      "3      14.37\n",
      "4      13.24\n",
      "       ...  \n",
      "173    13.71\n",
      "174    13.40\n",
      "175    13.27\n",
      "176    13.17\n",
      "177    14.13\n",
      "Name: alcohol, Length: 178, dtype: float64 alcohol\n",
      "     alcohol  malic_acid   ash  alcalinity_of_ash  magnesium  total_phenols  \\\n",
      "0      14.23        1.71  2.43               15.6      127.0           2.80   \n",
      "1      13.20        1.78  2.14               11.2      100.0           2.65   \n",
      "2      13.16        2.36  2.67               18.6      101.0           2.80   \n",
      "3      14.37        1.95  2.50               16.8      113.0           3.85   \n",
      "4      13.24        2.59  2.87               21.0      118.0           2.80   \n",
      "..       ...         ...   ...                ...        ...            ...   \n",
      "173    13.71        5.65  2.45               20.5       95.0           1.68   \n",
      "174    13.40        3.91  2.48               23.0      102.0           1.80   \n",
      "175    13.27        4.28  2.26               20.0      120.0           1.59   \n",
      "176    13.17        2.59  2.37               20.0      120.0           1.65   \n",
      "177    14.13        4.10  2.74               24.5       96.0           2.05   \n",
      "\n",
      "     flavanoids  nonflavanoid_phenols  proanthocyanins  color_intensity   hue  \\\n",
      "0          3.06                  0.28             2.29             5.64  1.04   \n",
      "1          2.76                  0.26             1.28             4.38  1.05   \n",
      "2          3.24                  0.30             2.81             5.68  1.03   \n",
      "3          3.49                  0.24             2.18             7.80  0.86   \n",
      "4          2.69                  0.39             1.82             4.32  1.04   \n",
      "..          ...                   ...              ...              ...   ...   \n",
      "173        0.61                  0.52             1.06             7.70  0.64   \n",
      "174        0.75                  0.43             1.41             7.30  0.70   \n",
      "175        0.69                  0.43             1.35            10.20  0.59   \n",
      "176        0.68                  0.53             1.46             9.30  0.60   \n",
      "177        0.76                  0.56             1.35             9.20  0.61   \n",
      "\n",
      "     od280/od315_of_diluted_wines  proline  \n",
      "0                            3.92   1065.0  \n",
      "1                            3.40   1050.0  \n",
      "2                            3.17   1185.0  \n",
      "3                            3.45   1480.0  \n",
      "4                            2.93    735.0  \n",
      "..                            ...      ...  \n",
      "173                          1.74    740.0  \n",
      "174                          1.56    750.0  \n",
      "175                          1.56    835.0  \n",
      "176                          1.62    840.0  \n",
      "177                          1.60    560.0  \n",
      "\n",
      "[178 rows x 13 columns] 0      14.23\n",
      "1      13.20\n",
      "2      13.16\n",
      "3      14.37\n",
      "4      13.24\n",
      "       ...  \n",
      "173    13.71\n",
      "174    13.40\n",
      "175    13.27\n",
      "176    13.17\n",
      "177    14.13\n",
      "Name: alcohol, Length: 178, dtype: float64 malic_acid\n",
      "     alcohol  malic_acid   ash  alcalinity_of_ash  magnesium  total_phenols  \\\n",
      "0      14.23        1.71  2.43               15.6      127.0           2.80   \n",
      "1      13.20        1.78  2.14               11.2      100.0           2.65   \n",
      "2      13.16        2.36  2.67               18.6      101.0           2.80   \n",
      "3      14.37        1.95  2.50               16.8      113.0           3.85   \n",
      "4      13.24        2.59  2.87               21.0      118.0           2.80   \n",
      "..       ...         ...   ...                ...        ...            ...   \n",
      "173    13.71        5.65  2.45               20.5       95.0           1.68   \n",
      "174    13.40        3.91  2.48               23.0      102.0           1.80   \n",
      "175    13.27        4.28  2.26               20.0      120.0           1.59   \n",
      "176    13.17        2.59  2.37               20.0      120.0           1.65   \n",
      "177    14.13        4.10  2.74               24.5       96.0           2.05   \n",
      "\n",
      "     flavanoids  nonflavanoid_phenols  proanthocyanins  color_intensity   hue  \\\n",
      "0          3.06                  0.28             2.29             5.64  1.04   \n",
      "1          2.76                  0.26             1.28             4.38  1.05   \n",
      "2          3.24                  0.30             2.81             5.68  1.03   \n",
      "3          3.49                  0.24             2.18             7.80  0.86   \n",
      "4          2.69                  0.39             1.82             4.32  1.04   \n",
      "..          ...                   ...              ...              ...   ...   \n",
      "173        0.61                  0.52             1.06             7.70  0.64   \n",
      "174        0.75                  0.43             1.41             7.30  0.70   \n",
      "175        0.69                  0.43             1.35            10.20  0.59   \n",
      "176        0.68                  0.53             1.46             9.30  0.60   \n",
      "177        0.76                  0.56             1.35             9.20  0.61   \n",
      "\n",
      "     od280/od315_of_diluted_wines  proline  \n",
      "0                            3.92   1065.0  \n",
      "1                            3.40   1050.0  \n",
      "2                            3.17   1185.0  \n",
      "3                            3.45   1480.0  \n",
      "4                            2.93    735.0  \n",
      "..                            ...      ...  \n",
      "173                          1.74    740.0  \n",
      "174                          1.56    750.0  \n",
      "175                          1.56    835.0  \n",
      "176                          1.62    840.0  \n",
      "177                          1.60    560.0  \n",
      "\n",
      "[178 rows x 13 columns] 0      14.23\n",
      "1      13.20\n",
      "2      13.16\n",
      "3      14.37\n",
      "4      13.24\n",
      "       ...  \n",
      "173    13.71\n",
      "174    13.40\n",
      "175    13.27\n",
      "176    13.17\n",
      "177    14.13\n",
      "Name: alcohol, Length: 178, dtype: float64 ash\n",
      "     alcohol  malic_acid   ash  alcalinity_of_ash  magnesium  total_phenols  \\\n",
      "0      14.23        1.71  2.43               15.6      127.0           2.80   \n",
      "1      13.20        1.78  2.14               11.2      100.0           2.65   \n",
      "2      13.16        2.36  2.67               18.6      101.0           2.80   \n",
      "3      14.37        1.95  2.50               16.8      113.0           3.85   \n",
      "4      13.24        2.59  2.87               21.0      118.0           2.80   \n",
      "..       ...         ...   ...                ...        ...            ...   \n",
      "173    13.71        5.65  2.45               20.5       95.0           1.68   \n",
      "174    13.40        3.91  2.48               23.0      102.0           1.80   \n",
      "175    13.27        4.28  2.26               20.0      120.0           1.59   \n",
      "176    13.17        2.59  2.37               20.0      120.0           1.65   \n",
      "177    14.13        4.10  2.74               24.5       96.0           2.05   \n",
      "\n",
      "     flavanoids  nonflavanoid_phenols  proanthocyanins  color_intensity   hue  \\\n",
      "0          3.06                  0.28             2.29             5.64  1.04   \n",
      "1          2.76                  0.26             1.28             4.38  1.05   \n",
      "2          3.24                  0.30             2.81             5.68  1.03   \n",
      "3          3.49                  0.24             2.18             7.80  0.86   \n",
      "4          2.69                  0.39             1.82             4.32  1.04   \n",
      "..          ...                   ...              ...              ...   ...   \n",
      "173        0.61                  0.52             1.06             7.70  0.64   \n",
      "174        0.75                  0.43             1.41             7.30  0.70   \n",
      "175        0.69                  0.43             1.35            10.20  0.59   \n",
      "176        0.68                  0.53             1.46             9.30  0.60   \n",
      "177        0.76                  0.56             1.35             9.20  0.61   \n",
      "\n",
      "     od280/od315_of_diluted_wines  proline  \n",
      "0                            3.92   1065.0  \n",
      "1                            3.40   1050.0  \n",
      "2                            3.17   1185.0  \n",
      "3                            3.45   1480.0  \n",
      "4                            2.93    735.0  \n",
      "..                            ...      ...  \n",
      "173                          1.74    740.0  \n",
      "174                          1.56    750.0  \n",
      "175                          1.56    835.0  \n",
      "176                          1.62    840.0  \n",
      "177                          1.60    560.0  \n",
      "\n",
      "[178 rows x 13 columns] 0      14.23\n",
      "1      13.20\n",
      "2      13.16\n",
      "3      14.37\n",
      "4      13.24\n",
      "       ...  \n",
      "173    13.71\n",
      "174    13.40\n",
      "175    13.27\n",
      "176    13.17\n",
      "177    14.13\n",
      "Name: alcohol, Length: 178, dtype: float64 alcalinity_of_ash\n",
      "     alcohol  malic_acid   ash  alcalinity_of_ash  magnesium  total_phenols  \\\n",
      "0      14.23        1.71  2.43               15.6      127.0           2.80   \n",
      "1      13.20        1.78  2.14               11.2      100.0           2.65   \n",
      "2      13.16        2.36  2.67               18.6      101.0           2.80   \n",
      "3      14.37        1.95  2.50               16.8      113.0           3.85   \n",
      "4      13.24        2.59  2.87               21.0      118.0           2.80   \n",
      "..       ...         ...   ...                ...        ...            ...   \n",
      "173    13.71        5.65  2.45               20.5       95.0           1.68   \n",
      "174    13.40        3.91  2.48               23.0      102.0           1.80   \n",
      "175    13.27        4.28  2.26               20.0      120.0           1.59   \n",
      "176    13.17        2.59  2.37               20.0      120.0           1.65   \n",
      "177    14.13        4.10  2.74               24.5       96.0           2.05   \n",
      "\n",
      "     flavanoids  nonflavanoid_phenols  proanthocyanins  color_intensity   hue  \\\n",
      "0          3.06                  0.28             2.29             5.64  1.04   \n",
      "1          2.76                  0.26             1.28             4.38  1.05   \n",
      "2          3.24                  0.30             2.81             5.68  1.03   \n",
      "3          3.49                  0.24             2.18             7.80  0.86   \n",
      "4          2.69                  0.39             1.82             4.32  1.04   \n",
      "..          ...                   ...              ...              ...   ...   \n",
      "173        0.61                  0.52             1.06             7.70  0.64   \n",
      "174        0.75                  0.43             1.41             7.30  0.70   \n",
      "175        0.69                  0.43             1.35            10.20  0.59   \n",
      "176        0.68                  0.53             1.46             9.30  0.60   \n",
      "177        0.76                  0.56             1.35             9.20  0.61   \n",
      "\n",
      "     od280/od315_of_diluted_wines  proline  \n",
      "0                            3.92   1065.0  \n",
      "1                            3.40   1050.0  \n",
      "2                            3.17   1185.0  \n",
      "3                            3.45   1480.0  \n",
      "4                            2.93    735.0  \n",
      "..                            ...      ...  \n",
      "173                          1.74    740.0  \n",
      "174                          1.56    750.0  \n",
      "175                          1.56    835.0  \n",
      "176                          1.62    840.0  \n",
      "177                          1.60    560.0  \n",
      "\n",
      "[178 rows x 13 columns] 0      14.23\n",
      "1      13.20\n",
      "2      13.16\n",
      "3      14.37\n",
      "4      13.24\n",
      "       ...  \n",
      "173    13.71\n",
      "174    13.40\n",
      "175    13.27\n",
      "176    13.17\n",
      "177    14.13\n",
      "Name: alcohol, Length: 178, dtype: float64 magnesium\n",
      "     alcohol  malic_acid   ash  alcalinity_of_ash  magnesium  total_phenols  \\\n",
      "0      14.23        1.71  2.43               15.6      127.0           2.80   \n",
      "1      13.20        1.78  2.14               11.2      100.0           2.65   \n",
      "2      13.16        2.36  2.67               18.6      101.0           2.80   \n",
      "3      14.37        1.95  2.50               16.8      113.0           3.85   \n",
      "4      13.24        2.59  2.87               21.0      118.0           2.80   \n",
      "..       ...         ...   ...                ...        ...            ...   \n",
      "173    13.71        5.65  2.45               20.5       95.0           1.68   \n",
      "174    13.40        3.91  2.48               23.0      102.0           1.80   \n",
      "175    13.27        4.28  2.26               20.0      120.0           1.59   \n",
      "176    13.17        2.59  2.37               20.0      120.0           1.65   \n",
      "177    14.13        4.10  2.74               24.5       96.0           2.05   \n",
      "\n",
      "     flavanoids  nonflavanoid_phenols  proanthocyanins  color_intensity   hue  \\\n",
      "0          3.06                  0.28             2.29             5.64  1.04   \n",
      "1          2.76                  0.26             1.28             4.38  1.05   \n",
      "2          3.24                  0.30             2.81             5.68  1.03   \n",
      "3          3.49                  0.24             2.18             7.80  0.86   \n",
      "4          2.69                  0.39             1.82             4.32  1.04   \n",
      "..          ...                   ...              ...              ...   ...   \n",
      "173        0.61                  0.52             1.06             7.70  0.64   \n",
      "174        0.75                  0.43             1.41             7.30  0.70   \n",
      "175        0.69                  0.43             1.35            10.20  0.59   \n",
      "176        0.68                  0.53             1.46             9.30  0.60   \n",
      "177        0.76                  0.56             1.35             9.20  0.61   \n",
      "\n",
      "     od280/od315_of_diluted_wines  proline  \n",
      "0                            3.92   1065.0  \n",
      "1                            3.40   1050.0  \n",
      "2                            3.17   1185.0  \n",
      "3                            3.45   1480.0  \n",
      "4                            2.93    735.0  \n",
      "..                            ...      ...  \n",
      "173                          1.74    740.0  \n",
      "174                          1.56    750.0  \n",
      "175                          1.56    835.0  \n",
      "176                          1.62    840.0  \n",
      "177                          1.60    560.0  \n",
      "\n",
      "[178 rows x 13 columns] 0      14.23\n",
      "1      13.20\n",
      "2      13.16\n",
      "3      14.37\n",
      "4      13.24\n",
      "       ...  \n",
      "173    13.71\n",
      "174    13.40\n",
      "175    13.27\n",
      "176    13.17\n",
      "177    14.13\n",
      "Name: alcohol, Length: 178, dtype: float64 total_phenols\n",
      "     alcohol  malic_acid   ash  alcalinity_of_ash  magnesium  total_phenols  \\\n",
      "0      14.23        1.71  2.43               15.6      127.0           2.80   \n",
      "1      13.20        1.78  2.14               11.2      100.0           2.65   \n",
      "2      13.16        2.36  2.67               18.6      101.0           2.80   \n",
      "3      14.37        1.95  2.50               16.8      113.0           3.85   \n",
      "4      13.24        2.59  2.87               21.0      118.0           2.80   \n",
      "..       ...         ...   ...                ...        ...            ...   \n",
      "173    13.71        5.65  2.45               20.5       95.0           1.68   \n",
      "174    13.40        3.91  2.48               23.0      102.0           1.80   \n",
      "175    13.27        4.28  2.26               20.0      120.0           1.59   \n",
      "176    13.17        2.59  2.37               20.0      120.0           1.65   \n",
      "177    14.13        4.10  2.74               24.5       96.0           2.05   \n",
      "\n",
      "     flavanoids  nonflavanoid_phenols  proanthocyanins  color_intensity   hue  \\\n",
      "0          3.06                  0.28             2.29             5.64  1.04   \n",
      "1          2.76                  0.26             1.28             4.38  1.05   \n",
      "2          3.24                  0.30             2.81             5.68  1.03   \n",
      "3          3.49                  0.24             2.18             7.80  0.86   \n",
      "4          2.69                  0.39             1.82             4.32  1.04   \n",
      "..          ...                   ...              ...              ...   ...   \n",
      "173        0.61                  0.52             1.06             7.70  0.64   \n",
      "174        0.75                  0.43             1.41             7.30  0.70   \n",
      "175        0.69                  0.43             1.35            10.20  0.59   \n",
      "176        0.68                  0.53             1.46             9.30  0.60   \n",
      "177        0.76                  0.56             1.35             9.20  0.61   \n",
      "\n",
      "     od280/od315_of_diluted_wines  proline  \n",
      "0                            3.92   1065.0  \n",
      "1                            3.40   1050.0  \n",
      "2                            3.17   1185.0  \n",
      "3                            3.45   1480.0  \n",
      "4                            2.93    735.0  \n",
      "..                            ...      ...  \n",
      "173                          1.74    740.0  \n",
      "174                          1.56    750.0  \n",
      "175                          1.56    835.0  \n",
      "176                          1.62    840.0  \n",
      "177                          1.60    560.0  \n",
      "\n",
      "[178 rows x 13 columns] 0      14.23\n",
      "1      13.20\n",
      "2      13.16\n",
      "3      14.37\n",
      "4      13.24\n",
      "       ...  \n",
      "173    13.71\n",
      "174    13.40\n",
      "175    13.27\n",
      "176    13.17\n",
      "177    14.13\n",
      "Name: alcohol, Length: 178, dtype: float64 flavanoids\n",
      "     alcohol  malic_acid   ash  alcalinity_of_ash  magnesium  total_phenols  \\\n",
      "0      14.23        1.71  2.43               15.6      127.0           2.80   \n",
      "1      13.20        1.78  2.14               11.2      100.0           2.65   \n",
      "2      13.16        2.36  2.67               18.6      101.0           2.80   \n",
      "3      14.37        1.95  2.50               16.8      113.0           3.85   \n",
      "4      13.24        2.59  2.87               21.0      118.0           2.80   \n",
      "..       ...         ...   ...                ...        ...            ...   \n",
      "173    13.71        5.65  2.45               20.5       95.0           1.68   \n",
      "174    13.40        3.91  2.48               23.0      102.0           1.80   \n",
      "175    13.27        4.28  2.26               20.0      120.0           1.59   \n",
      "176    13.17        2.59  2.37               20.0      120.0           1.65   \n",
      "177    14.13        4.10  2.74               24.5       96.0           2.05   \n",
      "\n",
      "     flavanoids  nonflavanoid_phenols  proanthocyanins  color_intensity   hue  \\\n",
      "0          3.06                  0.28             2.29             5.64  1.04   \n",
      "1          2.76                  0.26             1.28             4.38  1.05   \n",
      "2          3.24                  0.30             2.81             5.68  1.03   \n",
      "3          3.49                  0.24             2.18             7.80  0.86   \n",
      "4          2.69                  0.39             1.82             4.32  1.04   \n",
      "..          ...                   ...              ...              ...   ...   \n",
      "173        0.61                  0.52             1.06             7.70  0.64   \n",
      "174        0.75                  0.43             1.41             7.30  0.70   \n",
      "175        0.69                  0.43             1.35            10.20  0.59   \n",
      "176        0.68                  0.53             1.46             9.30  0.60   \n",
      "177        0.76                  0.56             1.35             9.20  0.61   \n",
      "\n",
      "     od280/od315_of_diluted_wines  proline  \n",
      "0                            3.92   1065.0  \n",
      "1                            3.40   1050.0  \n",
      "2                            3.17   1185.0  \n",
      "3                            3.45   1480.0  \n",
      "4                            2.93    735.0  \n",
      "..                            ...      ...  \n",
      "173                          1.74    740.0  \n",
      "174                          1.56    750.0  \n",
      "175                          1.56    835.0  \n",
      "176                          1.62    840.0  \n",
      "177                          1.60    560.0  \n",
      "\n",
      "[178 rows x 13 columns] 0      14.23\n",
      "1      13.20\n",
      "2      13.16\n",
      "3      14.37\n",
      "4      13.24\n",
      "       ...  \n",
      "173    13.71\n",
      "174    13.40\n",
      "175    13.27\n",
      "176    13.17\n",
      "177    14.13\n",
      "Name: alcohol, Length: 178, dtype: float64 nonflavanoid_phenols\n",
      "     alcohol  malic_acid   ash  alcalinity_of_ash  magnesium  total_phenols  \\\n",
      "0      14.23        1.71  2.43               15.6      127.0           2.80   \n",
      "1      13.20        1.78  2.14               11.2      100.0           2.65   \n",
      "2      13.16        2.36  2.67               18.6      101.0           2.80   \n",
      "3      14.37        1.95  2.50               16.8      113.0           3.85   \n",
      "4      13.24        2.59  2.87               21.0      118.0           2.80   \n",
      "..       ...         ...   ...                ...        ...            ...   \n",
      "173    13.71        5.65  2.45               20.5       95.0           1.68   \n",
      "174    13.40        3.91  2.48               23.0      102.0           1.80   \n",
      "175    13.27        4.28  2.26               20.0      120.0           1.59   \n",
      "176    13.17        2.59  2.37               20.0      120.0           1.65   \n",
      "177    14.13        4.10  2.74               24.5       96.0           2.05   \n",
      "\n",
      "     flavanoids  nonflavanoid_phenols  proanthocyanins  color_intensity   hue  \\\n",
      "0          3.06                  0.28             2.29             5.64  1.04   \n",
      "1          2.76                  0.26             1.28             4.38  1.05   \n",
      "2          3.24                  0.30             2.81             5.68  1.03   \n",
      "3          3.49                  0.24             2.18             7.80  0.86   \n",
      "4          2.69                  0.39             1.82             4.32  1.04   \n",
      "..          ...                   ...              ...              ...   ...   \n",
      "173        0.61                  0.52             1.06             7.70  0.64   \n",
      "174        0.75                  0.43             1.41             7.30  0.70   \n",
      "175        0.69                  0.43             1.35            10.20  0.59   \n",
      "176        0.68                  0.53             1.46             9.30  0.60   \n",
      "177        0.76                  0.56             1.35             9.20  0.61   \n",
      "\n",
      "     od280/od315_of_diluted_wines  proline  \n",
      "0                            3.92   1065.0  \n",
      "1                            3.40   1050.0  \n",
      "2                            3.17   1185.0  \n",
      "3                            3.45   1480.0  \n",
      "4                            2.93    735.0  \n",
      "..                            ...      ...  \n",
      "173                          1.74    740.0  \n",
      "174                          1.56    750.0  \n",
      "175                          1.56    835.0  \n",
      "176                          1.62    840.0  \n",
      "177                          1.60    560.0  \n",
      "\n",
      "[178 rows x 13 columns] 0      14.23\n",
      "1      13.20\n",
      "2      13.16\n",
      "3      14.37\n",
      "4      13.24\n",
      "       ...  \n",
      "173    13.71\n",
      "174    13.40\n",
      "175    13.27\n",
      "176    13.17\n",
      "177    14.13\n",
      "Name: alcohol, Length: 178, dtype: float64 proanthocyanins\n",
      "     alcohol  malic_acid   ash  alcalinity_of_ash  magnesium  total_phenols  \\\n",
      "0      14.23        1.71  2.43               15.6      127.0           2.80   \n",
      "1      13.20        1.78  2.14               11.2      100.0           2.65   \n",
      "2      13.16        2.36  2.67               18.6      101.0           2.80   \n",
      "3      14.37        1.95  2.50               16.8      113.0           3.85   \n",
      "4      13.24        2.59  2.87               21.0      118.0           2.80   \n",
      "..       ...         ...   ...                ...        ...            ...   \n",
      "173    13.71        5.65  2.45               20.5       95.0           1.68   \n",
      "174    13.40        3.91  2.48               23.0      102.0           1.80   \n",
      "175    13.27        4.28  2.26               20.0      120.0           1.59   \n",
      "176    13.17        2.59  2.37               20.0      120.0           1.65   \n",
      "177    14.13        4.10  2.74               24.5       96.0           2.05   \n",
      "\n",
      "     flavanoids  nonflavanoid_phenols  proanthocyanins  color_intensity   hue  \\\n",
      "0          3.06                  0.28             2.29             5.64  1.04   \n",
      "1          2.76                  0.26             1.28             4.38  1.05   \n",
      "2          3.24                  0.30             2.81             5.68  1.03   \n",
      "3          3.49                  0.24             2.18             7.80  0.86   \n",
      "4          2.69                  0.39             1.82             4.32  1.04   \n",
      "..          ...                   ...              ...              ...   ...   \n",
      "173        0.61                  0.52             1.06             7.70  0.64   \n",
      "174        0.75                  0.43             1.41             7.30  0.70   \n",
      "175        0.69                  0.43             1.35            10.20  0.59   \n",
      "176        0.68                  0.53             1.46             9.30  0.60   \n",
      "177        0.76                  0.56             1.35             9.20  0.61   \n",
      "\n",
      "     od280/od315_of_diluted_wines  proline  \n",
      "0                            3.92   1065.0  \n",
      "1                            3.40   1050.0  \n",
      "2                            3.17   1185.0  \n",
      "3                            3.45   1480.0  \n",
      "4                            2.93    735.0  \n",
      "..                            ...      ...  \n",
      "173                          1.74    740.0  \n",
      "174                          1.56    750.0  \n",
      "175                          1.56    835.0  \n",
      "176                          1.62    840.0  \n",
      "177                          1.60    560.0  \n",
      "\n",
      "[178 rows x 13 columns] 0      14.23\n",
      "1      13.20\n",
      "2      13.16\n",
      "3      14.37\n",
      "4      13.24\n",
      "       ...  \n",
      "173    13.71\n",
      "174    13.40\n",
      "175    13.27\n",
      "176    13.17\n",
      "177    14.13\n",
      "Name: alcohol, Length: 178, dtype: float64 color_intensity\n",
      "     alcohol  malic_acid   ash  alcalinity_of_ash  magnesium  total_phenols  \\\n",
      "0      14.23        1.71  2.43               15.6      127.0           2.80   \n",
      "1      13.20        1.78  2.14               11.2      100.0           2.65   \n",
      "2      13.16        2.36  2.67               18.6      101.0           2.80   \n",
      "3      14.37        1.95  2.50               16.8      113.0           3.85   \n",
      "4      13.24        2.59  2.87               21.0      118.0           2.80   \n",
      "..       ...         ...   ...                ...        ...            ...   \n",
      "173    13.71        5.65  2.45               20.5       95.0           1.68   \n",
      "174    13.40        3.91  2.48               23.0      102.0           1.80   \n",
      "175    13.27        4.28  2.26               20.0      120.0           1.59   \n",
      "176    13.17        2.59  2.37               20.0      120.0           1.65   \n",
      "177    14.13        4.10  2.74               24.5       96.0           2.05   \n",
      "\n",
      "     flavanoids  nonflavanoid_phenols  proanthocyanins  color_intensity   hue  \\\n",
      "0          3.06                  0.28             2.29             5.64  1.04   \n",
      "1          2.76                  0.26             1.28             4.38  1.05   \n",
      "2          3.24                  0.30             2.81             5.68  1.03   \n",
      "3          3.49                  0.24             2.18             7.80  0.86   \n",
      "4          2.69                  0.39             1.82             4.32  1.04   \n",
      "..          ...                   ...              ...              ...   ...   \n",
      "173        0.61                  0.52             1.06             7.70  0.64   \n",
      "174        0.75                  0.43             1.41             7.30  0.70   \n",
      "175        0.69                  0.43             1.35            10.20  0.59   \n",
      "176        0.68                  0.53             1.46             9.30  0.60   \n",
      "177        0.76                  0.56             1.35             9.20  0.61   \n",
      "\n",
      "     od280/od315_of_diluted_wines  proline  \n",
      "0                            3.92   1065.0  \n",
      "1                            3.40   1050.0  \n",
      "2                            3.17   1185.0  \n",
      "3                            3.45   1480.0  \n",
      "4                            2.93    735.0  \n",
      "..                            ...      ...  \n",
      "173                          1.74    740.0  \n",
      "174                          1.56    750.0  \n",
      "175                          1.56    835.0  \n",
      "176                          1.62    840.0  \n",
      "177                          1.60    560.0  \n",
      "\n",
      "[178 rows x 13 columns] 0      14.23\n",
      "1      13.20\n",
      "2      13.16\n",
      "3      14.37\n",
      "4      13.24\n",
      "       ...  \n",
      "173    13.71\n",
      "174    13.40\n",
      "175    13.27\n",
      "176    13.17\n",
      "177    14.13\n",
      "Name: alcohol, Length: 178, dtype: float64 hue\n",
      "     alcohol  malic_acid   ash  alcalinity_of_ash  magnesium  total_phenols  \\\n",
      "0      14.23        1.71  2.43               15.6      127.0           2.80   \n",
      "1      13.20        1.78  2.14               11.2      100.0           2.65   \n",
      "2      13.16        2.36  2.67               18.6      101.0           2.80   \n",
      "3      14.37        1.95  2.50               16.8      113.0           3.85   \n",
      "4      13.24        2.59  2.87               21.0      118.0           2.80   \n",
      "..       ...         ...   ...                ...        ...            ...   \n",
      "173    13.71        5.65  2.45               20.5       95.0           1.68   \n",
      "174    13.40        3.91  2.48               23.0      102.0           1.80   \n",
      "175    13.27        4.28  2.26               20.0      120.0           1.59   \n",
      "176    13.17        2.59  2.37               20.0      120.0           1.65   \n",
      "177    14.13        4.10  2.74               24.5       96.0           2.05   \n",
      "\n",
      "     flavanoids  nonflavanoid_phenols  proanthocyanins  color_intensity   hue  \\\n",
      "0          3.06                  0.28             2.29             5.64  1.04   \n",
      "1          2.76                  0.26             1.28             4.38  1.05   \n",
      "2          3.24                  0.30             2.81             5.68  1.03   \n",
      "3          3.49                  0.24             2.18             7.80  0.86   \n",
      "4          2.69                  0.39             1.82             4.32  1.04   \n",
      "..          ...                   ...              ...              ...   ...   \n",
      "173        0.61                  0.52             1.06             7.70  0.64   \n",
      "174        0.75                  0.43             1.41             7.30  0.70   \n",
      "175        0.69                  0.43             1.35            10.20  0.59   \n",
      "176        0.68                  0.53             1.46             9.30  0.60   \n",
      "177        0.76                  0.56             1.35             9.20  0.61   \n",
      "\n",
      "     od280/od315_of_diluted_wines  proline  \n",
      "0                            3.92   1065.0  \n",
      "1                            3.40   1050.0  \n",
      "2                            3.17   1185.0  \n",
      "3                            3.45   1480.0  \n",
      "4                            2.93    735.0  \n",
      "..                            ...      ...  \n",
      "173                          1.74    740.0  \n",
      "174                          1.56    750.0  \n",
      "175                          1.56    835.0  \n",
      "176                          1.62    840.0  \n",
      "177                          1.60    560.0  \n",
      "\n",
      "[178 rows x 13 columns] 0      14.23\n",
      "1      13.20\n",
      "2      13.16\n",
      "3      14.37\n",
      "4      13.24\n",
      "       ...  \n",
      "173    13.71\n",
      "174    13.40\n",
      "175    13.27\n",
      "176    13.17\n",
      "177    14.13\n",
      "Name: alcohol, Length: 178, dtype: float64 od280/od315_of_diluted_wines\n",
      "     alcohol  malic_acid   ash  alcalinity_of_ash  magnesium  total_phenols  \\\n",
      "0      14.23        1.71  2.43               15.6      127.0           2.80   \n",
      "1      13.20        1.78  2.14               11.2      100.0           2.65   \n",
      "2      13.16        2.36  2.67               18.6      101.0           2.80   \n",
      "3      14.37        1.95  2.50               16.8      113.0           3.85   \n",
      "4      13.24        2.59  2.87               21.0      118.0           2.80   \n",
      "..       ...         ...   ...                ...        ...            ...   \n",
      "173    13.71        5.65  2.45               20.5       95.0           1.68   \n",
      "174    13.40        3.91  2.48               23.0      102.0           1.80   \n",
      "175    13.27        4.28  2.26               20.0      120.0           1.59   \n",
      "176    13.17        2.59  2.37               20.0      120.0           1.65   \n",
      "177    14.13        4.10  2.74               24.5       96.0           2.05   \n",
      "\n",
      "     flavanoids  nonflavanoid_phenols  proanthocyanins  color_intensity   hue  \\\n",
      "0          3.06                  0.28             2.29             5.64  1.04   \n",
      "1          2.76                  0.26             1.28             4.38  1.05   \n",
      "2          3.24                  0.30             2.81             5.68  1.03   \n",
      "3          3.49                  0.24             2.18             7.80  0.86   \n",
      "4          2.69                  0.39             1.82             4.32  1.04   \n",
      "..          ...                   ...              ...              ...   ...   \n",
      "173        0.61                  0.52             1.06             7.70  0.64   \n",
      "174        0.75                  0.43             1.41             7.30  0.70   \n",
      "175        0.69                  0.43             1.35            10.20  0.59   \n",
      "176        0.68                  0.53             1.46             9.30  0.60   \n",
      "177        0.76                  0.56             1.35             9.20  0.61   \n",
      "\n",
      "     od280/od315_of_diluted_wines  proline  \n",
      "0                            3.92   1065.0  \n",
      "1                            3.40   1050.0  \n",
      "2                            3.17   1185.0  \n",
      "3                            3.45   1480.0  \n",
      "4                            2.93    735.0  \n",
      "..                            ...      ...  \n",
      "173                          1.74    740.0  \n",
      "174                          1.56    750.0  \n",
      "175                          1.56    835.0  \n",
      "176                          1.62    840.0  \n",
      "177                          1.60    560.0  \n",
      "\n",
      "[178 rows x 13 columns] 0      14.23\n",
      "1      13.20\n",
      "2      13.16\n",
      "3      14.37\n",
      "4      13.24\n",
      "       ...  \n",
      "173    13.71\n",
      "174    13.40\n",
      "175    13.27\n",
      "176    13.17\n",
      "177    14.13\n",
      "Name: alcohol, Length: 178, dtype: float64 proline\n"
     ]
    },
    {
     "data": {
      "text/plain": "       alcohol  malic_acid      ash  alcalinity_of_ash  magnesium  \\\ncount  178.000     178.000  178.000            178.000    178.000   \nmean    -0.000       9.546   38.762             -1.945     -6.073   \nstd      1.000       0.727    2.959              0.243      0.057   \nmin     -2.427       7.782   31.579             -2.535     -6.211   \n25%     -0.786       8.975   36.436             -2.136     -6.118   \n50%      0.061       9.590   38.942             -1.930     -6.070   \n75%      0.834      10.152   41.229             -1.742     -6.026   \nmax      2.253      11.184   45.430             -1.397     -5.945   \n\n       total_phenols  flavanoids  nonflavanoid_phenols  proanthocyanins  \\\ncount        178.000     178.000               178.000          178.000   \nmean          17.106      10.984               101.554           19.935   \nstd            1.297       0.813                 6.523            1.418   \nmin           13.957       9.011                85.720           16.492   \n25%           16.086      10.345                96.427           18.820   \n50%           17.184      11.033               101.951           20.021   \n75%           18.187      11.662               106.993           21.117   \nmax           20.029      12.815               116.254           23.131   \n\n       color_intensity      hue  od280/od315_of_diluted_wines  proline  \ncount          178.000  178.000                       178.000  178.000  \nmean             3.426   52.689                        14.632   -2.331  \nstd              0.350    3.552                         1.143    0.003  \nmin              2.576   44.067                        11.857   -2.337  \n25%              3.151   49.897                        13.734   -2.333  \n50%              3.447   52.905                        14.702   -2.330  \n75%              3.718   55.650                        15.586   -2.328  \nmax              4.215   60.692                        17.209   -2.325  ",
      "text/html": "<div>\n<style scoped>\n    .dataframe tbody tr th:only-of-type {\n        vertical-align: middle;\n    }\n\n    .dataframe tbody tr th {\n        vertical-align: top;\n    }\n\n    .dataframe thead th {\n        text-align: right;\n    }\n</style>\n<table border=\"1\" class=\"dataframe\">\n  <thead>\n    <tr style=\"text-align: right;\">\n      <th></th>\n      <th>alcohol</th>\n      <th>malic_acid</th>\n      <th>ash</th>\n      <th>alcalinity_of_ash</th>\n      <th>magnesium</th>\n      <th>total_phenols</th>\n      <th>flavanoids</th>\n      <th>nonflavanoid_phenols</th>\n      <th>proanthocyanins</th>\n      <th>color_intensity</th>\n      <th>hue</th>\n      <th>od280/od315_of_diluted_wines</th>\n      <th>proline</th>\n    </tr>\n  </thead>\n  <tbody>\n    <tr>\n      <th>count</th>\n      <td>178.000</td>\n      <td>178.000</td>\n      <td>178.000</td>\n      <td>178.000</td>\n      <td>178.000</td>\n      <td>178.000</td>\n      <td>178.000</td>\n      <td>178.000</td>\n      <td>178.000</td>\n      <td>178.000</td>\n      <td>178.000</td>\n      <td>178.000</td>\n      <td>178.000</td>\n    </tr>\n    <tr>\n      <th>mean</th>\n      <td>-0.000</td>\n      <td>9.546</td>\n      <td>38.762</td>\n      <td>-1.945</td>\n      <td>-6.073</td>\n      <td>17.106</td>\n      <td>10.984</td>\n      <td>101.554</td>\n      <td>19.935</td>\n      <td>3.426</td>\n      <td>52.689</td>\n      <td>14.632</td>\n      <td>-2.331</td>\n    </tr>\n    <tr>\n      <th>std</th>\n      <td>1.000</td>\n      <td>0.727</td>\n      <td>2.959</td>\n      <td>0.243</td>\n      <td>0.057</td>\n      <td>1.297</td>\n      <td>0.813</td>\n      <td>6.523</td>\n      <td>1.418</td>\n      <td>0.350</td>\n      <td>3.552</td>\n      <td>1.143</td>\n      <td>0.003</td>\n    </tr>\n    <tr>\n      <th>min</th>\n      <td>-2.427</td>\n      <td>7.782</td>\n      <td>31.579</td>\n      <td>-2.535</td>\n      <td>-6.211</td>\n      <td>13.957</td>\n      <td>9.011</td>\n      <td>85.720</td>\n      <td>16.492</td>\n      <td>2.576</td>\n      <td>44.067</td>\n      <td>11.857</td>\n      <td>-2.337</td>\n    </tr>\n    <tr>\n      <th>25%</th>\n      <td>-0.786</td>\n      <td>8.975</td>\n      <td>36.436</td>\n      <td>-2.136</td>\n      <td>-6.118</td>\n      <td>16.086</td>\n      <td>10.345</td>\n      <td>96.427</td>\n      <td>18.820</td>\n      <td>3.151</td>\n      <td>49.897</td>\n      <td>13.734</td>\n      <td>-2.333</td>\n    </tr>\n    <tr>\n      <th>50%</th>\n      <td>0.061</td>\n      <td>9.590</td>\n      <td>38.942</td>\n      <td>-1.930</td>\n      <td>-6.070</td>\n      <td>17.184</td>\n      <td>11.033</td>\n      <td>101.951</td>\n      <td>20.021</td>\n      <td>3.447</td>\n      <td>52.905</td>\n      <td>14.702</td>\n      <td>-2.330</td>\n    </tr>\n    <tr>\n      <th>75%</th>\n      <td>0.834</td>\n      <td>10.152</td>\n      <td>41.229</td>\n      <td>-1.742</td>\n      <td>-6.026</td>\n      <td>18.187</td>\n      <td>11.662</td>\n      <td>106.993</td>\n      <td>21.117</td>\n      <td>3.718</td>\n      <td>55.650</td>\n      <td>15.586</td>\n      <td>-2.328</td>\n    </tr>\n    <tr>\n      <th>max</th>\n      <td>2.253</td>\n      <td>11.184</td>\n      <td>45.430</td>\n      <td>-1.397</td>\n      <td>-5.945</td>\n      <td>20.029</td>\n      <td>12.815</td>\n      <td>116.254</td>\n      <td>23.131</td>\n      <td>4.215</td>\n      <td>60.692</td>\n      <td>17.209</td>\n      <td>-2.325</td>\n    </tr>\n  </tbody>\n</table>\n</div>"
     },
     "execution_count": 58,
     "metadata": {},
     "output_type": "execute_result"
    }
   ]
  },
  {
   "cell_type": "markdown",
   "metadata": {
    "id": "rltyCp0s_Jct"
   },
   "source": [
    "## L-1 and L-2 normalization\n",
    "\n",
    "The L-k normalizations use a norm given by \n",
    "\n",
    "$$||v||_k = \\left( \\sum_{i=1}^{n}|v_i|^k\\right)^{\\frac{1}{k}} $$\n",
    "\n",
    "New values, after the normalization are given by:\n",
    "\n",
    "$$x' = \\frac{x}{||x||_{k}}$$\n",
    "\n",
    "In practice only the L-1 and L-2 normalization schemes are used. Notice that regardless of the k, this normalization always preserves the proportions of the original data. \n",
    "\n",
    "## Homework/exercise\n",
    "\n",
    "Look up the docs for the [Normalizer](http://scikit-learn.org/stable/modules/generated/sklearn.preprocessing.Normalizer.html#sklearn.preprocessing.Normalizer) class which performs the normalization of individual instances of the training set. Normalize the *Iris* dataset and observe, what happens when you modify the values of the `norm` argument of class constructor.\n",
    "\n",
    "*hint* : use the [DataFrame.sum()](https://pandas.pydata.org/pandas-docs/stable/generated/pandas.DataFrame.sum.html) method."
   ]
  },
  {
   "cell_type": "code",
   "source": [
    "from sklearn.preprocessing import Normalizer\n",
    "\n",
    "norm = Normalizer(norm='l2').fit(iris_dataframe.iloc[:, :-1])\n",
    "X_normalized = pd.DataFrame(norm.transform(iris_dataframe.iloc[:, :-1]), columns=iris.feature_names)\n",
    "(X_normalized*X_normalized).sum(axis=1)"
   ],
   "metadata": {
    "id": "MsU5akx0j9o1",
    "ExecuteTime": {
     "end_time": "2024-03-20T18:24:07.212922Z",
     "start_time": "2024-03-20T18:24:07.196765Z"
    }
   },
   "execution_count": 72,
   "outputs": [
    {
     "data": {
      "text/plain": "0      1.0\n1      1.0\n2      1.0\n3      1.0\n4      1.0\n      ... \n145    1.0\n146    1.0\n147    1.0\n148    1.0\n149    1.0\nLength: 150, dtype: float64"
     },
     "execution_count": 72,
     "metadata": {},
     "output_type": "execute_result"
    }
   ]
  },
  {
   "cell_type": "markdown",
   "metadata": {
    "id": "FJmxiNoG_Jch"
   },
   "source": [
    "## Discretization "
   ]
  },
  {
   "cell_type": "markdown",
   "metadata": {
    "id": "r1o4-eWA_Jch"
   },
   "source": [
    "Sometimes we want to convert a continous variable into a discrete one. An alternative to manual binning of numerical attributes (since `scikit-learn` does not provide explicit classes to complete this task) is to use automatic range detection using the  [KBinsDiscretizer](https://scikit-learn.org/stable/modules/generated/sklearn.preprocessing.KBinsDiscretizer.html#sklearn.preprocessing.KBinsDiscretizer) class. This class divides the attribute into *k* ranges in such way that the distances between geometrical means of bins are maximized."
   ]
  },
  {
   "cell_type": "code",
   "execution_count": 38,
   "metadata": {
    "colab": {
     "base_uri": "https://localhost:8080/",
     "height": 265
    },
    "id": "lRxBctD-_Jch",
    "outputId": "9db46eb0-115f-4d3f-c025-5b2e579bc8b8",
    "ExecuteTime": {
     "end_time": "2024-03-20T18:03:19.386292Z",
     "start_time": "2024-03-20T18:03:13.220902Z"
    }
   },
   "outputs": [
    {
     "name": "stderr",
     "output_type": "stream",
     "text": [
      "/Users/luncenok/Studia/sem4/DM/.venv/lib/python3.11/site-packages/sklearn/preprocessing/_discretization.py:248: FutureWarning: In version 1.5 onwards, subsample=200_000 will be used by default. Set subsample explicitly to silence this warning in the mean time. Set subsample=None to disable subsampling explicitly.\n",
      "  warnings.warn(\n"
     ]
    },
    {
     "data": {
      "text/plain": "<Figure size 640x480 with 1 Axes>",
      "image/png": "[encoded data removed]"
     },
     "metadata": {},
     "output_type": "display_data"
    }
   ],
   "source": [
    "kbin = preprocessing.KBinsDiscretizer(n_bins=3, strategy='kmeans', encode='ordinal').fit(wine_dataframe[['alcohol']])\n",
    "\n",
    "df_kbinned = pd.DataFrame(kbin.transform(wine_dataframe[['alcohol']]))\n",
    "\n",
    "x = wine_dataframe['alcohol'][:]\n",
    "y = df_kbinned[:]\n",
    "t = wine_dataframe['target']\n",
    "\n",
    "plt.scatter(x, y, c=t)\n",
    "plt.show()"
   ]
  },
  {
   "cell_type": "markdown",
   "source": [
    " ## Homework/exercise\n",
    "\n",
    " Use the discretization process described above for the target value of the diabetes dataset. Create a new dataframe for the dataset, which uses the newly created target."
   ],
   "metadata": {
    "id": "5FvEDa57kAyc"
   }
  },
  {
   "cell_type": "code",
   "source": [],
   "metadata": {
    "id": "rLI7s3HEliLC",
    "ExecuteTime": {
     "end_time": "2024-03-20T18:03:19.392313Z",
     "start_time": "2024-03-20T18:03:19.389246Z"
    }
   },
   "execution_count": 38,
   "outputs": []
  },
  {
   "cell_type": "markdown",
   "metadata": {
    "id": "v0vRhyDa_Jci"
   },
   "source": [
    "## Binarization"
   ]
  },
  {
   "cell_type": "markdown",
   "metadata": {
    "id": "Mk2rPFrX_Jci"
   },
   "source": [
    "Sometimes a feature must be tranformed into a binary flag which denotes the result of a logical test conducted on the values of the feature. This can be easily done using the [Binarizer](http://scikit-learn.org/stable/modules/generated/sklearn.preprocessing.Binarizer.html) class."
   ]
  },
  {
   "cell_type": "code",
   "execution_count": 39,
   "metadata": {
    "colab": {
     "base_uri": "https://localhost:8080/",
     "height": 1000
    },
    "id": "wbu4Idzc_Jci",
    "outputId": "b4f95ea9-0449-46ec-ea8e-8834e7575f7d",
    "ExecuteTime": {
     "end_time": "2024-03-20T18:03:19.418319Z",
     "start_time": "2024-03-20T18:03:19.394743Z"
    }
   },
   "outputs": [
    {
     "data": {
      "text/plain": "    alcohol  alcohol\n0     14.23      1.0\n1     13.20      0.0\n2     13.16      0.0\n3     14.37      1.0\n4     13.24      0.0\n5     14.20      1.0\n6     14.39      1.0\n7     14.06      1.0\n8     14.83      1.0\n9     13.86      1.0\n10    14.10      1.0\n11    14.12      1.0\n12    13.75      1.0\n13    14.75      1.0\n14    14.38      1.0\n15    13.63      1.0\n16    14.30      1.0\n17    13.83      1.0\n18    14.19      1.0\n19    13.64      1.0\n20    14.06      1.0\n21    12.93      0.0\n22    13.71      1.0\n23    12.85      0.0\n24    13.50      0.0\n25    13.05      0.0\n26    13.39      0.0\n27    13.30      0.0\n28    13.87      1.0\n29    14.02      1.0\n30    13.73      1.0\n31    13.58      1.0\n32    13.68      1.0\n33    13.76      1.0\n34    13.51      1.0\n35    13.48      0.0\n36    13.28      0.0\n37    13.05      0.0\n38    13.07      0.0\n39    14.22      1.0\n40    13.56      1.0\n41    13.41      0.0\n42    13.88      1.0\n43    13.24      0.0\n44    13.05      0.0\n45    14.21      1.0\n46    14.38      1.0\n47    13.90      1.0\n48    14.10      1.0\n49    13.94      1.0",
      "text/html": "<div>\n<style scoped>\n    .dataframe tbody tr th:only-of-type {\n        vertical-align: middle;\n    }\n\n    .dataframe tbody tr th {\n        vertical-align: top;\n    }\n\n    .dataframe thead th {\n        text-align: right;\n    }\n</style>\n<table border=\"1\" class=\"dataframe\">\n  <thead>\n    <tr style=\"text-align: right;\">\n      <th></th>\n      <th>alcohol</th>\n      <th>alcohol</th>\n    </tr>\n  </thead>\n  <tbody>\n    <tr>\n      <th>0</th>\n      <td>14.23</td>\n      <td>1.0</td>\n    </tr>\n    <tr>\n      <th>1</th>\n      <td>13.20</td>\n      <td>0.0</td>\n    </tr>\n    <tr>\n      <th>2</th>\n      <td>13.16</td>\n      <td>0.0</td>\n    </tr>\n    <tr>\n      <th>3</th>\n      <td>14.37</td>\n      <td>1.0</td>\n    </tr>\n    <tr>\n      <th>4</th>\n      <td>13.24</td>\n      <td>0.0</td>\n    </tr>\n    <tr>\n      <th>5</th>\n      <td>14.20</td>\n      <td>1.0</td>\n    </tr>\n    <tr>\n      <th>6</th>\n      <td>14.39</td>\n      <td>1.0</td>\n    </tr>\n    <tr>\n      <th>7</th>\n      <td>14.06</td>\n      <td>1.0</td>\n    </tr>\n    <tr>\n      <th>8</th>\n      <td>14.83</td>\n      <td>1.0</td>\n    </tr>\n    <tr>\n      <th>9</th>\n      <td>13.86</td>\n      <td>1.0</td>\n    </tr>\n    <tr>\n      <th>10</th>\n      <td>14.10</td>\n      <td>1.0</td>\n    </tr>\n    <tr>\n      <th>11</th>\n      <td>14.12</td>\n      <td>1.0</td>\n    </tr>\n    <tr>\n      <th>12</th>\n      <td>13.75</td>\n      <td>1.0</td>\n    </tr>\n    <tr>\n      <th>13</th>\n      <td>14.75</td>\n      <td>1.0</td>\n    </tr>\n    <tr>\n      <th>14</th>\n      <td>14.38</td>\n      <td>1.0</td>\n    </tr>\n    <tr>\n      <th>15</th>\n      <td>13.63</td>\n      <td>1.0</td>\n    </tr>\n    <tr>\n      <th>16</th>\n      <td>14.30</td>\n      <td>1.0</td>\n    </tr>\n    <tr>\n      <th>17</th>\n      <td>13.83</td>\n      <td>1.0</td>\n    </tr>\n    <tr>\n      <th>18</th>\n      <td>14.19</td>\n      <td>1.0</td>\n    </tr>\n    <tr>\n      <th>19</th>\n      <td>13.64</td>\n      <td>1.0</td>\n    </tr>\n    <tr>\n      <th>20</th>\n      <td>14.06</td>\n      <td>1.0</td>\n    </tr>\n    <tr>\n      <th>21</th>\n      <td>12.93</td>\n      <td>0.0</td>\n    </tr>\n    <tr>\n      <th>22</th>\n      <td>13.71</td>\n      <td>1.0</td>\n    </tr>\n    <tr>\n      <th>23</th>\n      <td>12.85</td>\n      <td>0.0</td>\n    </tr>\n    <tr>\n      <th>24</th>\n      <td>13.50</td>\n      <td>0.0</td>\n    </tr>\n    <tr>\n      <th>25</th>\n      <td>13.05</td>\n      <td>0.0</td>\n    </tr>\n    <tr>\n      <th>26</th>\n      <td>13.39</td>\n      <td>0.0</td>\n    </tr>\n    <tr>\n      <th>27</th>\n      <td>13.30</td>\n      <td>0.0</td>\n    </tr>\n    <tr>\n      <th>28</th>\n      <td>13.87</td>\n      <td>1.0</td>\n    </tr>\n    <tr>\n      <th>29</th>\n      <td>14.02</td>\n      <td>1.0</td>\n    </tr>\n    <tr>\n      <th>30</th>\n      <td>13.73</td>\n      <td>1.0</td>\n    </tr>\n    <tr>\n      <th>31</th>\n      <td>13.58</td>\n      <td>1.0</td>\n    </tr>\n    <tr>\n      <th>32</th>\n      <td>13.68</td>\n      <td>1.0</td>\n    </tr>\n    <tr>\n      <th>33</th>\n      <td>13.76</td>\n      <td>1.0</td>\n    </tr>\n    <tr>\n      <th>34</th>\n      <td>13.51</td>\n      <td>1.0</td>\n    </tr>\n    <tr>\n      <th>35</th>\n      <td>13.48</td>\n      <td>0.0</td>\n    </tr>\n    <tr>\n      <th>36</th>\n      <td>13.28</td>\n      <td>0.0</td>\n    </tr>\n    <tr>\n      <th>37</th>\n      <td>13.05</td>\n      <td>0.0</td>\n    </tr>\n    <tr>\n      <th>38</th>\n      <td>13.07</td>\n      <td>0.0</td>\n    </tr>\n    <tr>\n      <th>39</th>\n      <td>14.22</td>\n      <td>1.0</td>\n    </tr>\n    <tr>\n      <th>40</th>\n      <td>13.56</td>\n      <td>1.0</td>\n    </tr>\n    <tr>\n      <th>41</th>\n      <td>13.41</td>\n      <td>0.0</td>\n    </tr>\n    <tr>\n      <th>42</th>\n      <td>13.88</td>\n      <td>1.0</td>\n    </tr>\n    <tr>\n      <th>43</th>\n      <td>13.24</td>\n      <td>0.0</td>\n    </tr>\n    <tr>\n      <th>44</th>\n      <td>13.05</td>\n      <td>0.0</td>\n    </tr>\n    <tr>\n      <th>45</th>\n      <td>14.21</td>\n      <td>1.0</td>\n    </tr>\n    <tr>\n      <th>46</th>\n      <td>14.38</td>\n      <td>1.0</td>\n    </tr>\n    <tr>\n      <th>47</th>\n      <td>13.90</td>\n      <td>1.0</td>\n    </tr>\n    <tr>\n      <th>48</th>\n      <td>14.10</td>\n      <td>1.0</td>\n    </tr>\n    <tr>\n      <th>49</th>\n      <td>13.94</td>\n      <td>1.0</td>\n    </tr>\n  </tbody>\n</table>\n</div>"
     },
     "execution_count": 39,
     "metadata": {},
     "output_type": "execute_result"
    }
   ],
   "source": [
    "binarize = preprocessing.Binarizer(threshold=13.5).fit(X)\n",
    "\n",
    "X_binned = pd.DataFrame(binarize.transform(X), columns=cols)\n",
    "\n",
    "pd.concat([wine_dataframe.alcohol, X_binned.alcohol], axis=1).head(50)"
   ]
  },
  {
   "cell_type": "markdown",
   "source": [
    "## Homework / Excercise\n",
    "\n",
    "Binarize values of pixels in the digits dataset. Use the min-max scaling prior to the binarization process. Use the describe method to figure out the treshold."
   ],
   "metadata": {
    "id": "2-qXUKdamojd"
   }
  },
  {
   "cell_type": "code",
   "source": [
    "data = digits.data\n",
    "plt.figure(figsize=(32, 32))\n",
    "no_images = 36\n",
    "data = np.reshape(data, (-1, 8, 8))\n",
    "_, ax = plt.subplots(int(np.sqrt(no_images)), int(np.sqrt(no_images)))\n",
    "for i in range(no_images):\n",
    "    ax[int(i / int(np.sqrt(no_images))), i % int(np.sqrt(no_images))].imshow(data[i], cmap='gray')\n",
    "plt.show()"
   ],
   "metadata": {
    "colab": {
     "base_uri": "https://localhost:8080/",
     "height": 284
    },
    "id": "0lPK2oXhn5Ta",
    "outputId": "36412e36-dcc6-4350-a7a8-b1365cd1d962",
    "ExecuteTime": {
     "end_time": "2024-03-20T18:03:22.425993Z",
     "start_time": "2024-03-20T18:03:19.421396Z"
    }
   },
   "execution_count": 40,
   "outputs": [
    {
     "data": {
      "text/plain": "<Figure size 3200x3200 with 0 Axes>"
     },
     "metadata": {},
     "output_type": "display_data"
    },
    {
     "data": {
      "text/plain": "<Figure size 640x480 with 36 Axes>",
      "image/png": "[encoded data removed]"
     },
     "metadata": {},
     "output_type": "display_data"
    }
   ]
  },
  {
   "cell_type": "code",
   "source": [
    "#\n",
    "X_binned = None"
   ],
   "metadata": {
    "id": "W_OyScwpnEIO",
    "ExecuteTime": {
     "end_time": "2024-03-20T18:03:22.429960Z",
     "start_time": "2024-03-20T18:03:22.427160Z"
    }
   },
   "execution_count": 41,
   "outputs": []
  },
  {
   "cell_type": "code",
   "source": [
    "data = X_binned.to_numpy()\n",
    "plt.figure(figsize=(32, 32))\n",
    "no_images = 36\n",
    "data = np.reshape(data, (-1, 8, 8))\n",
    "_, ax = plt.subplots(int(np.sqrt(no_images)), int(np.sqrt(no_images)))\n",
    "for i in range(no_images):\n",
    "    ax[int(i / int(np.sqrt(no_images))), i % int(np.sqrt(no_images))].imshow(data[i], cmap='gray')\n",
    "plt.show()"
   ],
   "metadata": {
    "colab": {
     "base_uri": "https://localhost:8080/",
     "height": 284
    },
    "id": "y6vPr3tZqdCP",
    "outputId": "007b66f1-61dd-44e7-ecf8-0e5598a92597",
    "ExecuteTime": {
     "end_time": "2024-03-20T18:03:22.515044Z",
     "start_time": "2024-03-20T18:03:22.431480Z"
    }
   },
   "execution_count": 42,
   "outputs": [
    {
     "ename": "AttributeError",
     "evalue": "'NoneType' object has no attribute 'to_numpy'",
     "output_type": "error",
     "traceback": [
      "\u001B[0;31m---------------------------------------------------------------------------\u001B[0m",
      "\u001B[0;31mAttributeError\u001B[0m                            Traceback (most recent call last)",
      "Cell \u001B[0;32mIn[42], line 1\u001B[0m\n\u001B[0;32m----> 1\u001B[0m data \u001B[38;5;241m=\u001B[39m \u001B[43mX_binned\u001B[49m\u001B[38;5;241;43m.\u001B[39;49m\u001B[43mto_numpy\u001B[49m()\n\u001B[1;32m      2\u001B[0m plt\u001B[38;5;241m.\u001B[39mfigure(figsize\u001B[38;5;241m=\u001B[39m(\u001B[38;5;241m32\u001B[39m,\u001B[38;5;241m32\u001B[39m))\n\u001B[1;32m      3\u001B[0m no_images \u001B[38;5;241m=\u001B[39m \u001B[38;5;241m36\u001B[39m\n",
      "\u001B[0;31mAttributeError\u001B[0m: 'NoneType' object has no attribute 'to_numpy'"
     ]
    }
   ]
  },
  {
   "cell_type": "markdown",
   "metadata": {
    "id": "OpEMKBQs_Jco"
   },
   "source": [
    "## Displaying histograms"
   ]
  },
  {
   "cell_type": "markdown",
   "metadata": {
    "id": "Qfw4kB3q_Jcp"
   },
   "source": [
    "Simple counting of values in a feature can be done using:\n",
    "\n",
    "- `pandas.Series.value_counts()`\n",
    "- `collections.Counter`\n",
    "\n",
    "and to plot the histogram the easiest way is to use `pandas.Series.hist()`"
   ]
  },
  {
   "cell_type": "code",
   "execution_count": null,
   "metadata": {
    "colab": {
     "base_uri": "https://localhost:8080/"
    },
    "id": "NjbcYNur_Jcq",
    "outputId": "85113dd9-6cbb-40f8-b455-a9176cbe7bc3"
   },
   "outputs": [],
   "source": [
    "X_binned['alcohol'].value_counts()"
   ]
  },
  {
   "cell_type": "code",
   "execution_count": null,
   "metadata": {
    "colab": {
     "base_uri": "https://localhost:8080/"
    },
    "id": "YBtwLLQh_Jcq",
    "outputId": "7a260556-5821-4225-a7a1-30126d98da8e"
   },
   "outputs": [],
   "source": [
    "from collections import Counter\n",
    "\n",
    "Counter(X_binned['alcohol'].values)"
   ]
  },
  {
   "cell_type": "code",
   "execution_count": null,
   "metadata": {
    "colab": {
     "base_uri": "https://localhost:8080/",
     "height": 283
    },
    "id": "Kdg-iHkR_Jcq",
    "outputId": "f39440c2-5bdc-456f-e2e7-069d04360c24"
   },
   "outputs": [],
   "source": [
    "X_binned['alcohol'].hist()"
   ]
  },
  {
   "cell_type": "markdown",
   "metadata": {
    "id": "sl1qwaO8_Jcr"
   },
   "source": [
    "## Imputation of missing values"
   ]
  },
  {
   "cell_type": "markdown",
   "metadata": {
    "id": "rDvOod9a_Jcr"
   },
   "source": [
    "Missing values can significantly distort the results of the analysis. Many learning algorithms do not accept input data which contains missing data. [SimpleImputer](https://scikit-learn.org/stable/modules/generated/sklearn.impute.SimpleImputer.html) allows to change missing values to a mean, a median, or a mode, based on the non-missing values of the attribute."
   ]
  },
  {
   "cell_type": "code",
   "execution_count": null,
   "metadata": {
    "scrolled": true,
    "colab": {
     "base_uri": "https://localhost:8080/"
    },
    "id": "F0hZK-g__Jcr",
    "outputId": "6ffb36ca-7158-490c-870a-2163bd819a0d"
   },
   "outputs": [],
   "source": [
    "from sklearn.impute import SimpleImputer\n",
    "\n",
    "matrix = np.array([[1, 2, np.nan], [np.nan, 4, 5], [6, np.nan, 7]])\n",
    "\n",
    "# alternative strategies are 'mean', 'median' and 'most_frequent'\n",
    "imp = SimpleImputer(missing_values=np.nan, strategy='mean').fit(matrix)\n",
    "\n",
    "print(matrix)\n",
    "print()\n",
    "print(imp.transform(matrix))"
   ]
  },
  {
   "cell_type": "markdown",
   "metadata": {
    "id": "5Apmkj96_Jcs"
   },
   "source": [
    "## Label encoding"
   ]
  },
  {
   "cell_type": "markdown",
   "metadata": {
    "id": "vJF3p1D__Jcs"
   },
   "source": [
    "Do you remember that, when it comes to categorical variables $1+1\\neq 2$? Sometimes we need to convert the class numbers into entities, on which we can perform algebraic operations. Usually, we use vectors, and the vector for each class is orthogonal to a vector for another class: $v_{c1} \\times v_{c2} = 0$. The simpliest implementation of that idea is the one-hot encoding. E.g. given there are 3 classes, class 1 is going to be converted to [1 0 0], class 2 is going to be converted into [0 1 0] and class 3 is converted into [0 0 1]. A very useful python tool to perform the task is the [OneHotEncoder](http://scikit-learn.org/stable/modules/generated/sklearn.preprocessing.OneHotEncoder.html#sklearn.preprocessing.OneHotEncoder) which transforms categorical attributes into a set of binary features using the one-hot encoding. The transformation creates *k* new features, where *k* is the number of distinct values of the transformed attribute."
   ]
  },
  {
   "cell_type": "code",
   "execution_count": null,
   "metadata": {
    "colab": {
     "base_uri": "https://localhost:8080/"
    },
    "id": "zYNHp7t7_Jcs",
    "outputId": "75f60e12-c3b0-4eef-dc78-742355ca35f9"
   },
   "outputs": [],
   "source": [
    "df_target = wine_dataframe['target'].values\n",
    "\n",
    "print(df_target)"
   ]
  },
  {
   "cell_type": "code",
   "execution_count": null,
   "metadata": {
    "colab": {
     "base_uri": "https://localhost:8080/"
    },
    "id": "VueS9rzc_Jcs",
    "outputId": "c7446068-fec1-4f16-a546-1baa1d78ce4e"
   },
   "outputs": [],
   "source": [
    "one_hot = preprocessing.OneHotEncoder(categories='auto').fit(df_target.reshape(-1, 1))\n",
    "\n",
    "one_hots = one_hot.transform(df_target.reshape(-1, 1)).todense()\n",
    "one_hots[55:65]"
   ]
  },
  {
   "cell_type": "code",
   "execution_count": null,
   "metadata": {
    "colab": {
     "base_uri": "https://localhost:8080/"
    },
    "id": "nV7BbnLi_Jct",
    "outputId": "070e3481-4991-4cae-a620-f270a9619a52"
   },
   "outputs": [],
   "source": [
    "one_hot.inverse_transform(np.asarray(one_hots))[55:65]"
   ]
  },
  {
   "cell_type": "markdown",
   "source": [
    " ## Homework/Excercise\n",
    "\n",
    " Use the one-hot encoder to convert the target variable of the Iris dataset to the one-hot vectors."
   ],
   "metadata": {
    "id": "KtHpOJ41o4rh"
   }
  }
 ],
 "metadata": {
  "kernelspec": {
   "display_name": "Python 3",
   "language": "python",
   "name": "python3"
  },
  "language_info": {
   "codemirror_mode": {
    "name": "ipython",
    "version": 3
   },
   "file_extension": ".py",
   "mimetype": "text/x-python",
   "name": "python",
   "nbconvert_exporter": "python",
   "pygments_lexer": "ipython3",
   "version": "3.8.5"
  },
  "toc": {
   "base_numbering": 1,
   "nav_menu": {},
   "number_sections": false,
   "sideBar": true,
   "skip_h1_title": false,
   "title_cell": "Table of Contents",
   "title_sidebar": "Contents",
   "toc_cell": false,
   "toc_position": {},
   "toc_section_display": true,
   "toc_window_display": true
  },
  "varInspector": {
   "cols": {
    "lenName": 16,
    "lenType": 16,
    "lenVar": 40
   },
   "kernels_config": {
    "python": {
     "delete_cmd_postfix": "",
     "delete_cmd_prefix": "del ",
     "library": "var_list.py",
     "varRefreshCmd": "print(var_dic_list())"
    },
    "r": {
     "delete_cmd_postfix": ") ",
     "delete_cmd_prefix": "rm(",
     "library": "var_list.r",
     "varRefreshCmd": "cat(var_dic_list()) "
    }
   },
   "types_to_exclude": [
    "module",
    "function",
    "builtin_function_or_method",
    "instance",
    "_Feature"
   ],
   "window_display": false
  },
  "colab": {
   "provenance": []
  }
 },
 "nbformat": 4,
 "nbformat_minor": 0
}
