{
  "cells": [
    {
      "cell_type": "markdown",
      "source": [
        " ## Feature Selection\n",
        "\n",
        " In real life applications, it's rare to have all of the features useful for building a data mining model. It's important to remove redundant or non-informative features from the dataset. First and foremost, the more the features are incorporated into the model, the more complicated the model becomes. If we're adding redundant or non-informative features to the equation, we increase the processing power demand, which very often is already pretty high. In some rare cases, the less useful features reduce the accuracy of the model (it depends on the used techniques, very often that's not the case). Nonetheless feature selection is one of the core processes, next to the data normalization and feature engineering, applied to the data prior to perfmorming the actual data mining techniques. This notebook covers the commonly used Feature Selection techniques, which are a part of the sklearn feature_selection module. Let's start by importing the modules to the nodebook."
      ],
      "metadata": {
        "id": "QYFJTV2_8-YB"
      }
    },
    {
      "cell_type": "code",
      "execution_count": 3,
      "metadata": {
        "ExecuteTime": {
          "end_time": "2021-03-30T18:18:05.055255Z",
          "start_time": "2021-03-30T18:18:03.923055Z"
        },
        "id": "jk98Qo9nxB9r"
      },
      "outputs": [],
      "source": [
        "from sklearn import datasets, preprocessing, feature_selection\n",
        "from itertools import compress\n",
        "\n",
        "import pandas as pd\n",
        "import numpy as np\n",
        "import matplotlib.pyplot as plt"
      ]
    },
    {
      "cell_type": "markdown",
      "metadata": {
        "id": "Y9ocIQM2xB9t"
      },
      "source": [
        "# Dataset"
      ]
    },
    {
      "cell_type": "markdown",
      "metadata": {
        "id": "LmZUx7yLxB9u"
      },
      "source": [
        "In this excercise we will use the [Wine](https://archive.ics.uci.edu/ml/datasets/wine) dataset available in the `scikit-learn` library. After loading the dataset display its description and familiarize yourself with the interpretation of features."
      ]
    },
    {
      "cell_type": "code",
      "execution_count": 4,
      "metadata": {
        "ExecuteTime": {
          "end_time": "2021-03-30T18:18:07.622410Z",
          "start_time": "2021-03-30T18:18:07.609541Z"
        },
        "colab": {
          "base_uri": "https://localhost:8080/"
        },
        "id": "JZSARB8qxB9u",
        "outputId": "cfbdcf86-f8fa-47dc-a1b0-f49831987c57"
      },
      "outputs": [
        {
          "output_type": "stream",
          "name": "stdout",
          "text": [
            ".. _wine_dataset:\n",
            "\n",
            "Wine recognition dataset\n",
            "------------------------\n",
            "\n",
            "**Data Set Characteristics:**\n",
            "\n",
            "    :Number of Instances: 178\n",
            "    :Number of Attributes: 13 numeric, predictive attributes and the class\n",
            "    :Attribute Information:\n",
            " \t\t- Alcohol\n",
            " \t\t- Malic acid\n",
            " \t\t- Ash\n",
            "\t\t- Alcalinity of ash  \n",
            " \t\t- Magnesium\n",
            "\t\t- Total phenols\n",
            " \t\t- Flavanoids\n",
            " \t\t- Nonflavanoid phenols\n",
            " \t\t- Proanthocyanins\n",
            "\t\t- Color intensity\n",
            " \t\t- Hue\n",
            " \t\t- OD280/OD315 of diluted wines\n",
            " \t\t- Proline\n",
            "\n",
            "    - class:\n",
            "            - class_0\n",
            "            - class_1\n",
            "            - class_2\n",
            "\t\t\n",
            "    :Summary Statistics:\n",
            "    \n",
            "    ============================= ==== ===== ======= =====\n",
            "                                   Min   Max   Mean     SD\n",
            "    ============================= ==== ===== ======= =====\n",
            "    Alcohol:                      11.0  14.8    13.0   0.8\n",
            "    Malic Acid:                   0.74  5.80    2.34  1.12\n",
            "    Ash:                          1.36  3.23    2.36  0.27\n",
            "    Alcalinity of Ash:            10.6  30.0    19.5   3.3\n",
            "    Magnesium:                    70.0 162.0    99.7  14.3\n",
            "    Total Phenols:                0.98  3.88    2.29  0.63\n",
            "    Flavanoids:                   0.34  5.08    2.03  1.00\n",
            "    Nonflavanoid Phenols:         0.13  0.66    0.36  0.12\n",
            "    Proanthocyanins:              0.41  3.58    1.59  0.57\n",
            "    Colour Intensity:              1.3  13.0     5.1   2.3\n",
            "    Hue:                          0.48  1.71    0.96  0.23\n",
            "    OD280/OD315 of diluted wines: 1.27  4.00    2.61  0.71\n",
            "    Proline:                       278  1680     746   315\n",
            "    ============================= ==== ===== ======= =====\n",
            "\n",
            "    :Missing Attribute Values: None\n",
            "    :Class Distribution: class_0 (59), class_1 (71), class_2 (48)\n",
            "    :Creator: R.A. Fisher\n",
            "    :Donor: Michael Marshall (MARSHALL%PLU@io.arc.nasa.gov)\n",
            "    :Date: July, 1988\n",
            "\n",
            "This is a copy of UCI ML Wine recognition datasets.\n",
            "https://archive.ics.uci.edu/ml/machine-learning-databases/wine/wine.data\n",
            "\n",
            "The data is the results of a chemical analysis of wines grown in the same\n",
            "region in Italy by three different cultivators. There are thirteen different\n",
            "measurements taken for different constituents found in the three types of\n",
            "wine.\n",
            "\n",
            "Original Owners: \n",
            "\n",
            "Forina, M. et al, PARVUS - \n",
            "An Extendible Package for Data Exploration, Classification and Correlation. \n",
            "Institute of Pharmaceutical and Food Analysis and Technologies,\n",
            "Via Brigata Salerno, 16147 Genoa, Italy.\n",
            "\n",
            "Citation:\n",
            "\n",
            "Lichman, M. (2013). UCI Machine Learning Repository\n",
            "[https://archive.ics.uci.edu/ml]. Irvine, CA: University of California,\n",
            "School of Information and Computer Science. \n",
            "\n",
            ".. topic:: References\n",
            "\n",
            "  (1) S. Aeberhard, D. Coomans and O. de Vel, \n",
            "  Comparison of Classifiers in High Dimensional Settings, \n",
            "  Tech. Rep. no. 92-02, (1992), Dept. of Computer Science and Dept. of  \n",
            "  Mathematics and Statistics, James Cook University of North Queensland. \n",
            "  (Also submitted to Technometrics). \n",
            "\n",
            "  The data was used with many others for comparing various \n",
            "  classifiers. The classes are separable, though only RDA \n",
            "  has achieved 100% correct classification. \n",
            "  (RDA : 100%, QDA 99.4%, LDA 98.9%, 1NN 96.1% (z-transformed data)) \n",
            "  (All results using the leave-one-out technique) \n",
            "\n",
            "  (2) S. Aeberhard, D. Coomans and O. de Vel, \n",
            "  \"THE CLASSIFICATION PERFORMANCE OF RDA\" \n",
            "  Tech. Rep. no. 92-01, (1992), Dept. of Computer Science and Dept. of \n",
            "  Mathematics and Statistics, James Cook University of North Queensland. \n",
            "  (Also submitted to Journal of Chemometrics).\n",
            "\n",
            "Data shape:  (178, 13)\n"
          ]
        }
      ],
      "source": [
        "wine = datasets.load_wine()\n",
        "\n",
        "print(wine.DESCR)\n",
        "\n",
        "print('Data shape: ', wine.data.shape)"
      ]
    },
    {
      "cell_type": "markdown",
      "source": [
        "Let's prepare a dataframe for the wine dataset."
      ],
      "metadata": {
        "id": "gM-MNnL0LVpD"
      }
    },
    {
      "cell_type": "code",
      "source": [
        "wine_dataframe = pd.DataFrame(wine.data,columns = wine.feature_names)\n",
        "wine_dataframe"
      ],
      "metadata": {
        "colab": {
          "base_uri": "https://localhost:8080/",
          "height": 424
        },
        "id": "s9SQjCEO8aKA",
        "outputId": "1fe1a959-d51a-4f28-b09f-f7e5079e63a4"
      },
      "execution_count": 5,
      "outputs": [
        {
          "output_type": "execute_result",
          "data": {
            "text/plain": [
              "     alcohol  malic_acid   ash  alcalinity_of_ash  magnesium  total_phenols  \\\n",
              "0      14.23        1.71  2.43               15.6      127.0           2.80   \n",
              "1      13.20        1.78  2.14               11.2      100.0           2.65   \n",
              "2      13.16        2.36  2.67               18.6      101.0           2.80   \n",
              "3      14.37        1.95  2.50               16.8      113.0           3.85   \n",
              "4      13.24        2.59  2.87               21.0      118.0           2.80   \n",
              "..       ...         ...   ...                ...        ...            ...   \n",
              "173    13.71        5.65  2.45               20.5       95.0           1.68   \n",
              "174    13.40        3.91  2.48               23.0      102.0           1.80   \n",
              "175    13.27        4.28  2.26               20.0      120.0           1.59   \n",
              "176    13.17        2.59  2.37               20.0      120.0           1.65   \n",
              "177    14.13        4.10  2.74               24.5       96.0           2.05   \n",
              "\n",
              "     flavanoids  nonflavanoid_phenols  proanthocyanins  color_intensity   hue  \\\n",
              "0          3.06                  0.28             2.29             5.64  1.04   \n",
              "1          2.76                  0.26             1.28             4.38  1.05   \n",
              "2          3.24                  0.30             2.81             5.68  1.03   \n",
              "3          3.49                  0.24             2.18             7.80  0.86   \n",
              "4          2.69                  0.39             1.82             4.32  1.04   \n",
              "..          ...                   ...              ...              ...   ...   \n",
              "173        0.61                  0.52             1.06             7.70  0.64   \n",
              "174        0.75                  0.43             1.41             7.30  0.70   \n",
              "175        0.69                  0.43             1.35            10.20  0.59   \n",
              "176        0.68                  0.53             1.46             9.30  0.60   \n",
              "177        0.76                  0.56             1.35             9.20  0.61   \n",
              "\n",
              "     od280/od315_of_diluted_wines  proline  \n",
              "0                            3.92   1065.0  \n",
              "1                            3.40   1050.0  \n",
              "2                            3.17   1185.0  \n",
              "3                            3.45   1480.0  \n",
              "4                            2.93    735.0  \n",
              "..                            ...      ...  \n",
              "173                          1.74    740.0  \n",
              "174                          1.56    750.0  \n",
              "175                          1.56    835.0  \n",
              "176                          1.62    840.0  \n",
              "177                          1.60    560.0  \n",
              "\n",
              "[178 rows x 13 columns]"
            ],
            "text/html": [
              "\n",
              "  <div id=\"df-a5a099b3-b89f-4dca-bc64-3c0ee53e924f\">\n",
              "    <div class=\"colab-df-container\">\n",
              "      <div>\n",
              "<style scoped>\n",
              "    .dataframe tbody tr th:only-of-type {\n",
              "        vertical-align: middle;\n",
              "    }\n",
              "\n",
              "    .dataframe tbody tr th {\n",
              "        vertical-align: top;\n",
              "    }\n",
              "\n",
              "    .dataframe thead th {\n",
              "        text-align: right;\n",
              "    }\n",
              "</style>\n",
              "<table border=\"1\" class=\"dataframe\">\n",
              "  <thead>\n",
              "    <tr style=\"text-align: right;\">\n",
              "      <th></th>\n",
              "      <th>alcohol</th>\n",
              "      <th>malic_acid</th>\n",
              "      <th>ash</th>\n",
              "      <th>alcalinity_of_ash</th>\n",
              "      <th>magnesium</th>\n",
              "      <th>total_phenols</th>\n",
              "      <th>flavanoids</th>\n",
              "      <th>nonflavanoid_phenols</th>\n",
              "      <th>proanthocyanins</th>\n",
              "      <th>color_intensity</th>\n",
              "      <th>hue</th>\n",
              "      <th>od280/od315_of_diluted_wines</th>\n",
              "      <th>proline</th>\n",
              "    </tr>\n",
              "  </thead>\n",
              "  <tbody>\n",
              "    <tr>\n",
              "      <th>0</th>\n",
              "      <td>14.23</td>\n",
              "      <td>1.71</td>\n",
              "      <td>2.43</td>\n",
              "      <td>15.6</td>\n",
              "      <td>127.0</td>\n",
              "      <td>2.80</td>\n",
              "      <td>3.06</td>\n",
              "      <td>0.28</td>\n",
              "      <td>2.29</td>\n",
              "      <td>5.64</td>\n",
              "      <td>1.04</td>\n",
              "      <td>3.92</td>\n",
              "      <td>1065.0</td>\n",
              "    </tr>\n",
              "    <tr>\n",
              "      <th>1</th>\n",
              "      <td>13.20</td>\n",
              "      <td>1.78</td>\n",
              "      <td>2.14</td>\n",
              "      <td>11.2</td>\n",
              "      <td>100.0</td>\n",
              "      <td>2.65</td>\n",
              "      <td>2.76</td>\n",
              "      <td>0.26</td>\n",
              "      <td>1.28</td>\n",
              "      <td>4.38</td>\n",
              "      <td>1.05</td>\n",
              "      <td>3.40</td>\n",
              "      <td>1050.0</td>\n",
              "    </tr>\n",
              "    <tr>\n",
              "      <th>2</th>\n",
              "      <td>13.16</td>\n",
              "      <td>2.36</td>\n",
              "      <td>2.67</td>\n",
              "      <td>18.6</td>\n",
              "      <td>101.0</td>\n",
              "      <td>2.80</td>\n",
              "      <td>3.24</td>\n",
              "      <td>0.30</td>\n",
              "      <td>2.81</td>\n",
              "      <td>5.68</td>\n",
              "      <td>1.03</td>\n",
              "      <td>3.17</td>\n",
              "      <td>1185.0</td>\n",
              "    </tr>\n",
              "    <tr>\n",
              "      <th>3</th>\n",
              "      <td>14.37</td>\n",
              "      <td>1.95</td>\n",
              "      <td>2.50</td>\n",
              "      <td>16.8</td>\n",
              "      <td>113.0</td>\n",
              "      <td>3.85</td>\n",
              "      <td>3.49</td>\n",
              "      <td>0.24</td>\n",
              "      <td>2.18</td>\n",
              "      <td>7.80</td>\n",
              "      <td>0.86</td>\n",
              "      <td>3.45</td>\n",
              "      <td>1480.0</td>\n",
              "    </tr>\n",
              "    <tr>\n",
              "      <th>4</th>\n",
              "      <td>13.24</td>\n",
              "      <td>2.59</td>\n",
              "      <td>2.87</td>\n",
              "      <td>21.0</td>\n",
              "      <td>118.0</td>\n",
              "      <td>2.80</td>\n",
              "      <td>2.69</td>\n",
              "      <td>0.39</td>\n",
              "      <td>1.82</td>\n",
              "      <td>4.32</td>\n",
              "      <td>1.04</td>\n",
              "      <td>2.93</td>\n",
              "      <td>735.0</td>\n",
              "    </tr>\n",
              "    <tr>\n",
              "      <th>...</th>\n",
              "      <td>...</td>\n",
              "      <td>...</td>\n",
              "      <td>...</td>\n",
              "      <td>...</td>\n",
              "      <td>...</td>\n",
              "      <td>...</td>\n",
              "      <td>...</td>\n",
              "      <td>...</td>\n",
              "      <td>...</td>\n",
              "      <td>...</td>\n",
              "      <td>...</td>\n",
              "      <td>...</td>\n",
              "      <td>...</td>\n",
              "    </tr>\n",
              "    <tr>\n",
              "      <th>173</th>\n",
              "      <td>13.71</td>\n",
              "      <td>5.65</td>\n",
              "      <td>2.45</td>\n",
              "      <td>20.5</td>\n",
              "      <td>95.0</td>\n",
              "      <td>1.68</td>\n",
              "      <td>0.61</td>\n",
              "      <td>0.52</td>\n",
              "      <td>1.06</td>\n",
              "      <td>7.70</td>\n",
              "      <td>0.64</td>\n",
              "      <td>1.74</td>\n",
              "      <td>740.0</td>\n",
              "    </tr>\n",
              "    <tr>\n",
              "      <th>174</th>\n",
              "      <td>13.40</td>\n",
              "      <td>3.91</td>\n",
              "      <td>2.48</td>\n",
              "      <td>23.0</td>\n",
              "      <td>102.0</td>\n",
              "      <td>1.80</td>\n",
              "      <td>0.75</td>\n",
              "      <td>0.43</td>\n",
              "      <td>1.41</td>\n",
              "      <td>7.30</td>\n",
              "      <td>0.70</td>\n",
              "      <td>1.56</td>\n",
              "      <td>750.0</td>\n",
              "    </tr>\n",
              "    <tr>\n",
              "      <th>175</th>\n",
              "      <td>13.27</td>\n",
              "      <td>4.28</td>\n",
              "      <td>2.26</td>\n",
              "      <td>20.0</td>\n",
              "      <td>120.0</td>\n",
              "      <td>1.59</td>\n",
              "      <td>0.69</td>\n",
              "      <td>0.43</td>\n",
              "      <td>1.35</td>\n",
              "      <td>10.20</td>\n",
              "      <td>0.59</td>\n",
              "      <td>1.56</td>\n",
              "      <td>835.0</td>\n",
              "    </tr>\n",
              "    <tr>\n",
              "      <th>176</th>\n",
              "      <td>13.17</td>\n",
              "      <td>2.59</td>\n",
              "      <td>2.37</td>\n",
              "      <td>20.0</td>\n",
              "      <td>120.0</td>\n",
              "      <td>1.65</td>\n",
              "      <td>0.68</td>\n",
              "      <td>0.53</td>\n",
              "      <td>1.46</td>\n",
              "      <td>9.30</td>\n",
              "      <td>0.60</td>\n",
              "      <td>1.62</td>\n",
              "      <td>840.0</td>\n",
              "    </tr>\n",
              "    <tr>\n",
              "      <th>177</th>\n",
              "      <td>14.13</td>\n",
              "      <td>4.10</td>\n",
              "      <td>2.74</td>\n",
              "      <td>24.5</td>\n",
              "      <td>96.0</td>\n",
              "      <td>2.05</td>\n",
              "      <td>0.76</td>\n",
              "      <td>0.56</td>\n",
              "      <td>1.35</td>\n",
              "      <td>9.20</td>\n",
              "      <td>0.61</td>\n",
              "      <td>1.60</td>\n",
              "      <td>560.0</td>\n",
              "    </tr>\n",
              "  </tbody>\n",
              "</table>\n",
              "<p>178 rows × 13 columns</p>\n",
              "</div>\n",
              "      <button class=\"colab-df-convert\" onclick=\"convertToInteractive('df-a5a099b3-b89f-4dca-bc64-3c0ee53e924f')\"\n",
              "              title=\"Convert this dataframe to an interactive table.\"\n",
              "              style=\"display:none;\">\n",
              "        \n",
              "  <svg xmlns=\"http://www.w3.org/2000/svg\" height=\"24px\"viewBox=\"0 0 24 24\"\n",
              "       width=\"24px\">\n",
              "    <path d=\"M0 0h24v24H0V0z\" fill=\"none\"/>\n",
              "    <path d=\"M18.56 5.44l.94 2.06.94-2.06 2.06-.94-2.06-.94-.94-2.06-.94 2.06-2.06.94zm-11 1L8.5 8.5l.94-2.06 2.06-.94-2.06-.94L8.5 2.5l-.94 2.06-2.06.94zm10 10l.94 2.06.94-2.06 2.06-.94-2.06-.94-.94-2.06-.94 2.06-2.06.94z\"/><path d=\"M17.41 7.96l-1.37-1.37c-.4-.4-.92-.59-1.43-.59-.52 0-1.04.2-1.43.59L10.3 9.45l-7.72 7.72c-.78.78-.78 2.05 0 2.83L4 21.41c.39.39.9.59 1.41.59.51 0 1.02-.2 1.41-.59l7.78-7.78 2.81-2.81c.8-.78.8-2.07 0-2.86zM5.41 20L4 18.59l7.72-7.72 1.47 1.35L5.41 20z\"/>\n",
              "  </svg>\n",
              "      </button>\n",
              "      \n",
              "  <style>\n",
              "    .colab-df-container {\n",
              "      display:flex;\n",
              "      flex-wrap:wrap;\n",
              "      gap: 12px;\n",
              "    }\n",
              "\n",
              "    .colab-df-convert {\n",
              "      background-color: #E8F0FE;\n",
              "      border: none;\n",
              "      border-radius: 50%;\n",
              "      cursor: pointer;\n",
              "      display: none;\n",
              "      fill: #1967D2;\n",
              "      height: 32px;\n",
              "      padding: 0 0 0 0;\n",
              "      width: 32px;\n",
              "    }\n",
              "\n",
              "    .colab-df-convert:hover {\n",
              "      background-color: #E2EBFA;\n",
              "      box-shadow: 0px 1px 2px rgba(60, 64, 67, 0.3), 0px 1px 3px 1px rgba(60, 64, 67, 0.15);\n",
              "      fill: #174EA6;\n",
              "    }\n",
              "\n",
              "    [theme=dark] .colab-df-convert {\n",
              "      background-color: #3B4455;\n",
              "      fill: #D2E3FC;\n",
              "    }\n",
              "\n",
              "    [theme=dark] .colab-df-convert:hover {\n",
              "      background-color: #434B5C;\n",
              "      box-shadow: 0px 1px 3px 1px rgba(0, 0, 0, 0.15);\n",
              "      filter: drop-shadow(0px 1px 2px rgba(0, 0, 0, 0.3));\n",
              "      fill: #FFFFFF;\n",
              "    }\n",
              "  </style>\n",
              "\n",
              "      <script>\n",
              "        const buttonEl =\n",
              "          document.querySelector('#df-a5a099b3-b89f-4dca-bc64-3c0ee53e924f button.colab-df-convert');\n",
              "        buttonEl.style.display =\n",
              "          google.colab.kernel.accessAllowed ? 'block' : 'none';\n",
              "\n",
              "        async function convertToInteractive(key) {\n",
              "          const element = document.querySelector('#df-a5a099b3-b89f-4dca-bc64-3c0ee53e924f');\n",
              "          const dataTable =\n",
              "            await google.colab.kernel.invokeFunction('convertToInteractive',\n",
              "                                                     [key], {});\n",
              "          if (!dataTable) return;\n",
              "\n",
              "          const docLinkHtml = 'Like what you see? Visit the ' +\n",
              "            '<a target=\"_blank\" href=https://colab.research.google.com/notebooks/data_table.ipynb>data table notebook</a>'\n",
              "            + ' to learn more about interactive tables.';\n",
              "          element.innerHTML = '';\n",
              "          dataTable['output_type'] = 'display_data';\n",
              "          await google.colab.output.renderOutput(dataTable, element);\n",
              "          const docLink = document.createElement('div');\n",
              "          docLink.innerHTML = docLinkHtml;\n",
              "          element.appendChild(docLink);\n",
              "        }\n",
              "      </script>\n",
              "    </div>\n",
              "  </div>\n",
              "  "
            ]
          },
          "metadata": {},
          "execution_count": 5
        }
      ]
    },
    {
      "cell_type": "markdown",
      "metadata": {
        "id": "cEWrNttlxB9v"
      },
      "source": [
        "## Removing attributes with low variance"
      ]
    },
    {
      "cell_type": "markdown",
      "metadata": {
        "id": "1v35A4p7xB9v"
      },
      "source": [
        "Obviously, the features which share very similar values across the entire dataset are not going to be useful. We can remove those variables with a tool, which is called [VarianceThreshold](http://scikit-learn.org/stable/modules/generated/sklearn.feature_selection.VarianceThreshold.html#sklearn.feature_selection.VarianceThreshold). Prior to applying this tool let's check the variance of each feature."
      ]
    },
    {
      "cell_type": "code",
      "execution_count": 6,
      "metadata": {
        "ExecuteTime": {
          "end_time": "2021-03-30T18:19:09.606369Z",
          "start_time": "2021-03-30T18:19:09.601919Z"
        },
        "colab": {
          "base_uri": "https://localhost:8080/"
        },
        "id": "emlpOpvuxB9v",
        "outputId": "f2921ce2-b05b-4513-b306-06dfcd915dd3"
      },
      "outputs": [
        {
          "output_type": "execute_result",
          "data": {
            "text/plain": [
              "alcohol                             0.659062\n",
              "malic_acid                          1.248015\n",
              "ash                                 0.075265\n",
              "alcalinity_of_ash                  11.152686\n",
              "magnesium                         203.989335\n",
              "total_phenols                       0.391690\n",
              "flavanoids                          0.997719\n",
              "nonflavanoid_phenols                0.015489\n",
              "proanthocyanins                     0.327595\n",
              "color_intensity                     5.374449\n",
              "hue                                 0.052245\n",
              "od280/od315_of_diluted_wines        0.504086\n",
              "proline                         99166.717355\n",
              "dtype: float64"
            ]
          },
          "metadata": {},
          "execution_count": 6
        }
      ],
      "source": [
        "wine_dataframe.std()**2"
      ]
    },
    {
      "cell_type": "markdown",
      "source": [
        "We can now observe the importance of normalization. Obviously, the values of the `magnesium` feature are a few orders of magnitude higher than the values of the `hue` feature. The default, most common setting of the variance threshold method gets rid of the features, which have a variance of 0 (all of the values are the same across the entire dataset). If however we wanted to apply this method with a custom threshold we need to perform some kind of normalization scheme. Let's start with standarization."
      ],
      "metadata": {
        "id": "PaDlQ7dxO7Lr"
      }
    },
    {
      "cell_type": "code",
      "source": [
        "#we import standarizer\n",
        "from sklearn.preprocessing import StandardScaler\n",
        "#initialize it\n",
        "scaler = StandardScaler()\n",
        "#calculate all the necessary data to perform the standarization\n",
        "scaler.fit(wine_dataframe)\n",
        "#apply the standarizer to the data\n",
        "wine_dataframe_standarized = pd.DataFrame(scaler.transform(wine_dataframe),columns = wine.feature_names)\n",
        "wine_dataframe_standarized.std()**2"
      ],
      "metadata": {
        "colab": {
          "base_uri": "https://localhost:8080/"
        },
        "id": "UKjcCMDbP7C6",
        "outputId": "05d7cfaa-f07c-468f-ea6b-8402de3b781a"
      },
      "execution_count": 7,
      "outputs": [
        {
          "output_type": "execute_result",
          "data": {
            "text/plain": [
              "alcohol                         1.00565\n",
              "malic_acid                      1.00565\n",
              "ash                             1.00565\n",
              "alcalinity_of_ash               1.00565\n",
              "magnesium                       1.00565\n",
              "total_phenols                   1.00565\n",
              "flavanoids                      1.00565\n",
              "nonflavanoid_phenols            1.00565\n",
              "proanthocyanins                 1.00565\n",
              "color_intensity                 1.00565\n",
              "hue                             1.00565\n",
              "od280/od315_of_diluted_wines    1.00565\n",
              "proline                         1.00565\n",
              "dtype: float64"
            ]
          },
          "metadata": {},
          "execution_count": 7
        }
      ]
    },
    {
      "cell_type": "markdown",
      "source": [
        "In that case the custom Variance Threshold wouldn't make much sense either. After all the standarization process has normalized the variance for each of the features. Let's take a look at min-max normalzation."
      ],
      "metadata": {
        "id": "YsaKkBFHQuzT"
      }
    },
    {
      "cell_type": "code",
      "source": [
        "#we import normalizer\n",
        "from sklearn.preprocessing import MinMaxScaler\n",
        "#initialize it\n",
        "scaler = MinMaxScaler()\n",
        "#calculate all the necessary data to perform the normalization\n",
        "scaler.fit(wine_dataframe)\n",
        "#apply the standarizer to the data\n",
        "wine_dataframe_normalized = pd.DataFrame(scaler.transform(wine_dataframe),columns = wine.feature_names)\n",
        "wine_dataframe_normalized.std()**2"
      ],
      "metadata": {
        "colab": {
          "base_uri": "https://localhost:8080/"
        },
        "id": "rA09C4J2QuLJ",
        "outputId": "6ca3b8b3-ec5e-445f-c8b9-8d3b6ea5468a"
      },
      "execution_count": 8,
      "outputs": [
        {
          "output_type": "execute_result",
          "data": {
            "text/plain": [
              "alcohol                         0.045641\n",
              "malic_acid                      0.048744\n",
              "ash                             0.021523\n",
              "alcalinity_of_ash               0.029633\n",
              "magnesium                       0.024101\n",
              "total_phenols                   0.046574\n",
              "flavanoids                      0.044407\n",
              "nonflavanoid_phenols            0.055139\n",
              "proanthocyanins                 0.032600\n",
              "color_intensity                 0.039127\n",
              "hue                             0.034533\n",
              "od280/od315_of_diluted_wines    0.067636\n",
              "proline                         0.050451\n",
              "dtype: float64"
            ]
          },
          "metadata": {},
          "execution_count": 8
        }
      ]
    },
    {
      "cell_type": "markdown",
      "source": [
        "As you can see all of the variables have relatively low variance, but by no means niether of them have a close to zero variance. We can compare the variables by their variance, but a raw threshold should be used only for near zero or zero variance features. Here's how we can apply the tool to the data. In this example the threshold is set to 0.03, just to show how the method works. In fact, here we shouldn't remove any of the features, as the variance is way too high."
      ],
      "metadata": {
        "id": "-2adznaMSfj7"
      }
    },
    {
      "cell_type": "code",
      "execution_count": 9,
      "metadata": {
        "ExecuteTime": {
          "end_time": "2021-03-30T18:19:36.587183Z",
          "start_time": "2021-03-30T18:19:36.552334Z"
        },
        "colab": {
          "base_uri": "https://localhost:8080/",
          "height": 424
        },
        "id": "A5zSW5JuxB9w",
        "outputId": "450f56b4-e288-4637-871e-8c3e9063b43a"
      },
      "outputs": [
        {
          "output_type": "execute_result",
          "data": {
            "text/plain": [
              "      alcohol  malic_acid  total_phenols  flavanoids  nonflavanoid_phenols  \\\n",
              "0    0.842105    0.191700       0.627586    0.573840              0.283019   \n",
              "1    0.571053    0.205534       0.575862    0.510549              0.245283   \n",
              "2    0.560526    0.320158       0.627586    0.611814              0.320755   \n",
              "3    0.878947    0.239130       0.989655    0.664557              0.207547   \n",
              "4    0.581579    0.365613       0.627586    0.495781              0.490566   \n",
              "..        ...         ...            ...         ...                   ...   \n",
              "173  0.705263    0.970356       0.241379    0.056962              0.735849   \n",
              "174  0.623684    0.626482       0.282759    0.086498              0.566038   \n",
              "175  0.589474    0.699605       0.210345    0.073840              0.566038   \n",
              "176  0.563158    0.365613       0.231034    0.071730              0.754717   \n",
              "177  0.815789    0.664032       0.368966    0.088608              0.811321   \n",
              "\n",
              "     proanthocyanins  color_intensity       hue  od280/od315_of_diluted_wines  \\\n",
              "0           0.593060         0.372014  0.455285                      0.970696   \n",
              "1           0.274448         0.264505  0.463415                      0.780220   \n",
              "2           0.757098         0.375427  0.447154                      0.695971   \n",
              "3           0.558360         0.556314  0.308943                      0.798535   \n",
              "4           0.444795         0.259386  0.455285                      0.608059   \n",
              "..               ...              ...       ...                           ...   \n",
              "173         0.205047         0.547782  0.130081                      0.172161   \n",
              "174         0.315457         0.513652  0.178862                      0.106227   \n",
              "175         0.296530         0.761092  0.089431                      0.106227   \n",
              "176         0.331230         0.684300  0.097561                      0.128205   \n",
              "177         0.296530         0.675768  0.105691                      0.120879   \n",
              "\n",
              "      proline  \n",
              "0    0.561341  \n",
              "1    0.550642  \n",
              "2    0.646933  \n",
              "3    0.857347  \n",
              "4    0.325963  \n",
              "..        ...  \n",
              "173  0.329529  \n",
              "174  0.336662  \n",
              "175  0.397290  \n",
              "176  0.400856  \n",
              "177  0.201141  \n",
              "\n",
              "[178 rows x 10 columns]"
            ],
            "text/html": [
              "\n",
              "  <div id=\"df-3f0ba039-a409-4138-a8c2-d7eb6597953f\">\n",
              "    <div class=\"colab-df-container\">\n",
              "      <div>\n",
              "<style scoped>\n",
              "    .dataframe tbody tr th:only-of-type {\n",
              "        vertical-align: middle;\n",
              "    }\n",
              "\n",
              "    .dataframe tbody tr th {\n",
              "        vertical-align: top;\n",
              "    }\n",
              "\n",
              "    .dataframe thead th {\n",
              "        text-align: right;\n",
              "    }\n",
              "</style>\n",
              "<table border=\"1\" class=\"dataframe\">\n",
              "  <thead>\n",
              "    <tr style=\"text-align: right;\">\n",
              "      <th></th>\n",
              "      <th>alcohol</th>\n",
              "      <th>malic_acid</th>\n",
              "      <th>total_phenols</th>\n",
              "      <th>flavanoids</th>\n",
              "      <th>nonflavanoid_phenols</th>\n",
              "      <th>proanthocyanins</th>\n",
              "      <th>color_intensity</th>\n",
              "      <th>hue</th>\n",
              "      <th>od280/od315_of_diluted_wines</th>\n",
              "      <th>proline</th>\n",
              "    </tr>\n",
              "  </thead>\n",
              "  <tbody>\n",
              "    <tr>\n",
              "      <th>0</th>\n",
              "      <td>0.842105</td>\n",
              "      <td>0.191700</td>\n",
              "      <td>0.627586</td>\n",
              "      <td>0.573840</td>\n",
              "      <td>0.283019</td>\n",
              "      <td>0.593060</td>\n",
              "      <td>0.372014</td>\n",
              "      <td>0.455285</td>\n",
              "      <td>0.970696</td>\n",
              "      <td>0.561341</td>\n",
              "    </tr>\n",
              "    <tr>\n",
              "      <th>1</th>\n",
              "      <td>0.571053</td>\n",
              "      <td>0.205534</td>\n",
              "      <td>0.575862</td>\n",
              "      <td>0.510549</td>\n",
              "      <td>0.245283</td>\n",
              "      <td>0.274448</td>\n",
              "      <td>0.264505</td>\n",
              "      <td>0.463415</td>\n",
              "      <td>0.780220</td>\n",
              "      <td>0.550642</td>\n",
              "    </tr>\n",
              "    <tr>\n",
              "      <th>2</th>\n",
              "      <td>0.560526</td>\n",
              "      <td>0.320158</td>\n",
              "      <td>0.627586</td>\n",
              "      <td>0.611814</td>\n",
              "      <td>0.320755</td>\n",
              "      <td>0.757098</td>\n",
              "      <td>0.375427</td>\n",
              "      <td>0.447154</td>\n",
              "      <td>0.695971</td>\n",
              "      <td>0.646933</td>\n",
              "    </tr>\n",
              "    <tr>\n",
              "      <th>3</th>\n",
              "      <td>0.878947</td>\n",
              "      <td>0.239130</td>\n",
              "      <td>0.989655</td>\n",
              "      <td>0.664557</td>\n",
              "      <td>0.207547</td>\n",
              "      <td>0.558360</td>\n",
              "      <td>0.556314</td>\n",
              "      <td>0.308943</td>\n",
              "      <td>0.798535</td>\n",
              "      <td>0.857347</td>\n",
              "    </tr>\n",
              "    <tr>\n",
              "      <th>4</th>\n",
              "      <td>0.581579</td>\n",
              "      <td>0.365613</td>\n",
              "      <td>0.627586</td>\n",
              "      <td>0.495781</td>\n",
              "      <td>0.490566</td>\n",
              "      <td>0.444795</td>\n",
              "      <td>0.259386</td>\n",
              "      <td>0.455285</td>\n",
              "      <td>0.608059</td>\n",
              "      <td>0.325963</td>\n",
              "    </tr>\n",
              "    <tr>\n",
              "      <th>...</th>\n",
              "      <td>...</td>\n",
              "      <td>...</td>\n",
              "      <td>...</td>\n",
              "      <td>...</td>\n",
              "      <td>...</td>\n",
              "      <td>...</td>\n",
              "      <td>...</td>\n",
              "      <td>...</td>\n",
              "      <td>...</td>\n",
              "      <td>...</td>\n",
              "    </tr>\n",
              "    <tr>\n",
              "      <th>173</th>\n",
              "      <td>0.705263</td>\n",
              "      <td>0.970356</td>\n",
              "      <td>0.241379</td>\n",
              "      <td>0.056962</td>\n",
              "      <td>0.735849</td>\n",
              "      <td>0.205047</td>\n",
              "      <td>0.547782</td>\n",
              "      <td>0.130081</td>\n",
              "      <td>0.172161</td>\n",
              "      <td>0.329529</td>\n",
              "    </tr>\n",
              "    <tr>\n",
              "      <th>174</th>\n",
              "      <td>0.623684</td>\n",
              "      <td>0.626482</td>\n",
              "      <td>0.282759</td>\n",
              "      <td>0.086498</td>\n",
              "      <td>0.566038</td>\n",
              "      <td>0.315457</td>\n",
              "      <td>0.513652</td>\n",
              "      <td>0.178862</td>\n",
              "      <td>0.106227</td>\n",
              "      <td>0.336662</td>\n",
              "    </tr>\n",
              "    <tr>\n",
              "      <th>175</th>\n",
              "      <td>0.589474</td>\n",
              "      <td>0.699605</td>\n",
              "      <td>0.210345</td>\n",
              "      <td>0.073840</td>\n",
              "      <td>0.566038</td>\n",
              "      <td>0.296530</td>\n",
              "      <td>0.761092</td>\n",
              "      <td>0.089431</td>\n",
              "      <td>0.106227</td>\n",
              "      <td>0.397290</td>\n",
              "    </tr>\n",
              "    <tr>\n",
              "      <th>176</th>\n",
              "      <td>0.563158</td>\n",
              "      <td>0.365613</td>\n",
              "      <td>0.231034</td>\n",
              "      <td>0.071730</td>\n",
              "      <td>0.754717</td>\n",
              "      <td>0.331230</td>\n",
              "      <td>0.684300</td>\n",
              "      <td>0.097561</td>\n",
              "      <td>0.128205</td>\n",
              "      <td>0.400856</td>\n",
              "    </tr>\n",
              "    <tr>\n",
              "      <th>177</th>\n",
              "      <td>0.815789</td>\n",
              "      <td>0.664032</td>\n",
              "      <td>0.368966</td>\n",
              "      <td>0.088608</td>\n",
              "      <td>0.811321</td>\n",
              "      <td>0.296530</td>\n",
              "      <td>0.675768</td>\n",
              "      <td>0.105691</td>\n",
              "      <td>0.120879</td>\n",
              "      <td>0.201141</td>\n",
              "    </tr>\n",
              "  </tbody>\n",
              "</table>\n",
              "<p>178 rows × 10 columns</p>\n",
              "</div>\n",
              "      <button class=\"colab-df-convert\" onclick=\"convertToInteractive('df-3f0ba039-a409-4138-a8c2-d7eb6597953f')\"\n",
              "              title=\"Convert this dataframe to an interactive table.\"\n",
              "              style=\"display:none;\">\n",
              "        \n",
              "  <svg xmlns=\"http://www.w3.org/2000/svg\" height=\"24px\"viewBox=\"0 0 24 24\"\n",
              "       width=\"24px\">\n",
              "    <path d=\"M0 0h24v24H0V0z\" fill=\"none\"/>\n",
              "    <path d=\"M18.56 5.44l.94 2.06.94-2.06 2.06-.94-2.06-.94-.94-2.06-.94 2.06-2.06.94zm-11 1L8.5 8.5l.94-2.06 2.06-.94-2.06-.94L8.5 2.5l-.94 2.06-2.06.94zm10 10l.94 2.06.94-2.06 2.06-.94-2.06-.94-.94-2.06-.94 2.06-2.06.94z\"/><path d=\"M17.41 7.96l-1.37-1.37c-.4-.4-.92-.59-1.43-.59-.52 0-1.04.2-1.43.59L10.3 9.45l-7.72 7.72c-.78.78-.78 2.05 0 2.83L4 21.41c.39.39.9.59 1.41.59.51 0 1.02-.2 1.41-.59l7.78-7.78 2.81-2.81c.8-.78.8-2.07 0-2.86zM5.41 20L4 18.59l7.72-7.72 1.47 1.35L5.41 20z\"/>\n",
              "  </svg>\n",
              "      </button>\n",
              "      \n",
              "  <style>\n",
              "    .colab-df-container {\n",
              "      display:flex;\n",
              "      flex-wrap:wrap;\n",
              "      gap: 12px;\n",
              "    }\n",
              "\n",
              "    .colab-df-convert {\n",
              "      background-color: #E8F0FE;\n",
              "      border: none;\n",
              "      border-radius: 50%;\n",
              "      cursor: pointer;\n",
              "      display: none;\n",
              "      fill: #1967D2;\n",
              "      height: 32px;\n",
              "      padding: 0 0 0 0;\n",
              "      width: 32px;\n",
              "    }\n",
              "\n",
              "    .colab-df-convert:hover {\n",
              "      background-color: #E2EBFA;\n",
              "      box-shadow: 0px 1px 2px rgba(60, 64, 67, 0.3), 0px 1px 3px 1px rgba(60, 64, 67, 0.15);\n",
              "      fill: #174EA6;\n",
              "    }\n",
              "\n",
              "    [theme=dark] .colab-df-convert {\n",
              "      background-color: #3B4455;\n",
              "      fill: #D2E3FC;\n",
              "    }\n",
              "\n",
              "    [theme=dark] .colab-df-convert:hover {\n",
              "      background-color: #434B5C;\n",
              "      box-shadow: 0px 1px 3px 1px rgba(0, 0, 0, 0.15);\n",
              "      filter: drop-shadow(0px 1px 2px rgba(0, 0, 0, 0.3));\n",
              "      fill: #FFFFFF;\n",
              "    }\n",
              "  </style>\n",
              "\n",
              "      <script>\n",
              "        const buttonEl =\n",
              "          document.querySelector('#df-3f0ba039-a409-4138-a8c2-d7eb6597953f button.colab-df-convert');\n",
              "        buttonEl.style.display =\n",
              "          google.colab.kernel.accessAllowed ? 'block' : 'none';\n",
              "\n",
              "        async function convertToInteractive(key) {\n",
              "          const element = document.querySelector('#df-3f0ba039-a409-4138-a8c2-d7eb6597953f');\n",
              "          const dataTable =\n",
              "            await google.colab.kernel.invokeFunction('convertToInteractive',\n",
              "                                                     [key], {});\n",
              "          if (!dataTable) return;\n",
              "\n",
              "          const docLinkHtml = 'Like what you see? Visit the ' +\n",
              "            '<a target=\"_blank\" href=https://colab.research.google.com/notebooks/data_table.ipynb>data table notebook</a>'\n",
              "            + ' to learn more about interactive tables.';\n",
              "          element.innerHTML = '';\n",
              "          dataTable['output_type'] = 'display_data';\n",
              "          await google.colab.output.renderOutput(dataTable, element);\n",
              "          const docLink = document.createElement('div');\n",
              "          docLink.innerHTML = docLinkHtml;\n",
              "          element.appendChild(docLink);\n",
              "        }\n",
              "      </script>\n",
              "    </div>\n",
              "  </div>\n",
              "  "
            ]
          },
          "metadata": {},
          "execution_count": 9
        }
      ],
      "source": [
        "from sklearn.feature_selection import VarianceThreshold\n",
        "#we create a variance threshold object\n",
        "sel = VarianceThreshold(threshold=0.03)\n",
        "#we apply the method to the data - this method does not create a new dataframe, just a numpy array\n",
        "wine_variance_removed = sel.fit_transform(wine_dataframe_normalized)\n",
        "#we can create a new dataframe using the get_feature_names_out() function to get the names of the selected columns\n",
        "wine_dataframe_variance_removed = pd.DataFrame(wine_variance_removed, columns = sel.get_feature_names_out())\n",
        "wine_dataframe_variance_removed"
      ]
    },
    {
      "cell_type": "markdown",
      "source": [
        "We can also see, which features should be removed with the get_support() function."
      ],
      "metadata": {
        "id": "HXhTfLZkUjEM"
      }
    },
    {
      "cell_type": "code",
      "source": [
        "sel.get_support()"
      ],
      "metadata": {
        "colab": {
          "base_uri": "https://localhost:8080/"
        },
        "id": "6p_AqNpcUiHP",
        "outputId": "54945625-09e9-46ff-aa1d-6970b75eec31"
      },
      "execution_count": 10,
      "outputs": [
        {
          "output_type": "execute_result",
          "data": {
            "text/plain": [
              "array([ True,  True, False, False, False,  True,  True,  True,  True,\n",
              "        True,  True,  True,  True])"
            ]
          },
          "metadata": {},
          "execution_count": 10
        }
      ]
    },
    {
      "cell_type": "markdown",
      "metadata": {
        "id": "pKoi9j7exB9w"
      },
      "source": [
        "## Select k best features\n",
        "\n",
        "You probably saw that we can rank the features using the variance. In fact it's a common practice to rank the features. If it is necesseary to reduce complexity of the model, we can pick the variables, which have the best scores. Before we go to the code, let's go trough the ranking functions. The ranking functions can be divided into two classes:\n",
        "  - unsupervised - the ranking score is calculated with use of the statistical information:\n",
        "       - Variance - it is used to remove features, which do not yield any information\n",
        "       - Correlation - it is used to remove features, which are redundant\n",
        "\n",
        "  - supervised - in this case, the ranking score is related to the usefulness of the feature in the context of discovering the target values (e.g. how useful would be that feature if we applied linear regression to discover the target value):\n",
        "\n",
        "     - Chi-squared score ([chi2](https://scikit-learn.org/stable/modules/generated/sklearn.feature_selection.chi2.html#sklearn.feature_selection.chi2))\n",
        "     - ANOVA score ([f_classif](https://scikit-learn.org/stable/modules/generated/sklearn.feature_selection.f_classif.html#sklearn.feature_selection.f_classif))\n",
        "     - Information Gain ([mutual_info_classif](https://scikit-learn.org/stable/modules/generated/sklearn.feature_selection.mutual_info_classif.html#sklearn.feature_selection.mutual_info_classif))\n",
        "     - Linear Regression f-value ([f_regression](https://scikit-learn.org/stable/modules/generated/sklearn.feature_selection.f_regression.html#sklearn.feature_selection.f_regression))\n",
        "\n",
        "We have already investiaged the Variance. Let's take a look at correlation. Calculating correlation is as simple as calling the [corr()](https://pandas.pydata.org/docs/reference/api/pandas.DataFrame.corr.html) function on the pandas dataframe. "
      ]
    },
    {
      "cell_type": "code",
      "source": [
        "wine_dataframe_normalized.corr()"
      ],
      "metadata": {
        "colab": {
          "base_uri": "https://localhost:8080/",
          "height": 521
        },
        "id": "faP3oMSLbmN_",
        "outputId": "5fab3d71-0cfd-4365-cfda-ebe04f0e1cd4"
      },
      "execution_count": 11,
      "outputs": [
        {
          "output_type": "execute_result",
          "data": {
            "text/plain": [
              "                               alcohol  malic_acid       ash  \\\n",
              "alcohol                       1.000000    0.094397  0.211545   \n",
              "malic_acid                    0.094397    1.000000  0.164045   \n",
              "ash                           0.211545    0.164045  1.000000   \n",
              "alcalinity_of_ash            -0.310235    0.288500  0.443367   \n",
              "magnesium                     0.270798   -0.054575  0.286587   \n",
              "total_phenols                 0.289101   -0.335167  0.128980   \n",
              "flavanoids                    0.236815   -0.411007  0.115077   \n",
              "nonflavanoid_phenols         -0.155929    0.292977  0.186230   \n",
              "proanthocyanins               0.136698   -0.220746  0.009652   \n",
              "color_intensity               0.546364    0.248985  0.258887   \n",
              "hue                          -0.071747   -0.561296 -0.074667   \n",
              "od280/od315_of_diluted_wines  0.072343   -0.368710  0.003911   \n",
              "proline                       0.643720   -0.192011  0.223626   \n",
              "\n",
              "                              alcalinity_of_ash  magnesium  total_phenols  \\\n",
              "alcohol                               -0.310235   0.270798       0.289101   \n",
              "malic_acid                             0.288500  -0.054575      -0.335167   \n",
              "ash                                    0.443367   0.286587       0.128980   \n",
              "alcalinity_of_ash                      1.000000  -0.083333      -0.321113   \n",
              "magnesium                             -0.083333   1.000000       0.214401   \n",
              "total_phenols                         -0.321113   0.214401       1.000000   \n",
              "flavanoids                            -0.351370   0.195784       0.864564   \n",
              "nonflavanoid_phenols                   0.361922  -0.256294      -0.449935   \n",
              "proanthocyanins                       -0.197327   0.236441       0.612413   \n",
              "color_intensity                        0.018732   0.199950      -0.055136   \n",
              "hue                                   -0.273955   0.055398       0.433681   \n",
              "od280/od315_of_diluted_wines          -0.276769   0.066004       0.699949   \n",
              "proline                               -0.440597   0.393351       0.498115   \n",
              "\n",
              "                              flavanoids  nonflavanoid_phenols  \\\n",
              "alcohol                         0.236815             -0.155929   \n",
              "malic_acid                     -0.411007              0.292977   \n",
              "ash                             0.115077              0.186230   \n",
              "alcalinity_of_ash              -0.351370              0.361922   \n",
              "magnesium                       0.195784             -0.256294   \n",
              "total_phenols                   0.864564             -0.449935   \n",
              "flavanoids                      1.000000             -0.537900   \n",
              "nonflavanoid_phenols           -0.537900              1.000000   \n",
              "proanthocyanins                 0.652692             -0.365845   \n",
              "color_intensity                -0.172379              0.139057   \n",
              "hue                             0.543479             -0.262640   \n",
              "od280/od315_of_diluted_wines    0.787194             -0.503270   \n",
              "proline                         0.494193             -0.311385   \n",
              "\n",
              "                              proanthocyanins  color_intensity       hue  \\\n",
              "alcohol                              0.136698         0.546364 -0.071747   \n",
              "malic_acid                          -0.220746         0.248985 -0.561296   \n",
              "ash                                  0.009652         0.258887 -0.074667   \n",
              "alcalinity_of_ash                   -0.197327         0.018732 -0.273955   \n",
              "magnesium                            0.236441         0.199950  0.055398   \n",
              "total_phenols                        0.612413        -0.055136  0.433681   \n",
              "flavanoids                           0.652692        -0.172379  0.543479   \n",
              "nonflavanoid_phenols                -0.365845         0.139057 -0.262640   \n",
              "proanthocyanins                      1.000000        -0.025250  0.295544   \n",
              "color_intensity                     -0.025250         1.000000 -0.521813   \n",
              "hue                                  0.295544        -0.521813  1.000000   \n",
              "od280/od315_of_diluted_wines         0.519067        -0.428815  0.565468   \n",
              "proline                              0.330417         0.316100  0.236183   \n",
              "\n",
              "                              od280/od315_of_diluted_wines   proline  \n",
              "alcohol                                           0.072343  0.643720  \n",
              "malic_acid                                       -0.368710 -0.192011  \n",
              "ash                                               0.003911  0.223626  \n",
              "alcalinity_of_ash                                -0.276769 -0.440597  \n",
              "magnesium                                         0.066004  0.393351  \n",
              "total_phenols                                     0.699949  0.498115  \n",
              "flavanoids                                        0.787194  0.494193  \n",
              "nonflavanoid_phenols                             -0.503270 -0.311385  \n",
              "proanthocyanins                                   0.519067  0.330417  \n",
              "color_intensity                                  -0.428815  0.316100  \n",
              "hue                                               0.565468  0.236183  \n",
              "od280/od315_of_diluted_wines                      1.000000  0.312761  \n",
              "proline                                           0.312761  1.000000  "
            ],
            "text/html": [
              "\n",
              "  <div id=\"df-0d6f2018-05a9-418f-8cfb-3d9879e43896\">\n",
              "    <div class=\"colab-df-container\">\n",
              "      <div>\n",
              "<style scoped>\n",
              "    .dataframe tbody tr th:only-of-type {\n",
              "        vertical-align: middle;\n",
              "    }\n",
              "\n",
              "    .dataframe tbody tr th {\n",
              "        vertical-align: top;\n",
              "    }\n",
              "\n",
              "    .dataframe thead th {\n",
              "        text-align: right;\n",
              "    }\n",
              "</style>\n",
              "<table border=\"1\" class=\"dataframe\">\n",
              "  <thead>\n",
              "    <tr style=\"text-align: right;\">\n",
              "      <th></th>\n",
              "      <th>alcohol</th>\n",
              "      <th>malic_acid</th>\n",
              "      <th>ash</th>\n",
              "      <th>alcalinity_of_ash</th>\n",
              "      <th>magnesium</th>\n",
              "      <th>total_phenols</th>\n",
              "      <th>flavanoids</th>\n",
              "      <th>nonflavanoid_phenols</th>\n",
              "      <th>proanthocyanins</th>\n",
              "      <th>color_intensity</th>\n",
              "      <th>hue</th>\n",
              "      <th>od280/od315_of_diluted_wines</th>\n",
              "      <th>proline</th>\n",
              "    </tr>\n",
              "  </thead>\n",
              "  <tbody>\n",
              "    <tr>\n",
              "      <th>alcohol</th>\n",
              "      <td>1.000000</td>\n",
              "      <td>0.094397</td>\n",
              "      <td>0.211545</td>\n",
              "      <td>-0.310235</td>\n",
              "      <td>0.270798</td>\n",
              "      <td>0.289101</td>\n",
              "      <td>0.236815</td>\n",
              "      <td>-0.155929</td>\n",
              "      <td>0.136698</td>\n",
              "      <td>0.546364</td>\n",
              "      <td>-0.071747</td>\n",
              "      <td>0.072343</td>\n",
              "      <td>0.643720</td>\n",
              "    </tr>\n",
              "    <tr>\n",
              "      <th>malic_acid</th>\n",
              "      <td>0.094397</td>\n",
              "      <td>1.000000</td>\n",
              "      <td>0.164045</td>\n",
              "      <td>0.288500</td>\n",
              "      <td>-0.054575</td>\n",
              "      <td>-0.335167</td>\n",
              "      <td>-0.411007</td>\n",
              "      <td>0.292977</td>\n",
              "      <td>-0.220746</td>\n",
              "      <td>0.248985</td>\n",
              "      <td>-0.561296</td>\n",
              "      <td>-0.368710</td>\n",
              "      <td>-0.192011</td>\n",
              "    </tr>\n",
              "    <tr>\n",
              "      <th>ash</th>\n",
              "      <td>0.211545</td>\n",
              "      <td>0.164045</td>\n",
              "      <td>1.000000</td>\n",
              "      <td>0.443367</td>\n",
              "      <td>0.286587</td>\n",
              "      <td>0.128980</td>\n",
              "      <td>0.115077</td>\n",
              "      <td>0.186230</td>\n",
              "      <td>0.009652</td>\n",
              "      <td>0.258887</td>\n",
              "      <td>-0.074667</td>\n",
              "      <td>0.003911</td>\n",
              "      <td>0.223626</td>\n",
              "    </tr>\n",
              "    <tr>\n",
              "      <th>alcalinity_of_ash</th>\n",
              "      <td>-0.310235</td>\n",
              "      <td>0.288500</td>\n",
              "      <td>0.443367</td>\n",
              "      <td>1.000000</td>\n",
              "      <td>-0.083333</td>\n",
              "      <td>-0.321113</td>\n",
              "      <td>-0.351370</td>\n",
              "      <td>0.361922</td>\n",
              "      <td>-0.197327</td>\n",
              "      <td>0.018732</td>\n",
              "      <td>-0.273955</td>\n",
              "      <td>-0.276769</td>\n",
              "      <td>-0.440597</td>\n",
              "    </tr>\n",
              "    <tr>\n",
              "      <th>magnesium</th>\n",
              "      <td>0.270798</td>\n",
              "      <td>-0.054575</td>\n",
              "      <td>0.286587</td>\n",
              "      <td>-0.083333</td>\n",
              "      <td>1.000000</td>\n",
              "      <td>0.214401</td>\n",
              "      <td>0.195784</td>\n",
              "      <td>-0.256294</td>\n",
              "      <td>0.236441</td>\n",
              "      <td>0.199950</td>\n",
              "      <td>0.055398</td>\n",
              "      <td>0.066004</td>\n",
              "      <td>0.393351</td>\n",
              "    </tr>\n",
              "    <tr>\n",
              "      <th>total_phenols</th>\n",
              "      <td>0.289101</td>\n",
              "      <td>-0.335167</td>\n",
              "      <td>0.128980</td>\n",
              "      <td>-0.321113</td>\n",
              "      <td>0.214401</td>\n",
              "      <td>1.000000</td>\n",
              "      <td>0.864564</td>\n",
              "      <td>-0.449935</td>\n",
              "      <td>0.612413</td>\n",
              "      <td>-0.055136</td>\n",
              "      <td>0.433681</td>\n",
              "      <td>0.699949</td>\n",
              "      <td>0.498115</td>\n",
              "    </tr>\n",
              "    <tr>\n",
              "      <th>flavanoids</th>\n",
              "      <td>0.236815</td>\n",
              "      <td>-0.411007</td>\n",
              "      <td>0.115077</td>\n",
              "      <td>-0.351370</td>\n",
              "      <td>0.195784</td>\n",
              "      <td>0.864564</td>\n",
              "      <td>1.000000</td>\n",
              "      <td>-0.537900</td>\n",
              "      <td>0.652692</td>\n",
              "      <td>-0.172379</td>\n",
              "      <td>0.543479</td>\n",
              "      <td>0.787194</td>\n",
              "      <td>0.494193</td>\n",
              "    </tr>\n",
              "    <tr>\n",
              "      <th>nonflavanoid_phenols</th>\n",
              "      <td>-0.155929</td>\n",
              "      <td>0.292977</td>\n",
              "      <td>0.186230</td>\n",
              "      <td>0.361922</td>\n",
              "      <td>-0.256294</td>\n",
              "      <td>-0.449935</td>\n",
              "      <td>-0.537900</td>\n",
              "      <td>1.000000</td>\n",
              "      <td>-0.365845</td>\n",
              "      <td>0.139057</td>\n",
              "      <td>-0.262640</td>\n",
              "      <td>-0.503270</td>\n",
              "      <td>-0.311385</td>\n",
              "    </tr>\n",
              "    <tr>\n",
              "      <th>proanthocyanins</th>\n",
              "      <td>0.136698</td>\n",
              "      <td>-0.220746</td>\n",
              "      <td>0.009652</td>\n",
              "      <td>-0.197327</td>\n",
              "      <td>0.236441</td>\n",
              "      <td>0.612413</td>\n",
              "      <td>0.652692</td>\n",
              "      <td>-0.365845</td>\n",
              "      <td>1.000000</td>\n",
              "      <td>-0.025250</td>\n",
              "      <td>0.295544</td>\n",
              "      <td>0.519067</td>\n",
              "      <td>0.330417</td>\n",
              "    </tr>\n",
              "    <tr>\n",
              "      <th>color_intensity</th>\n",
              "      <td>0.546364</td>\n",
              "      <td>0.248985</td>\n",
              "      <td>0.258887</td>\n",
              "      <td>0.018732</td>\n",
              "      <td>0.199950</td>\n",
              "      <td>-0.055136</td>\n",
              "      <td>-0.172379</td>\n",
              "      <td>0.139057</td>\n",
              "      <td>-0.025250</td>\n",
              "      <td>1.000000</td>\n",
              "      <td>-0.521813</td>\n",
              "      <td>-0.428815</td>\n",
              "      <td>0.316100</td>\n",
              "    </tr>\n",
              "    <tr>\n",
              "      <th>hue</th>\n",
              "      <td>-0.071747</td>\n",
              "      <td>-0.561296</td>\n",
              "      <td>-0.074667</td>\n",
              "      <td>-0.273955</td>\n",
              "      <td>0.055398</td>\n",
              "      <td>0.433681</td>\n",
              "      <td>0.543479</td>\n",
              "      <td>-0.262640</td>\n",
              "      <td>0.295544</td>\n",
              "      <td>-0.521813</td>\n",
              "      <td>1.000000</td>\n",
              "      <td>0.565468</td>\n",
              "      <td>0.236183</td>\n",
              "    </tr>\n",
              "    <tr>\n",
              "      <th>od280/od315_of_diluted_wines</th>\n",
              "      <td>0.072343</td>\n",
              "      <td>-0.368710</td>\n",
              "      <td>0.003911</td>\n",
              "      <td>-0.276769</td>\n",
              "      <td>0.066004</td>\n",
              "      <td>0.699949</td>\n",
              "      <td>0.787194</td>\n",
              "      <td>-0.503270</td>\n",
              "      <td>0.519067</td>\n",
              "      <td>-0.428815</td>\n",
              "      <td>0.565468</td>\n",
              "      <td>1.000000</td>\n",
              "      <td>0.312761</td>\n",
              "    </tr>\n",
              "    <tr>\n",
              "      <th>proline</th>\n",
              "      <td>0.643720</td>\n",
              "      <td>-0.192011</td>\n",
              "      <td>0.223626</td>\n",
              "      <td>-0.440597</td>\n",
              "      <td>0.393351</td>\n",
              "      <td>0.498115</td>\n",
              "      <td>0.494193</td>\n",
              "      <td>-0.311385</td>\n",
              "      <td>0.330417</td>\n",
              "      <td>0.316100</td>\n",
              "      <td>0.236183</td>\n",
              "      <td>0.312761</td>\n",
              "      <td>1.000000</td>\n",
              "    </tr>\n",
              "  </tbody>\n",
              "</table>\n",
              "</div>\n",
              "      <button class=\"colab-df-convert\" onclick=\"convertToInteractive('df-0d6f2018-05a9-418f-8cfb-3d9879e43896')\"\n",
              "              title=\"Convert this dataframe to an interactive table.\"\n",
              "              style=\"display:none;\">\n",
              "        \n",
              "  <svg xmlns=\"http://www.w3.org/2000/svg\" height=\"24px\"viewBox=\"0 0 24 24\"\n",
              "       width=\"24px\">\n",
              "    <path d=\"M0 0h24v24H0V0z\" fill=\"none\"/>\n",
              "    <path d=\"M18.56 5.44l.94 2.06.94-2.06 2.06-.94-2.06-.94-.94-2.06-.94 2.06-2.06.94zm-11 1L8.5 8.5l.94-2.06 2.06-.94-2.06-.94L8.5 2.5l-.94 2.06-2.06.94zm10 10l.94 2.06.94-2.06 2.06-.94-2.06-.94-.94-2.06-.94 2.06-2.06.94z\"/><path d=\"M17.41 7.96l-1.37-1.37c-.4-.4-.92-.59-1.43-.59-.52 0-1.04.2-1.43.59L10.3 9.45l-7.72 7.72c-.78.78-.78 2.05 0 2.83L4 21.41c.39.39.9.59 1.41.59.51 0 1.02-.2 1.41-.59l7.78-7.78 2.81-2.81c.8-.78.8-2.07 0-2.86zM5.41 20L4 18.59l7.72-7.72 1.47 1.35L5.41 20z\"/>\n",
              "  </svg>\n",
              "      </button>\n",
              "      \n",
              "  <style>\n",
              "    .colab-df-container {\n",
              "      display:flex;\n",
              "      flex-wrap:wrap;\n",
              "      gap: 12px;\n",
              "    }\n",
              "\n",
              "    .colab-df-convert {\n",
              "      background-color: #E8F0FE;\n",
              "      border: none;\n",
              "      border-radius: 50%;\n",
              "      cursor: pointer;\n",
              "      display: none;\n",
              "      fill: #1967D2;\n",
              "      height: 32px;\n",
              "      padding: 0 0 0 0;\n",
              "      width: 32px;\n",
              "    }\n",
              "\n",
              "    .colab-df-convert:hover {\n",
              "      background-color: #E2EBFA;\n",
              "      box-shadow: 0px 1px 2px rgba(60, 64, 67, 0.3), 0px 1px 3px 1px rgba(60, 64, 67, 0.15);\n",
              "      fill: #174EA6;\n",
              "    }\n",
              "\n",
              "    [theme=dark] .colab-df-convert {\n",
              "      background-color: #3B4455;\n",
              "      fill: #D2E3FC;\n",
              "    }\n",
              "\n",
              "    [theme=dark] .colab-df-convert:hover {\n",
              "      background-color: #434B5C;\n",
              "      box-shadow: 0px 1px 3px 1px rgba(0, 0, 0, 0.15);\n",
              "      filter: drop-shadow(0px 1px 2px rgba(0, 0, 0, 0.3));\n",
              "      fill: #FFFFFF;\n",
              "    }\n",
              "  </style>\n",
              "\n",
              "      <script>\n",
              "        const buttonEl =\n",
              "          document.querySelector('#df-0d6f2018-05a9-418f-8cfb-3d9879e43896 button.colab-df-convert');\n",
              "        buttonEl.style.display =\n",
              "          google.colab.kernel.accessAllowed ? 'block' : 'none';\n",
              "\n",
              "        async function convertToInteractive(key) {\n",
              "          const element = document.querySelector('#df-0d6f2018-05a9-418f-8cfb-3d9879e43896');\n",
              "          const dataTable =\n",
              "            await google.colab.kernel.invokeFunction('convertToInteractive',\n",
              "                                                     [key], {});\n",
              "          if (!dataTable) return;\n",
              "\n",
              "          const docLinkHtml = 'Like what you see? Visit the ' +\n",
              "            '<a target=\"_blank\" href=https://colab.research.google.com/notebooks/data_table.ipynb>data table notebook</a>'\n",
              "            + ' to learn more about interactive tables.';\n",
              "          element.innerHTML = '';\n",
              "          dataTable['output_type'] = 'display_data';\n",
              "          await google.colab.output.renderOutput(dataTable, element);\n",
              "          const docLink = document.createElement('div');\n",
              "          docLink.innerHTML = docLinkHtml;\n",
              "          element.appendChild(docLink);\n",
              "        }\n",
              "      </script>\n",
              "    </div>\n",
              "  </div>\n",
              "  "
            ]
          },
          "metadata": {},
          "execution_count": 11
        }
      ]
    },
    {
      "cell_type": "markdown",
      "source": [
        "We can see the correlation values, however making sense of the table by hand would take a lot of effort. Let's help ourselves with some formatting. Here we will use a [seaborn](https://seaborn.pydata.org/) library - it is a visualization tool based on the matplotlib. Usually you import seabron with an sns alias.\n"
      ],
      "metadata": {
        "id": "MGfxoWmhcGem"
      }
    },
    {
      "cell_type": "code",
      "source": [
        "import seaborn as sns\n",
        "#we are importing pyplot, just to change the size of the picture\n",
        "import matplotlib.pyplot as plt"
      ],
      "metadata": {
        "id": "NBZUoq0ta2w0"
      },
      "execution_count": null,
      "outputs": []
    },
    {
      "cell_type": "markdown",
      "source": [
        "The correlation heatmap is drawn with the (who would've guessed) [heatmap()](https://seaborn.pydata.org/generated/seaborn.heatmap.html) function. This drawing can be specified in detail, but the simpliest use just takes the correlation values as the first argument of the function (here we also use the [colormap](https://matplotlib.org/stable/tutorials/colors/colormaps.html) argument, which is optional)."
      ],
      "metadata": {
        "id": "pss1aDPwceUM"
      }
    },
    {
      "cell_type": "code",
      "source": [
        "#this just sets the size of a picture\n",
        "plt.figure(figsize=(10,8))\n",
        "#here we draw the heatmap\n",
        "sns.heatmap(wine_dataframe_normalized.corr(), cmap='YlOrRd')"
      ],
      "metadata": {
        "colab": {
          "base_uri": "https://localhost:8080/",
          "height": 649
        },
        "id": "UEkq-XzWcdxn",
        "outputId": "6e1c7c9d-9ae3-4eaf-d393-0aef02a9a3fc"
      },
      "execution_count": null,
      "outputs": [
        {
          "output_type": "execute_result",
          "data": {
            "text/plain": [
              "<Axes: >"
            ]
          },
          "metadata": {},
          "execution_count": 131
        },
        {
          "output_type": "display_data",
          "data": {
            "text/plain": [
              "<Figure size 720x576 with 2 Axes>"
            ],
            "image/png": "[encoded data removed]"
          },
          "metadata": {
            "needs_background": "light"
          }
        }
      ]
    },
    {
      "cell_type": "markdown",
      "source": [
        "Notice, that the correlation values don't change if we do not apply normalization schema."
      ],
      "metadata": {
        "id": "wI5yBhzvg3z3"
      }
    },
    {
      "cell_type": "code",
      "source": [
        "#this just sets the size of a picture\n",
        "plt.figure(figsize=(10,8))\n",
        "#here we draw the heatmap\n",
        "sns.heatmap(wine_dataframe.corr(), cmap='YlOrRd')"
      ],
      "metadata": {
        "colab": {
          "base_uri": "https://localhost:8080/",
          "height": 649
        },
        "id": "KpXovZA6gyzL",
        "outputId": "47958eba-d183-4536-c0ce-55947a4bc89d"
      },
      "execution_count": null,
      "outputs": [
        {
          "output_type": "execute_result",
          "data": {
            "text/plain": [
              "<Axes: >"
            ]
          },
          "metadata": {},
          "execution_count": 134
        },
        {
          "output_type": "display_data",
          "data": {
            "text/plain": [
              "<Figure size 720x576 with 2 Axes>"
            ],
            "image/png": "[encoded data removed]"
          },
          "metadata": {
            "needs_background": "light"
          }
        }
      ]
    },
    {
      "cell_type": "markdown",
      "source": [
        "We observe a large number of strong correlations, but the features `total_phenols` and `flavanoids` stick out as very strongly correlated and thus are very likely redundant. Whenever we encounter two variables, which are very strongly correlated we can get rid of one of them. It is also useful to add the target values to the correlation analysis, we usually pick the feature, which has a stronger correlation with the target value.\n",
        "\n",
        "Let's go to the `supervised` feature scores. We can calculate the absolute values of the scores directly with use of the specific implementation ([chi2](https://scikit-learn.org/stable/modules/generated/sklearn.feature_selection.chi2.html#sklearn.feature_selection.chi2), [f_classif](https://scikit-learn.org/stable/modules/generated/sklearn.feature_selection.f_classif.html#sklearn.feature_selection.f_classif) ,[mutual_info_classif](https://scikit-learn.org/stable/modules/generated/sklearn.feature_selection.mutual_info_classif.html#sklearn.feature_selection.mutual_info_classif), [f_regression](https://scikit-learn.org/stable/modules/generated/sklearn.feature_selection.f_regression.html#sklearn.feature_selection.f_regression)). The function either returns the score for each feature or the set of scores and [p-values](https://en.wikipedia.org/wiki/P-value). We are not going to use p-values here."
      ],
      "metadata": {
        "id": "LSVey7T4d0CJ"
      }
    },
    {
      "cell_type": "code",
      "source": [
        "from sklearn.feature_selection import f_regression, chi2, f_classif, mutual_info_classif\n",
        "\n",
        "scores_regression, p_vals_reg = f_regression(wine_dataframe_normalized, wine.target)\n",
        "scores_chi2, p_vals_chi2 = chi2(wine_dataframe_normalized, wine.target)\n",
        "scores_anova, p_vals_anova = f_classif(wine_dataframe_normalized, wine.target)\n",
        "scores_mi = mutual_info_classif(wine_dataframe_normalized, wine.target)\n",
        "pd.DataFrame(scores_regression, wine.feature_names).plot(kind='barh', title='Regression')\n",
        "pd.DataFrame(scores_chi2, wine.feature_names).plot(kind='barh', title='Chi squared')\n",
        "pd.DataFrame(scores_anova, wine.feature_names).plot(kind='barh', title='ANOVA')\n",
        "pd.DataFrame(scores_mi, wine.feature_names).plot(kind='barh', title='Mutual Information')\n",
        "\n"
      ],
      "metadata": {
        "colab": {
          "base_uri": "https://localhost:8080/",
          "height": 1000
        },
        "id": "4Sd0G_zXdzMj",
        "outputId": "20b41716-0c34-4c0c-d20e-b18a18d091a3"
      },
      "execution_count": 14,
      "outputs": [
        {
          "output_type": "execute_result",
          "data": {
            "text/plain": [
              "<Axes: title={'center': 'Mutual Information'}>"
            ]
          },
          "metadata": {},
          "execution_count": 14
        },
        {
          "output_type": "display_data",
          "data": {
            "text/plain": [
              "<Figure size 432x288 with 1 Axes>"
            ],
            "image/png": "[encoded data removed]"
          },
          "metadata": {
            "needs_background": "light"
          }
        },
        {
          "output_type": "display_data",
          "data": {
            "text/plain": [
              "<Figure size 432x288 with 1 Axes>"
            ],
            "image/png": "[encoded data removed]"
          },
          "metadata": {
            "needs_background": "light"
          }
        },
        {
          "output_type": "display_data",
          "data": {
            "text/plain": [
              "<Figure size 432x288 with 1 Axes>"
            ],
            "image/png": "[encoded data removed]"
          },
          "metadata": {
            "needs_background": "light"
          }
        },
        {
          "output_type": "display_data",
          "data": {
            "text/plain": [
              "<Figure size 432x288 with 1 Axes>"
            ],
            "image/png": "[encoded data removed]"
          },
          "metadata": {
            "needs_background": "light"
          }
        }
      ]
    },
    {
      "cell_type": "markdown",
      "source": [
        "Now the scores can be used to get the best performing features. Here we can either use [SelectKBest](https://scikit-learn.org/stable/modules/generated/sklearn.feature_selection.SelectKBest.html) class, optionally combined with SelectFpr, SelectFdr or SelectFwe functions, or the [GenericUnivariateSelect](https://scikit-learn.org/stable/modules/generated/sklearn.feature_selection.GenericUnivariateSelect.html#sklearn.feature_selection.GenericUnivariateSelect) class. The FPR, FDR and FWE stand for False Positive Rate test, False Discovery Rate test and Family-Wise Error. Selecting a proper strategy is related to the task at hand. There are 4 possible strategies to choose from:\n",
        " - KBest - simply choose the best performing features,\n",
        " - False positive rate: is the probability of falsely rejecting the null hypothesis (https://en.wikipedia.org/wiki/False_positive_rate),\n",
        " - False discovery rate: is the expected rate of false rejections from all discoveries, i.e. all rejected hypotheses (https://en.wikipedia.org/wiki/False_discovery_rate),\n",
        " - Family wise error rate: is the probability of incurring at least one false positive among all discoveries (https://en.wikipedia.org/wiki/Family-wise_error_rate)\n",
        "\n",
        " The KBest strategy is simple. The other strategies use an intermediate value calculated with a specific test (based on p-value and number of samples). We cannot say a priori which of the strategies is going to perform better.\n",
        " - fpr chooses all features whose p-values are below a threshold, thus controlling the false positive rate of selection.\n",
        " - fdr uses the Benjamini-Hochberg procedure to choose all features whose false discovery rate is below a threshold.\n",
        " - fwe chooses all features whose p-values are below a threshold. The threshold is scaled by 1/numFeatures, thus controlling the family-wise error rate of selection.\n",
        "\n",
        "\n",
        " Examples below."
      ],
      "metadata": {
        "id": "fCfKQ7P5pReH"
      }
    },
    {
      "cell_type": "code",
      "source": [
        "from sklearn.feature_selection import GenericUnivariateSelect\n",
        "\n",
        "gus_object = GenericUnivariateSelect(chi2, mode='k_best', param=5)\n",
        "\n",
        "new_data = gus_object.fit_transform(wine_dataframe_normalized,wine.target)\n",
        "new_dataframe = pd.DataFrame(new_data, columns=gus_object.get_feature_names_out())\n",
        "\n",
        "# here we are picking the 1st and 2nd column from the dataframe and take just the values which correspond to each class of the wine\n",
        "# we draw the samples from the first class in red, 2nd in green and 3rd in blue\n",
        "# the easier it is to separate the samples, the better features we picked\n",
        "# here we plot the second and third best features\n",
        "plt.plot(new_dataframe[new_dataframe.columns[1]][wine.target==0],new_dataframe[new_dataframe.columns[2]][wine.target==0], 'r.')\n",
        "plt.plot(new_dataframe[new_dataframe.columns[1]][wine.target==1],new_dataframe[new_dataframe.columns[2]][wine.target==1], 'g.')\n",
        "plt.plot(new_dataframe[new_dataframe.columns[1]][wine.target==2],new_dataframe[new_dataframe.columns[2]][wine.target==2], 'b.')\n",
        "plt.xlabel(gus_object.get_feature_names_out()[1])\n",
        "plt.ylabel(gus_object.get_feature_names_out()[2])\n",
        "plt.show()\n"
      ],
      "metadata": {
        "colab": {
          "base_uri": "https://localhost:8080/",
          "height": 279
        },
        "id": "5yFZvhvbh6T3",
        "outputId": "4673aee5-d484-48ce-c6d2-c126f235cf6c"
      },
      "execution_count": 15,
      "outputs": [
        {
          "output_type": "display_data",
          "data": {
            "text/plain": [
              "<Figure size 432x288 with 1 Axes>"
            ],
            "image/png": "[encoded data removed]"
          },
          "metadata": {
            "needs_background": "light"
          }
        }
      ]
    },
    {
      "cell_type": "code",
      "execution_count": null,
      "metadata": {
        "ExecuteTime": {
          "end_time": "2021-03-30T18:20:27.713768Z",
          "start_time": "2021-03-30T18:20:27.578974Z"
        },
        "colab": {
          "base_uri": "https://localhost:8080/",
          "height": 283
        },
        "id": "hcn7xt-2xB9x",
        "outputId": "2ec421f4-aca4-4491-f821-40c1ffaa83fc"
      },
      "outputs": [
        {
          "output_type": "display_data",
          "data": {
            "text/plain": [
              "<Figure size 432x288 with 1 Axes>"
            ],
            "image/png": "[encoded data removed]"
          },
          "metadata": {
            "needs_background": "light"
          }
        }
      ],
      "source": [
        "from sklearn.feature_selection import SelectKBest, f_regression\n",
        "\n",
        "skb_object = SelectKBest(f_regression, k=2)\n",
        "wine_new = skb_object.fit_transform(wine_dataframe, wine.target)\n",
        "\n",
        "feature1 = wine_new[:, 0]\n",
        "feature2 = wine_new[:, 1]\n",
        "\n",
        "#here we are drawing each sample with a different color\n",
        "#the easier it is to separate the classes, the better is the performance of the picked features\n",
        "plt.plot(feature1[wine.target==0], feature2[wine.target==0], 'r.')\n",
        "plt.plot(feature1[wine.target==1], feature2[wine.target==1], 'g.')\n",
        "plt.plot(feature1[wine.target==2], feature2[wine.target==2], 'b.')\n",
        "plt.xlabel(skb_object.get_feature_names_out()[0])\n",
        "plt.ylabel(skb_object.get_feature_names_out()[1])\n",
        "plt.xlim([np.min(feature1)-1, np.max(feature1)+1])\n",
        "plt.ylim([np.min(feature2)-1, np.max(feature2)+1])\n",
        "plt.show()\n"
      ]
    },
    {
      "cell_type": "markdown",
      "metadata": {
        "id": "3myb9U_sxB9x"
      },
      "source": [
        "## Select features using linear regression and regularization"
      ]
    },
    {
      "cell_type": "markdown",
      "metadata": {
        "id": "J10nk82ExB9x"
      },
      "source": [
        "This method calculates usefulness of a feature on the basis of performed regression, or the classification process. The next example shows how to find the best 2 attributes to predict the type of wine using linear regression, where regression coefficients are regularized with L1. We will use the [SelectFromModel](http://scikit-learn.org/stable/modules/generated/sklearn.feature_selection.SelectFromModel.html#sklearn.feature_selection.SelectFromModel) class. Regularization is available through [LassoCV](http://scikit-learn.org/stable/modules/linear_model.html#lasso) class. In the example, the classification process is performed once. Then, we iteratively compare the feature importances with various values for threshold. You can fiddle with various types of classifiers."
      ]
    },
    {
      "cell_type": "code",
      "execution_count": 26,
      "metadata": {
        "ExecuteTime": {
          "end_time": "2021-03-30T18:23:29.687802Z",
          "start_time": "2021-03-30T18:23:29.488862Z"
        },
        "colab": {
          "base_uri": "https://localhost:8080/",
          "height": 1000
        },
        "id": "N8Zo8WRcxB9y",
        "outputId": "70f5e4a0-6a33-44d1-dcd9-5ff8002d5a7d"
      },
      "outputs": [
        {
          "output_type": "stream",
          "name": "stdout",
          "text": [
            "Threshold=0.15 Num features: 12, ['alcohol', 'malic_acid', 'ash', 'alcalinity_of_ash', 'total_phenols', 'flavanoids', 'nonflavanoid_phenols', 'proanthocyanins', 'color_intensity', 'hue', 'od280/od315_of_diluted_wines', 'proline']\n",
            "Threshold=0.20 Num features: 12, ['alcohol', 'malic_acid', 'ash', 'alcalinity_of_ash', 'total_phenols', 'flavanoids', 'nonflavanoid_phenols', 'proanthocyanins', 'color_intensity', 'hue', 'od280/od315_of_diluted_wines', 'proline']\n",
            "Threshold=0.25 Num features: 12, ['alcohol', 'malic_acid', 'ash', 'alcalinity_of_ash', 'total_phenols', 'flavanoids', 'nonflavanoid_phenols', 'proanthocyanins', 'color_intensity', 'hue', 'od280/od315_of_diluted_wines', 'proline']\n",
            "Threshold=0.30 Num features: 12, ['alcohol', 'malic_acid', 'ash', 'alcalinity_of_ash', 'total_phenols', 'flavanoids', 'nonflavanoid_phenols', 'proanthocyanins', 'color_intensity', 'hue', 'od280/od315_of_diluted_wines', 'proline']\n",
            "Threshold=0.35 Num features: 12, ['alcohol', 'malic_acid', 'ash', 'alcalinity_of_ash', 'total_phenols', 'flavanoids', 'nonflavanoid_phenols', 'proanthocyanins', 'color_intensity', 'hue', 'od280/od315_of_diluted_wines', 'proline']\n",
            "Threshold=0.40 Num features: 12, ['alcohol', 'malic_acid', 'ash', 'alcalinity_of_ash', 'total_phenols', 'flavanoids', 'nonflavanoid_phenols', 'proanthocyanins', 'color_intensity', 'hue', 'od280/od315_of_diluted_wines', 'proline']\n",
            "Threshold=0.45 Num features: 12, ['alcohol', 'malic_acid', 'ash', 'alcalinity_of_ash', 'total_phenols', 'flavanoids', 'nonflavanoid_phenols', 'proanthocyanins', 'color_intensity', 'hue', 'od280/od315_of_diluted_wines', 'proline']\n",
            "Threshold=0.50 Num features: 12, ['alcohol', 'malic_acid', 'ash', 'alcalinity_of_ash', 'total_phenols', 'flavanoids', 'nonflavanoid_phenols', 'proanthocyanins', 'color_intensity', 'hue', 'od280/od315_of_diluted_wines', 'proline']\n",
            "Threshold=0.55 Num features: 12, ['alcohol', 'malic_acid', 'ash', 'alcalinity_of_ash', 'total_phenols', 'flavanoids', 'nonflavanoid_phenols', 'proanthocyanins', 'color_intensity', 'hue', 'od280/od315_of_diluted_wines', 'proline']\n",
            "Threshold=0.60 Num features: 12, ['alcohol', 'malic_acid', 'ash', 'alcalinity_of_ash', 'total_phenols', 'flavanoids', 'nonflavanoid_phenols', 'proanthocyanins', 'color_intensity', 'hue', 'od280/od315_of_diluted_wines', 'proline']\n",
            "Threshold=0.65 Num features: 11, ['alcohol', 'malic_acid', 'ash', 'alcalinity_of_ash', 'total_phenols', 'flavanoids', 'proanthocyanins', 'color_intensity', 'hue', 'od280/od315_of_diluted_wines', 'proline']\n",
            "Threshold=0.70 Num features: 11, ['alcohol', 'malic_acid', 'ash', 'alcalinity_of_ash', 'total_phenols', 'flavanoids', 'proanthocyanins', 'color_intensity', 'hue', 'od280/od315_of_diluted_wines', 'proline']\n",
            "Threshold=0.75 Num features: 10, ['alcohol', 'malic_acid', 'ash', 'alcalinity_of_ash', 'flavanoids', 'proanthocyanins', 'color_intensity', 'hue', 'od280/od315_of_diluted_wines', 'proline']\n",
            "Threshold=0.80 Num features: 9, ['alcohol', 'malic_acid', 'ash', 'alcalinity_of_ash', 'flavanoids', 'color_intensity', 'hue', 'od280/od315_of_diluted_wines', 'proline']\n",
            "Threshold=0.85 Num features: 9, ['alcohol', 'malic_acid', 'ash', 'alcalinity_of_ash', 'flavanoids', 'color_intensity', 'hue', 'od280/od315_of_diluted_wines', 'proline']\n",
            "Threshold=0.90 Num features: 9, ['alcohol', 'malic_acid', 'ash', 'alcalinity_of_ash', 'flavanoids', 'color_intensity', 'hue', 'od280/od315_of_diluted_wines', 'proline']\n",
            "Threshold=0.95 Num features: 9, ['alcohol', 'malic_acid', 'ash', 'alcalinity_of_ash', 'flavanoids', 'color_intensity', 'hue', 'od280/od315_of_diluted_wines', 'proline']\n",
            "Threshold=1.00 Num features: 9, ['alcohol', 'malic_acid', 'ash', 'alcalinity_of_ash', 'flavanoids', 'color_intensity', 'hue', 'od280/od315_of_diluted_wines', 'proline']\n",
            "Threshold=1.05 Num features: 9, ['alcohol', 'malic_acid', 'ash', 'alcalinity_of_ash', 'flavanoids', 'color_intensity', 'hue', 'od280/od315_of_diluted_wines', 'proline']\n",
            "Threshold=1.10 Num features: 9, ['alcohol', 'malic_acid', 'ash', 'alcalinity_of_ash', 'flavanoids', 'color_intensity', 'hue', 'od280/od315_of_diluted_wines', 'proline']\n",
            "Threshold=1.15 Num features: 9, ['alcohol', 'malic_acid', 'ash', 'alcalinity_of_ash', 'flavanoids', 'color_intensity', 'hue', 'od280/od315_of_diluted_wines', 'proline']\n",
            "Threshold=1.20 Num features: 9, ['alcohol', 'malic_acid', 'ash', 'alcalinity_of_ash', 'flavanoids', 'color_intensity', 'hue', 'od280/od315_of_diluted_wines', 'proline']\n",
            "Threshold=1.25 Num features: 8, ['alcohol', 'ash', 'alcalinity_of_ash', 'flavanoids', 'color_intensity', 'hue', 'od280/od315_of_diluted_wines', 'proline']\n",
            "Threshold=1.30 Num features: 8, ['alcohol', 'ash', 'alcalinity_of_ash', 'flavanoids', 'color_intensity', 'hue', 'od280/od315_of_diluted_wines', 'proline']\n",
            "Threshold=1.35 Num features: 8, ['alcohol', 'ash', 'alcalinity_of_ash', 'flavanoids', 'color_intensity', 'hue', 'od280/od315_of_diluted_wines', 'proline']\n",
            "Threshold=1.40 Num features: 8, ['alcohol', 'ash', 'alcalinity_of_ash', 'flavanoids', 'color_intensity', 'hue', 'od280/od315_of_diluted_wines', 'proline']\n",
            "Threshold=1.45 Num features: 8, ['alcohol', 'ash', 'alcalinity_of_ash', 'flavanoids', 'color_intensity', 'hue', 'od280/od315_of_diluted_wines', 'proline']\n",
            "Threshold=1.50 Num features: 7, ['alcohol', 'ash', 'alcalinity_of_ash', 'flavanoids', 'color_intensity', 'od280/od315_of_diluted_wines', 'proline']\n",
            "Threshold=1.55 Num features: 6, ['alcohol', 'ash', 'alcalinity_of_ash', 'flavanoids', 'color_intensity', 'proline']\n",
            "Threshold=1.60 Num features: 6, ['alcohol', 'ash', 'alcalinity_of_ash', 'flavanoids', 'color_intensity', 'proline']\n",
            "Threshold=1.65 Num features: 6, ['alcohol', 'ash', 'alcalinity_of_ash', 'flavanoids', 'color_intensity', 'proline']\n",
            "Threshold=1.70 Num features: 6, ['alcohol', 'ash', 'alcalinity_of_ash', 'flavanoids', 'color_intensity', 'proline']\n",
            "Threshold=1.75 Num features: 6, ['alcohol', 'ash', 'alcalinity_of_ash', 'flavanoids', 'color_intensity', 'proline']\n",
            "Threshold=1.80 Num features: 6, ['alcohol', 'ash', 'alcalinity_of_ash', 'flavanoids', 'color_intensity', 'proline']\n",
            "Threshold=1.85 Num features: 6, ['alcohol', 'ash', 'alcalinity_of_ash', 'flavanoids', 'color_intensity', 'proline']\n",
            "Threshold=1.90 Num features: 6, ['alcohol', 'ash', 'alcalinity_of_ash', 'flavanoids', 'color_intensity', 'proline']\n",
            "Threshold=1.95 Num features: 6, ['alcohol', 'ash', 'alcalinity_of_ash', 'flavanoids', 'color_intensity', 'proline']\n",
            "Threshold=2.00 Num features: 6, ['alcohol', 'ash', 'alcalinity_of_ash', 'flavanoids', 'color_intensity', 'proline']\n",
            "Threshold=2.05 Num features: 6, ['alcohol', 'ash', 'alcalinity_of_ash', 'flavanoids', 'color_intensity', 'proline']\n",
            "Threshold=2.10 Num features: 6, ['alcohol', 'ash', 'alcalinity_of_ash', 'flavanoids', 'color_intensity', 'proline']\n",
            "Threshold=2.15 Num features: 6, ['alcohol', 'ash', 'alcalinity_of_ash', 'flavanoids', 'color_intensity', 'proline']\n",
            "Threshold=2.20 Num features: 6, ['alcohol', 'ash', 'alcalinity_of_ash', 'flavanoids', 'color_intensity', 'proline']\n",
            "Threshold=2.25 Num features: 6, ['alcohol', 'ash', 'alcalinity_of_ash', 'flavanoids', 'color_intensity', 'proline']\n",
            "Threshold=2.30 Num features: 6, ['alcohol', 'ash', 'alcalinity_of_ash', 'flavanoids', 'color_intensity', 'proline']\n",
            "Threshold=2.35 Num features: 6, ['alcohol', 'ash', 'alcalinity_of_ash', 'flavanoids', 'color_intensity', 'proline']\n",
            "Threshold=2.40 Num features: 6, ['alcohol', 'ash', 'alcalinity_of_ash', 'flavanoids', 'color_intensity', 'proline']\n",
            "Threshold=2.45 Num features: 6, ['alcohol', 'ash', 'alcalinity_of_ash', 'flavanoids', 'color_intensity', 'proline']\n",
            "Threshold=2.50 Num features: 6, ['alcohol', 'ash', 'alcalinity_of_ash', 'flavanoids', 'color_intensity', 'proline']\n",
            "Threshold=2.55 Num features: 5, ['alcohol', 'ash', 'flavanoids', 'color_intensity', 'proline']\n",
            "Threshold=2.60 Num features: 4, ['ash', 'flavanoids', 'color_intensity', 'proline']\n",
            "Threshold=2.65 Num features: 4, ['ash', 'flavanoids', 'color_intensity', 'proline']\n",
            "Threshold=2.70 Num features: 4, ['ash', 'flavanoids', 'color_intensity', 'proline']\n",
            "Threshold=2.75 Num features: 4, ['ash', 'flavanoids', 'color_intensity', 'proline']\n",
            "Threshold=2.80 Num features: 4, ['ash', 'flavanoids', 'color_intensity', 'proline']\n",
            "Threshold=2.85 Num features: 4, ['ash', 'flavanoids', 'color_intensity', 'proline']\n",
            "Threshold=2.90 Num features: 3, ['ash', 'flavanoids', 'proline']\n",
            "Threshold=2.95 Num features: 3, ['ash', 'flavanoids', 'proline']\n",
            "Threshold=3.00 Num features: 3, ['ash', 'flavanoids', 'proline']\n",
            "Threshold=3.05 Num features: 3, ['ash', 'flavanoids', 'proline']\n",
            "Threshold=3.10 Num features: 3, ['ash', 'flavanoids', 'proline']\n",
            "Threshold=3.15 Num features: 3, ['ash', 'flavanoids', 'proline']\n",
            "Threshold=3.20 Num features: 3, ['ash', 'flavanoids', 'proline']\n",
            "Threshold=3.25 Num features: 2, ['flavanoids', 'proline']\n"
          ]
        },
        {
          "output_type": "display_data",
          "data": {
            "text/plain": [
              "<Figure size 432x288 with 1 Axes>"
            ],
            "image/png": "[encoded data removed]"
          },
          "metadata": {
            "needs_background": "light"
          }
        }
      ],
      "source": [
        "from sklearn.feature_selection import SelectFromModel\n",
        "from sklearn.linear_model import Perceptron, LassoCV, SGDClassifier, RidgeClassifierCV\n",
        "\n",
        "# clf = Perceptron()\n",
        "# clf = SGDClassifier(penalty='l1', loss='log_loss')\n",
        "# clf = RidgeClassifierCV(cv=10)\n",
        "# clf = LassoCV(cv=10)\n",
        "\n",
        "sfm = SelectFromModel(clf, threshold=0.1)\n",
        "sfm.fit(wine_dataframe_normalized, wine.target)\n",
        "n_rows, n_features = sfm.transform(wine_dataframe_normalized).shape\n",
        "\n",
        "while n_features > 2:\n",
        "    sfm.threshold += 0.05\n",
        "    wine_new = sfm.transform(wine_dataframe_normalized)\n",
        "    n_rows, n_features = wine_new.shape\n",
        "    \n",
        "    feature_names = compress(wine_dataframe_normalized.columns, sfm.get_support())\n",
        "    print(f'Threshold={sfm.threshold:.2f} Num features: {n_features}, {list(feature_names)}')\n",
        "\n",
        "feature1 = wine_new[:, 0]\n",
        "feature2 = wine_new[:, 1]\n",
        "\n",
        "plt.plot(feature1[wine.target==0], feature2[wine.target==0], 'r.')\n",
        "plt.plot(feature1[wine.target==1], feature2[wine.target==1], 'g.')\n",
        "plt.plot(feature1[wine.target==2], feature2[wine.target==2], 'b.')\n",
        "plt.xlabel(sfm.get_feature_names_out()[0])\n",
        "plt.ylabel(sfm.get_feature_names_out()[1])\n",
        "plt.ylim([np.min(feature2)-0.1, np.max(feature2)+0.1])\n",
        "plt.xlim([np.min(feature1)-0.1, np.max(feature1)+0.1])\n",
        "plt.show()"
      ]
    },
    {
      "cell_type": "markdown",
      "metadata": {
        "id": "mz2cRjtpxB9y"
      },
      "source": [
        "## Recursive feature selection"
      ]
    },
    {
      "cell_type": "markdown",
      "metadata": {
        "id": "D82mVKaKxB9y"
      },
      "source": [
        "The last example involves the [Recursive Feature Extraction](https://scikit-learn.org/stable/modules/generated/sklearn.feature_selection.RFE.html#sklearn.feature_selection.RFE) class to perform greedy selection of the features by evaluating each subset of features on the dataset using a classifer/regressor."
      ]
    },
    {
      "cell_type": "code",
      "execution_count": null,
      "metadata": {
        "ExecuteTime": {
          "end_time": "2021-03-30T18:26:26.445570Z",
          "start_time": "2021-03-30T18:26:26.289832Z"
        },
        "colab": {
          "base_uri": "https://localhost:8080/",
          "height": 279
        },
        "id": "HT8NKVztxB9z",
        "outputId": "945a7026-3ce7-412a-945a-6850ed6ff50b"
      },
      "outputs": [
        {
          "output_type": "display_data",
          "data": {
            "text/plain": [
              "<Figure size 432x288 with 1 Axes>"
            ],
            "image/png": "[encoded data removed]"
          },
          "metadata": {
            "needs_background": "light"
          }
        }
      ],
      "source": [
        "from sklearn.feature_selection import RFE\n",
        "from sklearn.tree import DecisionTreeRegressor\n",
        "\n",
        "# object which will be used to score the current selection\n",
        "estimator = DecisionTreeRegressor()\n",
        "\n",
        "# object performing recursive feature selection\n",
        "selector = RFE(estimator, n_features_to_select=2, step=1)\n",
        "\n",
        "selector = selector.fit(wine.data, wine.target)\n",
        "\n",
        "boston_new = wine.data[:,selector.support_]\n",
        "\n",
        "feature1 = boston_new[:, 0]\n",
        "feature2 = boston_new[:, 1]\n",
        "\n",
        "plt.plot(feature1[wine.target==0], feature2[wine.target==0], 'r.')\n",
        "plt.plot(feature1[wine.target==1], feature2[wine.target==1], 'g.')\n",
        "plt.plot(feature1[wine.target==2], feature2[wine.target==2], 'b.')\n",
        "plt.xlabel(selector.get_feature_names_out()[0])\n",
        "plt.ylabel(selector.get_feature_names_out()[1])\n",
        "plt.ylim([np.min(feature2)-100, np.max(feature2)+100])\n",
        "plt.xlim([np.min(feature1)-1, np.max(feature1)+1])\n",
        "plt.show()"
      ]
    },
    {
      "cell_type": "code",
      "execution_count": null,
      "metadata": {
        "ExecuteTime": {
          "end_time": "2021-03-30T18:26:34.978850Z",
          "start_time": "2021-03-30T18:26:34.971616Z"
        },
        "colab": {
          "base_uri": "https://localhost:8080/"
        },
        "id": "kmPYo7HQxB9z",
        "outputId": "9103eb0d-3c77-439d-fe03-899ed6a91957"
      },
      "outputs": [
        {
          "output_type": "stream",
          "name": "stdout",
          "text": [
            "   alcohol: rank=4  selected=False\n",
            "malic_acid: rank=12 selected=False\n",
            "       ash: rank=11 selected=False\n",
            "alcalinity_of_ash: rank=9  selected=False\n",
            " magnesium: rank=10 selected=False\n",
            "total_phenols: rank=8  selected=False\n",
            "flavanoids: rank=1  selected=True\n",
            "nonflavanoid_phenols: rank=7  selected=False\n",
            "proanthocyanins: rank=6  selected=False\n",
            "color_intensity: rank=2  selected=False\n",
            "       hue: rank=3  selected=False\n",
            "od280/od315_of_diluted_wines: rank=5  selected=False\n",
            "   proline: rank=1  selected=True\n"
          ]
        }
      ],
      "source": [
        "for (attr, rank, selected) in zip(wine.feature_names, selector.ranking_, selector.support_):\n",
        "    print(f'{attr:>10}: rank={rank:<2} selected={selected}')"
      ]
    },
    {
      "cell_type": "markdown",
      "metadata": {
        "id": "nmeHciLXxB9z"
      },
      "source": [
        "# Exercise/Homework\n",
        "\n",
        "Use the [sklearn.datasets.make_classification()](http://scikit-learn.org/stable/modules/generated/sklearn.datasets.make_classification.html) function to create a synthetic dataset with 1000 instances and 20 features, where:\n",
        "\n",
        "* 5 features are information-rich\n",
        "* 5 features are superfluous\n",
        "* 5 features are duplicated \n",
        "\n",
        "Use any feature selection methods to select 5 most important attributes. Check if you can manage to discover these 5 truly information-rich features."
      ]
    }
  ],
  "metadata": {
    "kernelspec": {
      "display_name": "Python 3",
      "language": "python",
      "name": "python3"
    },
    "language_info": {
      "codemirror_mode": {
        "name": "ipython",
        "version": 3
      },
      "file_extension": ".py",
      "mimetype": "text/x-python",
      "name": "python",
      "nbconvert_exporter": "python",
      "pygments_lexer": "ipython3",
      "version": "3.8.5"
    },
    "toc": {
      "base_numbering": 1,
      "nav_menu": {},
      "number_sections": false,
      "sideBar": true,
      "skip_h1_title": false,
      "title_cell": "Table of Contents",
      "title_sidebar": "Contents",
      "toc_cell": false,
      "toc_position": {
        "height": "calc(100% - 180px)",
        "left": "10px",
        "top": "150px",
        "width": "357.865px"
      },
      "toc_section_display": true,
      "toc_window_display": false
    },
    "varInspector": {
      "cols": {
        "lenName": 16,
        "lenType": 16,
        "lenVar": 40
      },
      "kernels_config": {
        "python": {
          "delete_cmd_postfix": "",
          "delete_cmd_prefix": "del ",
          "library": "var_list.py",
          "varRefreshCmd": "print(var_dic_list())"
        },
        "r": {
          "delete_cmd_postfix": ") ",
          "delete_cmd_prefix": "rm(",
          "library": "var_list.r",
          "varRefreshCmd": "cat(var_dic_list()) "
        }
      },
      "types_to_exclude": [
        "module",
        "function",
        "builtin_function_or_method",
        "instance",
        "_Feature"
      ],
      "window_display": false
    },
    "colab": {
      "provenance": []
    }
  },
  "nbformat": 4,
  "nbformat_minor": 0
}